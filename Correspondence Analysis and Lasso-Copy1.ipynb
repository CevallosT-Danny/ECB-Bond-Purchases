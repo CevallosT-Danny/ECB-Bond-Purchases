{
 "cells": [
  {
   "cell_type": "code",
   "execution_count": 2,
   "id": "004d67e9",
   "metadata": {
    "ExecuteTime": {
     "end_time": "2021-05-18T08:36:10.539096Z",
     "start_time": "2021-05-18T08:35:58.791669Z"
    }
   },
   "outputs": [
    {
     "ename": "ModuleNotFoundError",
     "evalue": "No module named 'MDA_Data_preparation'",
     "output_type": "error",
     "traceback": [
      "\u001b[1;31m---------------------------------------------------------------------------\u001b[0m",
      "\u001b[1;31mModuleNotFoundError\u001b[0m                       Traceback (most recent call last)",
      "\u001b[1;32m<ipython-input-2-dd097e8df757>\u001b[0m in \u001b[0;36m<module>\u001b[1;34m\u001b[0m\n\u001b[1;32m----> 1\u001b[1;33m \u001b[1;32mfrom\u001b[0m \u001b[0mMDA_Data_preparation\u001b[0m \u001b[1;32mimport\u001b[0m \u001b[0mdf\u001b[0m\u001b[1;33m,\u001b[0m \u001b[0mdf_s\u001b[0m\u001b[1;33m,\u001b[0m \u001b[0mdf_s1\u001b[0m\u001b[1;33m,\u001b[0m \u001b[0mdf_s2\u001b[0m\u001b[1;33m,\u001b[0m \u001b[0mb_ind\u001b[0m\u001b[1;33m,\u001b[0m \u001b[0mb_typ\u001b[0m\u001b[1;33m,\u001b[0m \u001b[0mdf_sm\u001b[0m\u001b[1;33m,\u001b[0m \u001b[0mcrosst\u001b[0m\u001b[1;33m,\u001b[0m \u001b[0mFactors\u001b[0m\u001b[1;33m,\u001b[0m \u001b[0mmca_ind\u001b[0m\u001b[1;33m\u001b[0m\u001b[1;33m\u001b[0m\u001b[0m\n\u001b[0m\u001b[0;32m      2\u001b[0m \u001b[1;32mimport\u001b[0m \u001b[0mmca\u001b[0m\u001b[1;33m\u001b[0m\u001b[1;33m\u001b[0m\u001b[0m\n\u001b[0;32m      3\u001b[0m \u001b[1;32mimport\u001b[0m \u001b[0mpandas\u001b[0m \u001b[1;32mas\u001b[0m \u001b[0mpd\u001b[0m\u001b[1;33m\u001b[0m\u001b[1;33m\u001b[0m\u001b[0m\n\u001b[0;32m      4\u001b[0m \u001b[1;32mimport\u001b[0m \u001b[0mnumpy\u001b[0m \u001b[1;32mas\u001b[0m \u001b[0mnp\u001b[0m\u001b[1;33m\u001b[0m\u001b[1;33m\u001b[0m\u001b[0m\n\u001b[0;32m      5\u001b[0m \u001b[1;32mfrom\u001b[0m \u001b[0mmatplotlib\u001b[0m  \u001b[1;32mimport\u001b[0m \u001b[0mdates\u001b[0m\u001b[1;33m\u001b[0m\u001b[1;33m\u001b[0m\u001b[0m\n",
      "\u001b[1;31mModuleNotFoundError\u001b[0m: No module named 'MDA_Data_preparation'"
     ]
    }
   ],
   "source": [
    "from MDA_Data_preparation import df, df_s, df_s1, df_s2, b_ind, b_typ, df_sm, crosst, Factors, mca_ind\n",
    "import mca\n",
    "import pandas as pd\n",
    "import numpy as np\n",
    "from matplotlib  import dates\n",
    "from sklearn import linear_model\n",
    "\n"
   ]
  },
  {
   "cell_type": "markdown",
   "id": "a967b76f",
   "metadata": {},
   "source": [
    "# Viewing data structure"
   ]
  },
  {
   "cell_type": "code",
   "execution_count": 3,
   "id": "bf267b66",
   "metadata": {
    "ExecuteTime": {
     "end_time": "2021-05-18T08:36:19.833814Z",
     "start_time": "2021-05-18T08:36:16.725116Z"
    }
   },
   "outputs": [
    {
     "data": {
      "text/html": [
       "<div>\n",
       "<style scoped>\n",
       "    .dataframe tbody tr th:only-of-type {\n",
       "        vertical-align: middle;\n",
       "    }\n",
       "\n",
       "    .dataframe tbody tr th {\n",
       "        vertical-align: top;\n",
       "    }\n",
       "\n",
       "    .dataframe thead th {\n",
       "        text-align: right;\n",
       "    }\n",
       "</style>\n",
       "<table border=\"1\" class=\"dataframe\">\n",
       "  <thead>\n",
       "    <tr style=\"text-align: right;\">\n",
       "      <th></th>\n",
       "      <th>company_name</th>\n",
       "      <th>company_description</th>\n",
       "      <th>relationship_to_bond</th>\n",
       "      <th>sector</th>\n",
       "      <th>industry</th>\n",
       "      <th>ISIN</th>\n",
       "      <th>bond_destination</th>\n",
       "      <th>coupon_rate</th>\n",
       "      <th>total_bond_amount</th>\n",
       "      <th>nominal_amount</th>\n",
       "      <th>quarter_created</th>\n",
       "      <th>year_created</th>\n",
       "      <th>maturity_date</th>\n",
       "      <th>bond_currency</th>\n",
       "      <th>country</th>\n",
       "      <th>status</th>\n",
       "      <th>stocks_info</th>\n",
       "      <th>bond_types</th>\n",
       "      <th>Floating rate</th>\n",
       "      <th>Foreign bonds</th>\n",
       "      <th>Green bonds</th>\n",
       "      <th>Securitization</th>\n",
       "      <th>Senior Secured</th>\n",
       "      <th>Senior Unsecured</th>\n",
       "      <th>Zero-coupon bonds</th>\n",
       "    </tr>\n",
       "  </thead>\n",
       "  <tbody>\n",
       "    <tr>\n",
       "      <th>0</th>\n",
       "      <td>2i rete gas</td>\n",
       "      <td>2i rete gas</td>\n",
       "      <td>Borrower</td>\n",
       "      <td>corporate</td>\n",
       "      <td>Public utilities</td>\n",
       "      <td>XS1088274169</td>\n",
       "      <td>International bonds</td>\n",
       "      <td>1.75%</td>\n",
       "      <td>362,793,000 EUR</td>\n",
       "      <td>1,000 EUR</td>\n",
       "      <td>Q2</td>\n",
       "      <td>2017</td>\n",
       "      <td>7/16/2019</td>\n",
       "      <td>EUR</td>\n",
       "      <td>Italy</td>\n",
       "      <td>Matured</td>\n",
       "      <td>Par amount, integral multiple</td>\n",
       "      <td>NaN</td>\n",
       "      <td>no</td>\n",
       "      <td>no</td>\n",
       "      <td>no</td>\n",
       "      <td>no</td>\n",
       "      <td>no</td>\n",
       "      <td>no</td>\n",
       "      <td>no</td>\n",
       "    </tr>\n",
       "    <tr>\n",
       "      <th>1</th>\n",
       "      <td>2i rete gas</td>\n",
       "      <td>2i rete gas</td>\n",
       "      <td>Borrower</td>\n",
       "      <td>corporate</td>\n",
       "      <td>Public utilities</td>\n",
       "      <td>XS1088274672</td>\n",
       "      <td>International bonds</td>\n",
       "      <td>3%</td>\n",
       "      <td>600,000,000 EUR</td>\n",
       "      <td>1,000 EUR</td>\n",
       "      <td>Q2</td>\n",
       "      <td>2017</td>\n",
       "      <td>7/16/2024</td>\n",
       "      <td>EUR</td>\n",
       "      <td>Italy</td>\n",
       "      <td>Outstanding</td>\n",
       "      <td>Par amount, integral multiple</td>\n",
       "      <td>Senior Unsecured</td>\n",
       "      <td>no</td>\n",
       "      <td>no</td>\n",
       "      <td>no</td>\n",
       "      <td>no</td>\n",
       "      <td>no</td>\n",
       "      <td>yes</td>\n",
       "      <td>no</td>\n",
       "    </tr>\n",
       "    <tr>\n",
       "      <th>2</th>\n",
       "      <td>2i rete gas</td>\n",
       "      <td>2i rete gas</td>\n",
       "      <td>Borrower</td>\n",
       "      <td>corporate</td>\n",
       "      <td>Public utilities</td>\n",
       "      <td>XS1144492532</td>\n",
       "      <td>International bonds</td>\n",
       "      <td>1.13%</td>\n",
       "      <td>267,100,000 EUR</td>\n",
       "      <td>1,000 EUR</td>\n",
       "      <td>Q2</td>\n",
       "      <td>2017</td>\n",
       "      <td>1/2/2020</td>\n",
       "      <td>EUR</td>\n",
       "      <td>Italy</td>\n",
       "      <td>Matured</td>\n",
       "      <td>Par amount, integral multiple</td>\n",
       "      <td>NaN</td>\n",
       "      <td>no</td>\n",
       "      <td>no</td>\n",
       "      <td>no</td>\n",
       "      <td>no</td>\n",
       "      <td>no</td>\n",
       "      <td>no</td>\n",
       "      <td>no</td>\n",
       "    </tr>\n",
       "  </tbody>\n",
       "</table>\n",
       "</div>"
      ],
      "text/plain": [
       "  company_name company_description relationship_to_bond     sector  \\\n",
       "0  2i rete gas         2i rete gas             Borrower  corporate   \n",
       "1  2i rete gas         2i rete gas             Borrower  corporate   \n",
       "2  2i rete gas         2i rete gas             Borrower  corporate   \n",
       "\n",
       "           industry          ISIN     bond_destination coupon_rate  \\\n",
       "0  Public utilities  XS1088274169  International bonds       1.75%   \n",
       "1  Public utilities  XS1088274672  International bonds          3%   \n",
       "2  Public utilities  XS1144492532  International bonds       1.13%   \n",
       "\n",
       "  total_bond_amount nominal_amount quarter_created  year_created  \\\n",
       "0   362,793,000 EUR      1,000 EUR              Q2          2017   \n",
       "1   600,000,000 EUR      1,000 EUR              Q2          2017   \n",
       "2   267,100,000 EUR      1,000 EUR              Q2          2017   \n",
       "\n",
       "  maturity_date bond_currency country       status  \\\n",
       "0     7/16/2019           EUR   Italy      Matured   \n",
       "1     7/16/2024           EUR   Italy  Outstanding   \n",
       "2      1/2/2020           EUR   Italy      Matured   \n",
       "\n",
       "                     stocks_info        bond_types Floating rate  \\\n",
       "0  Par amount, integral multiple               NaN            no   \n",
       "1  Par amount, integral multiple  Senior Unsecured            no   \n",
       "2  Par amount, integral multiple               NaN            no   \n",
       "\n",
       "  Foreign bonds Green bonds Securitization Senior Secured Senior Unsecured  \\\n",
       "0            no          no             no             no               no   \n",
       "1            no          no             no             no              yes   \n",
       "2            no          no             no             no               no   \n",
       "\n",
       "  Zero-coupon bonds  \n",
       "0                no  \n",
       "1                no  \n",
       "2                no  "
      ]
     },
     "execution_count": 3,
     "metadata": {},
     "output_type": "execute_result"
    }
   ],
   "source": [
    "df.head(n=3)"
   ]
  },
  {
   "cell_type": "code",
   "execution_count": 1,
   "id": "b896b1c9",
   "metadata": {
    "ExecuteTime": {
     "end_time": "2021-05-18T08:36:32.752858Z",
     "start_time": "2021-05-18T08:36:32.728865Z"
    }
   },
   "outputs": [
    {
     "ename": "NameError",
     "evalue": "name 'df_s' is not defined",
     "output_type": "error",
     "traceback": [
      "\u001b[1;31m---------------------------------------------------------------------------\u001b[0m",
      "\u001b[1;31mNameError\u001b[0m                                 Traceback (most recent call last)",
      "\u001b[1;32m<ipython-input-1-7374eb64a4c9>\u001b[0m in \u001b[0;36m<module>\u001b[1;34m\u001b[0m\n\u001b[0;32m      1\u001b[0m \u001b[1;31m# We select 9 specifyc variables for  analysis\u001b[0m\u001b[1;33m\u001b[0m\u001b[1;33m\u001b[0m\u001b[1;33m\u001b[0m\u001b[0m\n\u001b[1;32m----> 2\u001b[1;33m \u001b[0mdf_s\u001b[0m\u001b[1;33m.\u001b[0m\u001b[0mhead\u001b[0m\u001b[1;33m(\u001b[0m\u001b[0mn\u001b[0m\u001b[1;33m=\u001b[0m\u001b[1;36m3\u001b[0m\u001b[1;33m)\u001b[0m\u001b[1;33m\u001b[0m\u001b[1;33m\u001b[0m\u001b[0m\n\u001b[0m",
      "\u001b[1;31mNameError\u001b[0m: name 'df_s' is not defined"
     ]
    }
   ],
   "source": [
    "# We select 9 specifyc variables for  analysis\n",
    "df_s.head(n=3)"
   ]
  },
  {
   "cell_type": "markdown",
   "id": "df2c3486",
   "metadata": {},
   "source": [
    "We see there are 2,083 observations with bonds"
   ]
  },
  {
   "cell_type": "code",
   "execution_count": 5,
   "id": "b988edf6",
   "metadata": {
    "ExecuteTime": {
     "end_time": "2021-05-16T17:24:35.317035Z",
     "start_time": "2021-05-16T17:24:35.253908Z"
    }
   },
   "outputs": [
    {
     "data": {
      "text/html": [
       "<div>\n",
       "<style scoped>\n",
       "    .dataframe tbody tr th:only-of-type {\n",
       "        vertical-align: middle;\n",
       "    }\n",
       "\n",
       "    .dataframe tbody tr th {\n",
       "        vertical-align: top;\n",
       "    }\n",
       "\n",
       "    .dataframe thead th {\n",
       "        text-align: right;\n",
       "    }\n",
       "</style>\n",
       "<table border=\"1\" class=\"dataframe\">\n",
       "  <thead>\n",
       "    <tr style=\"text-align: right;\">\n",
       "      <th></th>\n",
       "      <th>industry</th>\n",
       "      <th>country</th>\n",
       "      <th>bond_types</th>\n",
       "      <th>ISIN</th>\n",
       "      <th>total_bond_amount</th>\n",
       "      <th>coupon_rate</th>\n",
       "      <th>nominal_amount</th>\n",
       "      <th>maturity_date</th>\n",
       "    </tr>\n",
       "  </thead>\n",
       "  <tbody>\n",
       "    <tr>\n",
       "      <th>count</th>\n",
       "      <td>2083</td>\n",
       "      <td>2083</td>\n",
       "      <td>1206</td>\n",
       "      <td>2083</td>\n",
       "      <td>2083</td>\n",
       "      <td>2083</td>\n",
       "      <td>2083</td>\n",
       "      <td>2083</td>\n",
       "    </tr>\n",
       "    <tr>\n",
       "      <th>unique</th>\n",
       "      <td>20</td>\n",
       "      <td>26</td>\n",
       "      <td>15</td>\n",
       "      <td>2055</td>\n",
       "      <td>209</td>\n",
       "      <td>168</td>\n",
       "      <td>9</td>\n",
       "      <td>1611</td>\n",
       "    </tr>\n",
       "    <tr>\n",
       "      <th>top</th>\n",
       "      <td>Power</td>\n",
       "      <td>France</td>\n",
       "      <td>Senior Unsecured</td>\n",
       "      <td>FR0014000C08</td>\n",
       "      <td>500,000,000 EUR</td>\n",
       "      <td>1%</td>\n",
       "      <td>1,000 EUR</td>\n",
       "      <td>4/7/2025</td>\n",
       "    </tr>\n",
       "    <tr>\n",
       "      <th>freq</th>\n",
       "      <td>346</td>\n",
       "      <td>562</td>\n",
       "      <td>922</td>\n",
       "      <td>10</td>\n",
       "      <td>587</td>\n",
       "      <td>118</td>\n",
       "      <td>1119</td>\n",
       "      <td>6</td>\n",
       "    </tr>\n",
       "  </tbody>\n",
       "</table>\n",
       "</div>"
      ],
      "text/plain": [
       "       industry country        bond_types          ISIN total_bond_amount  \\\n",
       "count      2083    2083              1206          2083              2083   \n",
       "unique       20      26                15          2055               209   \n",
       "top       Power  France  Senior Unsecured  FR0014000C08   500,000,000 EUR   \n",
       "freq        346     562               922            10               587   \n",
       "\n",
       "       coupon_rate nominal_amount maturity_date  \n",
       "count         2083           2083          2083  \n",
       "unique         168              9          1611  \n",
       "top             1%      1,000 EUR      4/7/2025  \n",
       "freq           118           1119             6  "
      ]
     },
     "execution_count": 5,
     "metadata": {},
     "output_type": "execute_result"
    }
   ],
   "source": [
    "df_s.describe(exclude=np.number)"
   ]
  },
  {
   "cell_type": "code",
   "execution_count": 6,
   "id": "0a18c6a6",
   "metadata": {
    "ExecuteTime": {
     "end_time": "2021-05-18T08:34:18.170360Z",
     "start_time": "2021-05-18T08:34:18.138360Z"
    }
   },
   "outputs": [
    {
     "data": {
      "text/plain": [
       "0.5789726356216994"
      ]
     },
     "execution_count": 6,
     "metadata": {},
     "output_type": "execute_result"
    }
   ],
   "source": [
    "1206/2083"
   ]
  },
  {
   "cell_type": "markdown",
   "id": "771c8abd",
   "metadata": {},
   "source": [
    "We see that only 58% of the bonds have assigned a \"bond type\". Since this characteristic is of importance to detect if the bank has helped or not the green economy, we will only use in the analysis bonds with a non-missing bond type, so we reduce our data set to these 1206 observations."
   ]
  },
  {
   "cell_type": "markdown",
   "id": "ee281454",
   "metadata": {},
   "source": [
    "- Number of bonds by industry"
   ]
  },
  {
   "cell_type": "code",
   "execution_count": 7,
   "id": "5e357eef",
   "metadata": {
    "ExecuteTime": {
     "end_time": "2021-05-16T12:41:30.528393Z",
     "start_time": "2021-05-16T12:41:30.515392Z"
    }
   },
   "outputs": [
    {
     "data": {
      "text/html": [
       "<div>\n",
       "<style scoped>\n",
       "    .dataframe tbody tr th:only-of-type {\n",
       "        vertical-align: middle;\n",
       "    }\n",
       "\n",
       "    .dataframe tbody tr th {\n",
       "        vertical-align: top;\n",
       "    }\n",
       "\n",
       "    .dataframe thead th {\n",
       "        text-align: right;\n",
       "    }\n",
       "</style>\n",
       "<table border=\"1\" class=\"dataframe\">\n",
       "  <thead>\n",
       "    <tr style=\"text-align: right;\">\n",
       "      <th></th>\n",
       "      <th>Non-ferrous metals</th>\n",
       "      <th>Ferrous metals</th>\n",
       "      <th>Pulp, paper and wood industries</th>\n",
       "      <th>Mining industry</th>\n",
       "      <th>Trade and retail</th>\n",
       "      <th>Media and Entertainment</th>\n",
       "      <th>Light industry</th>\n",
       "      <th>Other sectors</th>\n",
       "      <th>Public utilities</th>\n",
       "      <th>Information and High Technologies</th>\n",
       "      <th>Healthсare</th>\n",
       "      <th>Food industry</th>\n",
       "      <th>Transportation</th>\n",
       "      <th>Chemical and petrochemical industry</th>\n",
       "      <th>Communication</th>\n",
       "      <th>Oil and gas</th>\n",
       "      <th>Financial institutions</th>\n",
       "      <th>Construction and development</th>\n",
       "      <th>Engineering industry</th>\n",
       "      <th>Power</th>\n",
       "    </tr>\n",
       "  </thead>\n",
       "  <tbody>\n",
       "    <tr>\n",
       "      <th># Bonds</th>\n",
       "      <td>3</td>\n",
       "      <td>4</td>\n",
       "      <td>6</td>\n",
       "      <td>8</td>\n",
       "      <td>11</td>\n",
       "      <td>13</td>\n",
       "      <td>20</td>\n",
       "      <td>24</td>\n",
       "      <td>34</td>\n",
       "      <td>40</td>\n",
       "      <td>48</td>\n",
       "      <td>63</td>\n",
       "      <td>79</td>\n",
       "      <td>83</td>\n",
       "      <td>102</td>\n",
       "      <td>107</td>\n",
       "      <td>115</td>\n",
       "      <td>119</td>\n",
       "      <td>145</td>\n",
       "      <td>182</td>\n",
       "    </tr>\n",
       "  </tbody>\n",
       "</table>\n",
       "</div>"
      ],
      "text/plain": [
       "         Non-ferrous metals  Ferrous metals  Pulp, paper and wood industries  \\\n",
       "# Bonds                   3               4                                6   \n",
       "\n",
       "         Mining industry  Trade and retail  Media and Entertainment  \\\n",
       "# Bonds                8                11                       13   \n",
       "\n",
       "         Light industry  Other sectors  Public utilities  \\\n",
       "# Bonds              20             24                34   \n",
       "\n",
       "         Information and High Technologies  Healthсare  Food industry  \\\n",
       "# Bonds                                 40          48             63   \n",
       "\n",
       "         Transportation  Chemical and petrochemical industry  Communication  \\\n",
       "# Bonds              79                                   83            102   \n",
       "\n",
       "         Oil and gas  Financial institutions  Construction and development  \\\n",
       "# Bonds          107                     115                           119   \n",
       "\n",
       "         Engineering industry  Power  \n",
       "# Bonds                   145    182  "
      ]
     },
     "execution_count": 7,
     "metadata": {},
     "output_type": "execute_result"
    }
   ],
   "source": [
    "b_ind.T"
   ]
  },
  {
   "cell_type": "markdown",
   "id": "9ee17380",
   "metadata": {},
   "source": [
    "- Number of bonds by type of bond"
   ]
  },
  {
   "cell_type": "code",
   "execution_count": 8,
   "id": "b6640067",
   "metadata": {},
   "outputs": [
    {
     "data": {
      "text/html": [
       "<div>\n",
       "<style scoped>\n",
       "    .dataframe tbody tr th:only-of-type {\n",
       "        vertical-align: middle;\n",
       "    }\n",
       "\n",
       "    .dataframe tbody tr th {\n",
       "        vertical-align: top;\n",
       "    }\n",
       "\n",
       "    .dataframe thead th {\n",
       "        text-align: right;\n",
       "    }\n",
       "</style>\n",
       "<table border=\"1\" class=\"dataframe\">\n",
       "  <thead>\n",
       "    <tr style=\"text-align: right;\">\n",
       "      <th></th>\n",
       "      <th>Foreign bonds, Floating rate</th>\n",
       "      <th>Securitization</th>\n",
       "      <th>Green bonds, Senior Secured</th>\n",
       "      <th>Foreign bonds, Senior Unsecured</th>\n",
       "      <th>Zero-coupon bonds, Senior Secured</th>\n",
       "      <th>Green bonds, Zero-coupon bonds, Senior Unsecured</th>\n",
       "      <th>Foreign bonds</th>\n",
       "      <th>Senior Unsecured, Floating rate</th>\n",
       "      <th>Senior Secured</th>\n",
       "      <th>Green bonds</th>\n",
       "      <th>Zero-coupon bonds</th>\n",
       "      <th>Floating rate</th>\n",
       "      <th>Zero-coupon bonds, Senior Unsecured</th>\n",
       "      <th>Green bonds, Senior Unsecured</th>\n",
       "      <th>Senior Unsecured</th>\n",
       "    </tr>\n",
       "  </thead>\n",
       "  <tbody>\n",
       "    <tr>\n",
       "      <th># Bonds</th>\n",
       "      <td>1</td>\n",
       "      <td>1</td>\n",
       "      <td>2</td>\n",
       "      <td>2</td>\n",
       "      <td>2</td>\n",
       "      <td>4</td>\n",
       "      <td>6</td>\n",
       "      <td>11</td>\n",
       "      <td>21</td>\n",
       "      <td>32</td>\n",
       "      <td>39</td>\n",
       "      <td>39</td>\n",
       "      <td>45</td>\n",
       "      <td>79</td>\n",
       "      <td>922</td>\n",
       "    </tr>\n",
       "  </tbody>\n",
       "</table>\n",
       "</div>"
      ],
      "text/plain": [
       "         Foreign bonds, Floating rate  Securitization  \\\n",
       "# Bonds                             1               1   \n",
       "\n",
       "         Green bonds, Senior Secured  Foreign bonds, Senior Unsecured  \\\n",
       "# Bonds                            2                                2   \n",
       "\n",
       "         Zero-coupon bonds, Senior Secured  \\\n",
       "# Bonds                                  2   \n",
       "\n",
       "         Green bonds, Zero-coupon bonds, Senior Unsecured  Foreign bonds  \\\n",
       "# Bonds                                                 4              6   \n",
       "\n",
       "         Senior Unsecured, Floating rate  Senior Secured  Green bonds  \\\n",
       "# Bonds                               11              21           32   \n",
       "\n",
       "         Zero-coupon bonds  Floating rate  \\\n",
       "# Bonds                 39             39   \n",
       "\n",
       "         Zero-coupon bonds, Senior Unsecured  Green bonds, Senior Unsecured  \\\n",
       "# Bonds                                   45                             79   \n",
       "\n",
       "         Senior Unsecured  \n",
       "# Bonds               922  "
      ]
     },
     "execution_count": 8,
     "metadata": {},
     "output_type": "execute_result"
    }
   ],
   "source": [
    "b_typ.T"
   ]
  },
  {
   "cell_type": "markdown",
   "id": "8e21f6a9",
   "metadata": {},
   "source": [
    "We group industries with low observations and add them into the \"other sectors\" group. The purpose of this is to not draw assumptions from them in the correspondence analysis that are only based in a couple of observations. The same procedure is done for bond_types. Then, We visualize the frequency of each of the bond type by country, and the number of bonds per country. We will group countries which are similar and which have a very small number of bonds."
   ]
  },
  {
   "cell_type": "code",
   "execution_count": 9,
   "id": "976dc760",
   "metadata": {
    "ExecuteTime": {
     "end_time": "2021-05-18T08:43:32.167158Z",
     "start_time": "2021-05-18T08:43:31.999147Z"
    }
   },
   "outputs": [
    {
     "data": {
      "text/html": [
       "<div>\n",
       "<style scoped>\n",
       "    .dataframe tbody tr th:only-of-type {\n",
       "        vertical-align: middle;\n",
       "    }\n",
       "\n",
       "    .dataframe tbody tr th {\n",
       "        vertical-align: top;\n",
       "    }\n",
       "\n",
       "    .dataframe thead th {\n",
       "        text-align: right;\n",
       "    }\n",
       "</style>\n",
       "<table border=\"1\" class=\"dataframe\">\n",
       "  <thead>\n",
       "    <tr style=\"text-align: right;\">\n",
       "      <th>bond_types</th>\n",
       "      <th>Green bonds</th>\n",
       "      <th>Others</th>\n",
       "      <th>Senior Unsecured</th>\n",
       "      <th>Zero-coupon bonds</th>\n",
       "      <th>Total_bonds</th>\n",
       "    </tr>\n",
       "    <tr>\n",
       "      <th>country</th>\n",
       "      <th></th>\n",
       "      <th></th>\n",
       "      <th></th>\n",
       "      <th></th>\n",
       "      <th></th>\n",
       "    </tr>\n",
       "  </thead>\n",
       "  <tbody>\n",
       "    <tr>\n",
       "      <th>Germany</th>\n",
       "      <td>18</td>\n",
       "      <td>16</td>\n",
       "      <td>258</td>\n",
       "      <td>25</td>\n",
       "      <td>317</td>\n",
       "    </tr>\n",
       "    <tr>\n",
       "      <th>Netherlands</th>\n",
       "      <td>24</td>\n",
       "      <td>17</td>\n",
       "      <td>119</td>\n",
       "      <td>8</td>\n",
       "      <td>168</td>\n",
       "    </tr>\n",
       "    <tr>\n",
       "      <th>France</th>\n",
       "      <td>20</td>\n",
       "      <td>16</td>\n",
       "      <td>83</td>\n",
       "      <td>26</td>\n",
       "      <td>145</td>\n",
       "    </tr>\n",
       "    <tr>\n",
       "      <th>Italy</th>\n",
       "      <td>24</td>\n",
       "      <td>1</td>\n",
       "      <td>100</td>\n",
       "      <td>6</td>\n",
       "      <td>131</td>\n",
       "    </tr>\n",
       "    <tr>\n",
       "      <th>Spain</th>\n",
       "      <td>14</td>\n",
       "      <td>11</td>\n",
       "      <td>95</td>\n",
       "      <td>1</td>\n",
       "      <td>121</td>\n",
       "    </tr>\n",
       "    <tr>\n",
       "      <th>United Kingdom</th>\n",
       "      <td>0</td>\n",
       "      <td>4</td>\n",
       "      <td>60</td>\n",
       "      <td>5</td>\n",
       "      <td>69</td>\n",
       "    </tr>\n",
       "    <tr>\n",
       "      <th>Switzerland</th>\n",
       "      <td>1</td>\n",
       "      <td>4</td>\n",
       "      <td>55</td>\n",
       "      <td>7</td>\n",
       "      <td>67</td>\n",
       "    </tr>\n",
       "    <tr>\n",
       "      <th>USA</th>\n",
       "      <td>1</td>\n",
       "      <td>3</td>\n",
       "      <td>37</td>\n",
       "      <td>3</td>\n",
       "      <td>44</td>\n",
       "    </tr>\n",
       "    <tr>\n",
       "      <th>Finland</th>\n",
       "      <td>4</td>\n",
       "      <td>0</td>\n",
       "      <td>26</td>\n",
       "      <td>1</td>\n",
       "      <td>31</td>\n",
       "    </tr>\n",
       "    <tr>\n",
       "      <th>Ireland</th>\n",
       "      <td>1</td>\n",
       "      <td>1</td>\n",
       "      <td>23</td>\n",
       "      <td>0</td>\n",
       "      <td>25</td>\n",
       "    </tr>\n",
       "    <tr>\n",
       "      <th>Austria</th>\n",
       "      <td>3</td>\n",
       "      <td>0</td>\n",
       "      <td>20</td>\n",
       "      <td>2</td>\n",
       "      <td>25</td>\n",
       "    </tr>\n",
       "    <tr>\n",
       "      <th>Luxembourg</th>\n",
       "      <td>0</td>\n",
       "      <td>1</td>\n",
       "      <td>9</td>\n",
       "      <td>1</td>\n",
       "      <td>11</td>\n",
       "    </tr>\n",
       "    <tr>\n",
       "      <th>Portugal</th>\n",
       "      <td>2</td>\n",
       "      <td>0</td>\n",
       "      <td>5</td>\n",
       "      <td>1</td>\n",
       "      <td>8</td>\n",
       "    </tr>\n",
       "    <tr>\n",
       "      <th>Sweden</th>\n",
       "      <td>0</td>\n",
       "      <td>3</td>\n",
       "      <td>5</td>\n",
       "      <td>0</td>\n",
       "      <td>8</td>\n",
       "    </tr>\n",
       "    <tr>\n",
       "      <th>Czech Republic</th>\n",
       "      <td>1</td>\n",
       "      <td>0</td>\n",
       "      <td>6</td>\n",
       "      <td>0</td>\n",
       "      <td>7</td>\n",
       "    </tr>\n",
       "    <tr>\n",
       "      <th>Belgium</th>\n",
       "      <td>1</td>\n",
       "      <td>4</td>\n",
       "      <td>1</td>\n",
       "      <td>0</td>\n",
       "      <td>6</td>\n",
       "    </tr>\n",
       "    <tr>\n",
       "      <th>Denmark</th>\n",
       "      <td>0</td>\n",
       "      <td>0</td>\n",
       "      <td>6</td>\n",
       "      <td>0</td>\n",
       "      <td>6</td>\n",
       "    </tr>\n",
       "    <tr>\n",
       "      <th>Hong Kong</th>\n",
       "      <td>0</td>\n",
       "      <td>0</td>\n",
       "      <td>4</td>\n",
       "      <td>0</td>\n",
       "      <td>4</td>\n",
       "    </tr>\n",
       "    <tr>\n",
       "      <th>South Africa</th>\n",
       "      <td>0</td>\n",
       "      <td>0</td>\n",
       "      <td>4</td>\n",
       "      <td>0</td>\n",
       "      <td>4</td>\n",
       "    </tr>\n",
       "    <tr>\n",
       "      <th>Slovakia</th>\n",
       "      <td>0</td>\n",
       "      <td>0</td>\n",
       "      <td>3</td>\n",
       "      <td>0</td>\n",
       "      <td>3</td>\n",
       "    </tr>\n",
       "    <tr>\n",
       "      <th>Lithuania</th>\n",
       "      <td>2</td>\n",
       "      <td>0</td>\n",
       "      <td>1</td>\n",
       "      <td>0</td>\n",
       "      <td>3</td>\n",
       "    </tr>\n",
       "    <tr>\n",
       "      <th>Estonia</th>\n",
       "      <td>0</td>\n",
       "      <td>0</td>\n",
       "      <td>1</td>\n",
       "      <td>0</td>\n",
       "      <td>1</td>\n",
       "    </tr>\n",
       "    <tr>\n",
       "      <th>Romania</th>\n",
       "      <td>1</td>\n",
       "      <td>0</td>\n",
       "      <td>0</td>\n",
       "      <td>0</td>\n",
       "      <td>1</td>\n",
       "    </tr>\n",
       "    <tr>\n",
       "      <th>Bermuda</th>\n",
       "      <td>0</td>\n",
       "      <td>0</td>\n",
       "      <td>1</td>\n",
       "      <td>0</td>\n",
       "      <td>1</td>\n",
       "    </tr>\n",
       "  </tbody>\n",
       "</table>\n",
       "</div>"
      ],
      "text/plain": [
       "bond_types      Green bonds  Others  Senior Unsecured  Zero-coupon bonds  \\\n",
       "country                                                                    \n",
       "Germany                  18      16               258                 25   \n",
       "Netherlands              24      17               119                  8   \n",
       "France                   20      16                83                 26   \n",
       "Italy                    24       1               100                  6   \n",
       "Spain                    14      11                95                  1   \n",
       "United Kingdom            0       4                60                  5   \n",
       "Switzerland               1       4                55                  7   \n",
       "USA                       1       3                37                  3   \n",
       "Finland                   4       0                26                  1   \n",
       "Ireland                   1       1                23                  0   \n",
       "Austria                   3       0                20                  2   \n",
       "Luxembourg                0       1                 9                  1   \n",
       "Portugal                  2       0                 5                  1   \n",
       "Sweden                    0       3                 5                  0   \n",
       "Czech Republic            1       0                 6                  0   \n",
       "Belgium                   1       4                 1                  0   \n",
       "Denmark                   0       0                 6                  0   \n",
       "Hong Kong                 0       0                 4                  0   \n",
       "South Africa              0       0                 4                  0   \n",
       "Slovakia                  0       0                 3                  0   \n",
       "Lithuania                 2       0                 1                  0   \n",
       "Estonia                   0       0                 1                  0   \n",
       "Romania                   1       0                 0                  0   \n",
       "Bermuda                   0       0                 1                  0   \n",
       "\n",
       "bond_types      Total_bonds  \n",
       "country                      \n",
       "Germany                 317  \n",
       "Netherlands             168  \n",
       "France                  145  \n",
       "Italy                   131  \n",
       "Spain                   121  \n",
       "United Kingdom           69  \n",
       "Switzerland              67  \n",
       "USA                      44  \n",
       "Finland                  31  \n",
       "Ireland                  25  \n",
       "Austria                  25  \n",
       "Luxembourg               11  \n",
       "Portugal                  8  \n",
       "Sweden                    8  \n",
       "Czech Republic            7  \n",
       "Belgium                   6  \n",
       "Denmark                   6  \n",
       "Hong Kong                 4  \n",
       "South Africa              4  \n",
       "Slovakia                  3  \n",
       "Lithuania                 3  \n",
       "Estonia                   1  \n",
       "Romania                   1  \n",
       "Bermuda                   1  "
      ]
     },
     "execution_count": 9,
     "metadata": {},
     "output_type": "execute_result"
    }
   ],
   "source": [
    "crosst"
   ]
  },
  {
   "cell_type": "markdown",
   "id": "2c60e190",
   "metadata": {},
   "source": [
    "Number of bonds per country. We will group countries which are similar and which have a very small number of bonds."
   ]
  },
  {
   "cell_type": "code",
   "execution_count": 10,
   "id": "6c360e6d",
   "metadata": {
    "ExecuteTime": {
     "end_time": "2021-05-18T08:45:16.531382Z",
     "start_time": "2021-05-18T08:45:16.499364Z"
    }
   },
   "outputs": [
    {
     "data": {
      "text/plain": [
       "array(['Italy', 'Netherlands', 'Switzerland', 'Spain', 'BE_LU', 'Germany',\n",
       "       'France', 'Non_EU', 'Ireland', 'Finland', 'Portugal', 'LT_EE',\n",
       "       'Austria', 'United Kingdom', 'CZ_SK_RO', 'Sweden_Denmark'],\n",
       "      dtype=object)"
      ]
     },
     "execution_count": 10,
     "metadata": {},
     "output_type": "execute_result"
    }
   ],
   "source": [
    "df_sm[\"country\"].unique()"
   ]
  },
  {
   "cell_type": "markdown",
   "id": "42e54c98",
   "metadata": {},
   "source": [
    "# Correspondence Analysis\n",
    "\n",
    "We analyse the relationships between industry, country and type of a bond"
   ]
  },
  {
   "cell_type": "markdown",
   "id": "f65f4790",
   "metadata": {
    "ExecuteTime": {
     "end_time": "2021-05-18T08:48:54.488993Z",
     "start_time": "2021-05-18T08:48:54.472993Z"
    }
   },
   "source": [
    "We analyse the relationships between industry, country and type of a bond using a Correspondance Analysis. "
   ]
  },
  {
   "cell_type": "code",
   "execution_count": 18,
   "id": "28b6733a",
   "metadata": {
    "ExecuteTime": {
     "end_time": "2021-05-18T08:48:55.273078Z",
     "start_time": "2021-05-18T08:48:55.241077Z"
    }
   },
   "outputs": [
    {
     "name": "stdout",
     "output_type": "stream",
     "text": [
      "33\n"
     ]
    },
    {
     "data": {
      "text/plain": [
       "array([0.3207515 , 0.23278978, 0.22631755, 0.21719662, 0.19447777,\n",
       "       0.19188924, 0.16429584, 0.1502701 , 0.14970527, 0.12962739,\n",
       "       0.12716017, 0.11311926, 0.10796008, 0.10390522, 0.10143871,\n",
       "       0.09998701, 0.09745013, 0.09208797, 0.09178948, 0.08713953,\n",
       "       0.08576074, 0.07878654, 0.07071184, 0.06665637, 0.05928371,\n",
       "       0.05665613, 0.0478945 , 0.04145119, 0.03537978, 0.02829117,\n",
       "       0.02356498, 0.01994727, 0.01366035])"
      ]
     },
     "execution_count": 18,
     "metadata": {},
     "output_type": "execute_result"
    }
   ],
   "source": [
    "print(len(mca_ind.L)) #One factor for level\n",
    "mca_ind.L  #Eigenvalues/principal inertias of each of the factors"
   ]
  },
  {
   "cell_type": "markdown",
   "id": "2d592915",
   "metadata": {},
   "source": [
    "We compute the factors of each observation and for each dummy variable and plot the first 2 factors of the correspondence analysis, for each of the dummy variables"
   ]
  },
  {
   "cell_type": "code",
   "execution_count": 15,
   "id": "0d5543f2",
   "metadata": {
    "ExecuteTime": {
     "end_time": "2021-05-18T08:51:36.890072Z",
     "start_time": "2021-05-18T08:51:36.850108Z"
    }
   },
   "outputs": [
    {
     "data": {
      "text/html": [
       "<div>\n",
       "<style scoped>\n",
       "    .dataframe tbody tr th:only-of-type {\n",
       "        vertical-align: middle;\n",
       "    }\n",
       "\n",
       "    .dataframe tbody tr th {\n",
       "        vertical-align: top;\n",
       "    }\n",
       "\n",
       "    .dataframe thead th {\n",
       "        text-align: right;\n",
       "    }\n",
       "</style>\n",
       "<table border=\"1\" class=\"dataframe\">\n",
       "  <thead>\n",
       "    <tr style=\"text-align: right;\">\n",
       "      <th></th>\n",
       "      <th>industry_Chemical and petrochemical industry</th>\n",
       "      <th>industry_Communication</th>\n",
       "      <th>industry_Construction and development</th>\n",
       "      <th>industry_Engineering industry</th>\n",
       "      <th>industry_Financial institutions</th>\n",
       "      <th>industry_Food industry</th>\n",
       "      <th>industry_Healthсare</th>\n",
       "      <th>industry_Information and High Technologies</th>\n",
       "      <th>industry_Light industry</th>\n",
       "      <th>industry_Media and Entertainment</th>\n",
       "      <th>industry_Oil and gas</th>\n",
       "      <th>industry_Other sectors</th>\n",
       "      <th>industry_Power</th>\n",
       "      <th>industry_Public utilities</th>\n",
       "      <th>industry_Trade and retail</th>\n",
       "      <th>industry_Transportation</th>\n",
       "      <th>country_Austria</th>\n",
       "      <th>country_BE_LU</th>\n",
       "      <th>country_CZ_SK_RO</th>\n",
       "      <th>country_Finland</th>\n",
       "      <th>country_France</th>\n",
       "      <th>country_Germany</th>\n",
       "      <th>country_Ireland</th>\n",
       "      <th>country_Italy</th>\n",
       "      <th>country_LT_EE</th>\n",
       "      <th>country_Netherlands</th>\n",
       "      <th>country_Non_EU</th>\n",
       "      <th>country_Portugal</th>\n",
       "      <th>country_Spain</th>\n",
       "      <th>country_Sweden_Denmark</th>\n",
       "      <th>country_Switzerland</th>\n",
       "      <th>country_United Kingdom</th>\n",
       "      <th>bond_types_Green bonds</th>\n",
       "      <th>bond_types_Others</th>\n",
       "      <th>bond_types_Senior Unsecured</th>\n",
       "      <th>bond_types_Zero-coupon bonds</th>\n",
       "    </tr>\n",
       "  </thead>\n",
       "  <tbody>\n",
       "    <tr>\n",
       "      <th>Factor_1</th>\n",
       "      <td>-0.610791</td>\n",
       "      <td>0.123355</td>\n",
       "      <td>-0.132924</td>\n",
       "      <td>-0.400567</td>\n",
       "      <td>-0.193295</td>\n",
       "      <td>-0.838889</td>\n",
       "      <td>-0.758654</td>\n",
       "      <td>-0.334755</td>\n",
       "      <td>-0.458381</td>\n",
       "      <td>-0.744313</td>\n",
       "      <td>-0.0394232</td>\n",
       "      <td>-0.675016</td>\n",
       "      <td>1.27349</td>\n",
       "      <td>0.434626</td>\n",
       "      <td>0.121208</td>\n",
       "      <td>0.537349</td>\n",
       "      <td>0.0363928</td>\n",
       "      <td>-0.594649</td>\n",
       "      <td>0.455082</td>\n",
       "      <td>0.154708</td>\n",
       "      <td>0.0668438</td>\n",
       "      <td>-0.236016</td>\n",
       "      <td>0.582158</td>\n",
       "      <td>1.00801</td>\n",
       "      <td>2.64505</td>\n",
       "      <td>0.0123723</td>\n",
       "      <td>-0.61291</td>\n",
       "      <td>2.08136</td>\n",
       "      <td>0.384502</td>\n",
       "      <td>-0.497273</td>\n",
       "      <td>-0.990545</td>\n",
       "      <td>-0.755115</td>\n",
       "      <td>1.45759</td>\n",
       "      <td>-0.489941</td>\n",
       "      <td>-0.115363</td>\n",
       "      <td>-0.284742</td>\n",
       "    </tr>\n",
       "    <tr>\n",
       "      <th>Factor_2</th>\n",
       "      <td>0.530074</td>\n",
       "      <td>0.709542</td>\n",
       "      <td>-0.335301</td>\n",
       "      <td>0.139184</td>\n",
       "      <td>-0.0911403</td>\n",
       "      <td>-1.0993</td>\n",
       "      <td>-0.236551</td>\n",
       "      <td>0.295283</td>\n",
       "      <td>-0.557219</td>\n",
       "      <td>1.07937</td>\n",
       "      <td>0.737756</td>\n",
       "      <td>-1.44072</td>\n",
       "      <td>-0.355191</td>\n",
       "      <td>0.519728</td>\n",
       "      <td>0.179081</td>\n",
       "      <td>0.134675</td>\n",
       "      <td>0.781311</td>\n",
       "      <td>-1.25522</td>\n",
       "      <td>0.145441</td>\n",
       "      <td>-0.461607</td>\n",
       "      <td>-0.579055</td>\n",
       "      <td>0.276811</td>\n",
       "      <td>-0.260349</td>\n",
       "      <td>0.308002</td>\n",
       "      <td>-1.14368</td>\n",
       "      <td>-0.282168</td>\n",
       "      <td>0.441755</td>\n",
       "      <td>-0.914705</td>\n",
       "      <td>0.587139</td>\n",
       "      <td>-0.394273</td>\n",
       "      <td>-1.35848</td>\n",
       "      <td>0.554605</td>\n",
       "      <td>-0.570949</td>\n",
       "      <td>-0.560217</td>\n",
       "      <td>0.15921</td>\n",
       "      <td>-0.402475</td>\n",
       "    </tr>\n",
       "  </tbody>\n",
       "</table>\n",
       "</div>"
      ],
      "text/plain": [
       "         industry_Chemical and petrochemical industry industry_Communication  \\\n",
       "Factor_1                                    -0.610791               0.123355   \n",
       "Factor_2                                     0.530074               0.709542   \n",
       "\n",
       "         industry_Construction and development industry_Engineering industry  \\\n",
       "Factor_1                             -0.132924                     -0.400567   \n",
       "Factor_2                             -0.335301                      0.139184   \n",
       "\n",
       "         industry_Financial institutions industry_Food industry  \\\n",
       "Factor_1                       -0.193295              -0.838889   \n",
       "Factor_2                      -0.0911403                -1.0993   \n",
       "\n",
       "         industry_Healthсare industry_Information and High Technologies  \\\n",
       "Factor_1           -0.758654                                  -0.334755   \n",
       "Factor_2           -0.236551                                   0.295283   \n",
       "\n",
       "         industry_Light industry industry_Media and Entertainment  \\\n",
       "Factor_1               -0.458381                        -0.744313   \n",
       "Factor_2               -0.557219                          1.07937   \n",
       "\n",
       "         industry_Oil and gas industry_Other sectors industry_Power  \\\n",
       "Factor_1           -0.0394232              -0.675016        1.27349   \n",
       "Factor_2             0.737756               -1.44072      -0.355191   \n",
       "\n",
       "         industry_Public utilities industry_Trade and retail  \\\n",
       "Factor_1                  0.434626                  0.121208   \n",
       "Factor_2                  0.519728                  0.179081   \n",
       "\n",
       "         industry_Transportation country_Austria country_BE_LU  \\\n",
       "Factor_1                0.537349       0.0363928     -0.594649   \n",
       "Factor_2                0.134675        0.781311      -1.25522   \n",
       "\n",
       "         country_CZ_SK_RO country_Finland country_France country_Germany  \\\n",
       "Factor_1         0.455082        0.154708      0.0668438       -0.236016   \n",
       "Factor_2         0.145441       -0.461607      -0.579055        0.276811   \n",
       "\n",
       "         country_Ireland country_Italy country_LT_EE country_Netherlands  \\\n",
       "Factor_1        0.582158       1.00801       2.64505           0.0123723   \n",
       "Factor_2       -0.260349      0.308002      -1.14368           -0.282168   \n",
       "\n",
       "         country_Non_EU country_Portugal country_Spain country_Sweden_Denmark  \\\n",
       "Factor_1       -0.61291          2.08136      0.384502              -0.497273   \n",
       "Factor_2       0.441755        -0.914705      0.587139              -0.394273   \n",
       "\n",
       "         country_Switzerland country_United Kingdom bond_types_Green bonds  \\\n",
       "Factor_1           -0.990545              -0.755115                1.45759   \n",
       "Factor_2            -1.35848               0.554605              -0.570949   \n",
       "\n",
       "         bond_types_Others bond_types_Senior Unsecured  \\\n",
       "Factor_1         -0.489941                   -0.115363   \n",
       "Factor_2         -0.560217                     0.15921   \n",
       "\n",
       "         bond_types_Zero-coupon bonds  \n",
       "Factor_1                    -0.284742  \n",
       "Factor_2                    -0.402475  "
      ]
     },
     "execution_count": 15,
     "metadata": {},
     "output_type": "execute_result"
    }
   ],
   "source": [
    "Factors.T"
   ]
  },
  {
   "cell_type": "markdown",
   "id": "69961e2c",
   "metadata": {},
   "source": [
    "Plot of the first 2 factors of the correspondence analysis, for each of the dummy variables"
   ]
  },
  {
   "cell_type": "code",
   "execution_count": null,
   "id": "38cdcd34",
   "metadata": {
    "ExecuteTime": {
     "end_time": "2021-05-18T08:51:47.123063Z",
     "start_time": "2021-05-18T08:51:47.107155Z"
    }
   },
   "outputs": [],
   "source": [
    "labels=['Chem/Petro','Commun.', 'Construction','    Engineering', 'Financial','   Food', 'Healthсare',\n",
    "       'Technology', '    Light','Entertainment', '        Oil/Gas',' Others', 'Power', 'Public utilities',\n",
    "       'Trade', 'Trans.','AT', 'BE-LU', '    CZ-SK-RO','FI', 'FR', 'DE','IE', 'IT', 'LT-EE', 'NL', '  Non-EU',\n",
    "       'PT', 'ES', '    SE-DK','CH', '            UK','Green bonds', '      Others','Sr. Unsec.', 'Zero-coup.']"
   ]
  },
  {
   "cell_type": "code",
   "execution_count": null,
   "id": "5adfed29",
   "metadata": {
    "ExecuteTime": {
     "end_time": "2021-05-18T08:51:51.987864Z",
     "start_time": "2021-05-18T08:51:51.187764Z"
    }
   },
   "outputs": [],
   "source": [
    "plt.subplots(figsize=(20, 12))\n",
    "plt.scatter(Factors[\"Factor_1\"], Factors[\"Factor_2\"], s=[200]*16+[200]*16+[600]*4, color=[\"darkred\"]*16+[\"green\"]*16+[\"navy\"]*4) # c=Df_PCA_Biplot[\"Compound\"], vmin=-0.6, vmax=0.6,cmap = matplotlib.cm.get_cmap('jet_r')\n",
    "\n",
    "plt.ylabel(\"Factor 2\",size=40)\n",
    "plt.xlabel(\"Factor 1\",size=40)\n",
    "plt.title(\"Relationship between Bond Type, \\n Country and Industry\",size=60)\n",
    "\n",
    "for i, txt in enumerate(Factors.index):\n",
    "    if i>=32:\n",
    "        plt.annotate(labels[i], (Factors[\"Factor_1\"][i]-0.2, Factors[\"Factor_2\"][i]+0.07),size=23)\n",
    "    else:\n",
    "        plt.annotate(labels[i], (Factors[\"Factor_1\"][i], Factors[\"Factor_2\"][i]),size=20)\n",
    "        \n",
    "Bond_patch = mpatches.Patch(color='navy', label='Bond Types')\n",
    "Country_patch = mpatches.Patch(color='green', label='Countries')\n",
    "Industry_patch = mpatches.Patch(color='darkred', label='Industries')\n",
    "plt.legend(handles=[Bond_patch,Country_patch,Industry_patch], fontsize=30,loc=\"lower left\")\n",
    "\n",
    "plt.show()"
   ]
  },
  {
   "cell_type": "markdown",
   "id": "05fc3372",
   "metadata": {},
   "source": [
    "Portugal, Lithuania-Estonia, Italy and Ireland, are the countries most related to green bonds.\n",
    "\n",
    "The Power industry is extremely related to these bonds too."
   ]
  },
  {
   "cell_type": "code",
   "execution_count": null,
   "id": "63d80b34",
   "metadata": {},
   "outputs": [],
   "source": []
  },
  {
   "cell_type": "markdown",
   "id": "d6f9787b",
   "metadata": {
    "ExecuteTime": {
     "end_time": "2021-05-13T19:29:01.239739Z",
     "start_time": "2021-05-13T19:29:01.220735Z"
    }
   },
   "source": [
    "# Data Pre-processing"
   ]
  },
  {
   "cell_type": "markdown",
   "id": "4db29905",
   "metadata": {},
   "source": [
    "## Data Cleaning"
   ]
  },
  {
   "cell_type": "markdown",
   "id": "47b8ea46",
   "metadata": {},
   "source": [
    "Here we will:\n",
    "\n",
    "* Change the format of numeric data\n",
    "* Add a rate to floating rate bonds. We will add the mean of the rates\n",
    "* Change the format of date columns and add year columns\n",
    "* Obtain present value of bonds at the year 2021"
   ]
  },
  {
   "cell_type": "markdown",
   "id": "844be0de",
   "metadata": {},
   "source": [
    "Change format of numeric data"
   ]
  },
  {
   "cell_type": "code",
   "execution_count": null,
   "id": "bf58db9c",
   "metadata": {
    "ExecuteTime": {
     "end_time": "2021-05-18T08:54:10.005941Z",
     "start_time": "2021-05-18T08:54:09.981939Z"
    }
   },
   "outputs": [],
   "source": [
    "df_sm[\"total_bond_amount\"]=df_sm[\"total_bond_amount\"].str.replace('EUR','').str.replace(',','').astype(float)"
   ]
  },
  {
   "cell_type": "code",
   "execution_count": null,
   "id": "1f914860",
   "metadata": {
    "ExecuteTime": {
     "end_time": "2021-05-18T08:54:10.037947Z",
     "start_time": "2021-05-18T08:54:10.021944Z"
    }
   },
   "outputs": [],
   "source": [
    "df_sm[\"nominal_amount\"]=df_sm[\"nominal_amount\"].str.replace('EUR','').str.replace(',','').astype(float)"
   ]
  },
  {
   "cell_type": "code",
   "execution_count": null,
   "id": "415b8c4d",
   "metadata": {
    "ExecuteTime": {
     "end_time": "2021-05-18T08:54:10.077946Z",
     "start_time": "2021-05-18T08:54:10.053944Z"
    }
   },
   "outputs": [],
   "source": [
    "df_sm[\"coupon_rate\"]=df_sm[\"coupon_rate\"].str.replace('%','').str.replace('FRN','nan').astype(float)"
   ]
  },
  {
   "cell_type": "markdown",
   "id": "f4be1c9e",
   "metadata": {},
   "source": [
    "Add a rate to floating rate bonds (mean)"
   ]
  },
  {
   "cell_type": "code",
   "execution_count": null,
   "id": "47e502b2",
   "metadata": {
    "ExecuteTime": {
     "end_time": "2021-05-18T08:54:10.389986Z",
     "start_time": "2021-05-18T08:54:10.333976Z"
    }
   },
   "outputs": [],
   "source": [
    "df_sm[\"coupon_rate\"][pd.isnull(df_sm[\"coupon_rate\"])]=df_sm[\"coupon_rate\"].mean()"
   ]
  },
  {
   "cell_type": "markdown",
   "id": "3f49b45b",
   "metadata": {},
   "source": [
    "Change format of date columns and add year columns"
   ]
  },
  {
   "cell_type": "code",
   "execution_count": null,
   "id": "c4d6566d",
   "metadata": {
    "ExecuteTime": {
     "end_time": "2021-05-18T08:55:01.716993Z",
     "start_time": "2021-05-18T08:55:01.420876Z"
    }
   },
   "outputs": [],
   "source": [
    "df_sm['maturity_date']=pd.to_datetime(df_sm['maturity_date'])"
   ]
  },
  {
   "cell_type": "code",
   "execution_count": null,
   "id": "1aacfc20",
   "metadata": {
    "ExecuteTime": {
     "end_time": "2021-05-18T08:55:01.732901Z",
     "start_time": "2021-05-18T08:55:01.716993Z"
    }
   },
   "outputs": [],
   "source": [
    "df_sm['maturity_year']=df_sm['maturity_date'].dt.year"
   ]
  },
  {
   "cell_type": "code",
   "execution_count": null,
   "id": "cb80a9b4",
   "metadata": {
    "ExecuteTime": {
     "end_time": "2021-05-18T08:55:01.772903Z",
     "start_time": "2021-05-18T08:55:01.740899Z"
    }
   },
   "outputs": [],
   "source": [
    "df_sm['year_created']=df_sm['year_created'].astype(int)"
   ]
  },
  {
   "cell_type": "markdown",
   "id": "76ee0539",
   "metadata": {
    "ExecuteTime": {
     "end_time": "2021-05-14T14:43:11.664454Z",
     "start_time": "2021-05-14T14:43:11.653450Z"
    }
   },
   "source": [
    "Obtain present value of bonds at 2021"
   ]
  },
  {
   "cell_type": "code",
   "execution_count": null,
   "id": "c149df14",
   "metadata": {
    "ExecuteTime": {
     "end_time": "2021-05-18T08:55:01.860915Z",
     "start_time": "2021-05-18T08:55:01.812909Z"
    }
   },
   "outputs": [],
   "source": [
    "df_sm[['maturity_year','year_created']].describe()"
   ]
  },
  {
   "cell_type": "code",
   "execution_count": null,
   "id": "5eb58304",
   "metadata": {},
   "outputs": [],
   "source": []
  },
  {
   "cell_type": "markdown",
   "id": "ed023661",
   "metadata": {},
   "source": [
    "We will now obtain a \"surplus\" for the company for each of the bond. For that, we obtain the value of all the interest and nominal value that the company has to pay to the bank, at the year that the bond was purchased. We then rest this amount to the total bond amount. In this way we will obtain the \"surplus\" of the deal for the company's side. \n",
    "\n",
    "After that, since different bond could have different issuing dates, we will take all the surplus values to the 2021 year. In this way we can make the surplus of the bonds comparable.\n",
    "\n",
    "For making this process, we assign to floating rate bonds the average rate, and we considered a fix inlation rate of the one present in the euro area at the time this notebook was done, which is 1.6%."
   ]
  },
  {
   "cell_type": "markdown",
   "id": "95cf9e87",
   "metadata": {},
   "source": [
    "## Annuities and present value functions"
   ]
  },
  {
   "cell_type": "code",
   "execution_count": null,
   "id": "b53c78a5",
   "metadata": {
    "ExecuteTime": {
     "end_time": "2021-05-18T09:09:23.732859Z",
     "start_time": "2021-05-18T09:09:23.700857Z"
    }
   },
   "outputs": [],
   "source": [
    "def startvalue_zerobond(yr_start,yr_end,inflation,facevalue):\n",
    "    diffyears=yr_end-yr_start\n",
    "    totalvalue_atstart=facevalue/((1+inflation)**diffyears)\n",
    "    return totalvalue_atstart\n",
    "\n",
    "def startvalue_interest(yr_start,yr_end,inflation,interest,bondcost):\n",
    "    diffyears=yr_end-yr_start\n",
    "    totalvalue_atstart=((bondcost*interest)/(1+inflation))*((1-(1+inflation)**(-diffyears))/(1-(1+inflation)**(-1)))\n",
    "    return totalvalue_atstart\n",
    "\n",
    "def startvalue_completebond(yr_start,yr_end,inflation,facevalue,interest,bondcost):\n",
    "    zerobond_atstart=startvalue_zerobond(yr_start,yr_end,inflation,facevalue)\n",
    "    interest_atstart=startvalue_interest(yr_start,yr_end,inflation,interest,bondcost)\n",
    "    all_value_atstart=interest_atstart+zerobond_atstart\n",
    "    return all_value_atstart\n",
    "\n",
    "def fromstart_topresent(yr_start,yr_present,value,inflation):\n",
    "    diffyears=yr_present-yr_start\n",
    "    presentvalue=value*(1+inflation)**diffyears\n",
    "    return presentvalue"
   ]
  },
  {
   "cell_type": "code",
   "execution_count": null,
   "id": "01de3a5a",
   "metadata": {
    "ExecuteTime": {
     "end_time": "2021-05-18T09:02:39.348168Z",
     "start_time": "2021-05-18T09:02:39.292162Z"
    }
   },
   "outputs": [],
   "source": [
    "df_sm.head(3)"
   ]
  },
  {
   "cell_type": "markdown",
   "id": "5e472440",
   "metadata": {},
   "source": [
    "## Creation of surplus at time 2021"
   ]
  },
  {
   "cell_type": "markdown",
   "id": "e7442636",
   "metadata": {},
   "source": [
    "Getting the start value of contributions to the company for the bank. We suppose an inflation of 1.6%."
   ]
  },
  {
   "cell_type": "code",
   "execution_count": null,
   "id": "12338514",
   "metadata": {
    "ExecuteTime": {
     "end_time": "2021-05-18T09:09:29.296762Z",
     "start_time": "2021-05-18T09:09:29.264920Z"
    }
   },
   "outputs": [],
   "source": [
    "df_sm['Payment_atstartvalue']=startvalue_completebond(df_sm['year_created'],df_sm['maturity_year'],0.016,df_sm['nominal_amount'],\n",
    "                        df_sm['coupon_rate']/100,df_sm['total_bond_amount'])"
   ]
  },
  {
   "cell_type": "markdown",
   "id": "c659d546",
   "metadata": {},
   "source": [
    "Getting the surplus at time that the bond was purchased"
   ]
  },
  {
   "cell_type": "code",
   "execution_count": null,
   "id": "55b6bbd6",
   "metadata": {
    "ExecuteTime": {
     "end_time": "2021-05-18T09:09:34.642372Z",
     "start_time": "2021-05-18T09:09:34.626369Z"
    }
   },
   "outputs": [],
   "source": [
    "df_sm['surplus_company']=df_sm['total_bond_amount']-df_sm['Payment_atstartvalue']"
   ]
  },
  {
   "cell_type": "markdown",
   "id": "7d064455",
   "metadata": {},
   "source": [
    "Getting the surplus value at time 2021"
   ]
  },
  {
   "cell_type": "code",
   "execution_count": null,
   "id": "70cb0fa2",
   "metadata": {
    "ExecuteTime": {
     "end_time": "2021-05-18T09:09:39.912225Z",
     "start_time": "2021-05-18T09:09:39.888224Z"
    }
   },
   "outputs": [],
   "source": [
    "df_sm['surplus_company_21']= fromstart_topresent(df_sm['year_created'],2021, df_sm['surplus_company']   ,0.016 )           "
   ]
  },
  {
   "cell_type": "code",
   "execution_count": null,
   "id": "fbbd7269",
   "metadata": {
    "ExecuteTime": {
     "end_time": "2021-05-18T09:09:44.665102Z",
     "start_time": "2021-05-18T09:09:44.619049Z"
    }
   },
   "outputs": [],
   "source": [
    "df_sm['surplus_company_21'].describe()"
   ]
  },
  {
   "cell_type": "code",
   "execution_count": null,
   "id": "b04e6016",
   "metadata": {
    "ExecuteTime": {
     "end_time": "2021-05-18T09:09:49.662925Z",
     "start_time": "2021-05-18T09:09:48.903316Z"
    }
   },
   "outputs": [],
   "source": [
    "df_sm.sort_values(by='surplus_company_21')"
   ]
  },
  {
   "cell_type": "markdown",
   "id": "941d9ec0",
   "metadata": {},
   "source": [
    "# Distribution of green bonds compared to the rest of them"
   ]
  },
  {
   "cell_type": "markdown",
   "id": "3934c7cf",
   "metadata": {},
   "source": [
    "We will analyze the surplus in millions at 2021, instead of the surplus at 2021, just for practicality"
   ]
  },
  {
   "cell_type": "code",
   "execution_count": null,
   "id": "c09712c5",
   "metadata": {
    "ExecuteTime": {
     "end_time": "2021-05-18T09:13:21.388659Z",
     "start_time": "2021-05-18T09:13:21.324640Z"
    }
   },
   "outputs": [],
   "source": [
    "df_sm[\"surplus_inmill_21\"]=df_sm[\"surplus_company_21\"]/1000000\n",
    "df_sm.head(4)"
   ]
  },
  {
   "cell_type": "markdown",
   "id": "9df89968",
   "metadata": {
    "ExecuteTime": {
     "end_time": "2021-05-18T09:10:33.557811Z",
     "start_time": "2021-05-18T09:10:32.773748Z"
    }
   },
   "source": [
    "Distribution of the surplus at 2021 (in millions)"
   ]
  },
  {
   "cell_type": "code",
   "execution_count": null,
   "id": "73e92754",
   "metadata": {
    "ExecuteTime": {
     "end_time": "2021-05-18T09:13:27.792298Z",
     "start_time": "2021-05-18T09:13:27.149323Z"
    }
   },
   "outputs": [],
   "source": [
    "plt.subplots(figsize=(20, 12))\n",
    "sns.distplot(df_sm['surplus_inmill_21'], hist = True, kde = True,bins=30,\n",
    "                 kde_kws = {'shade': True, 'linewidth': 3})#, label = bond_types)"
   ]
  },
  {
   "cell_type": "markdown",
   "id": "38d0918d",
   "metadata": {},
   "source": [
    "Distribution by bond type"
   ]
  },
  {
   "cell_type": "code",
   "execution_count": null,
   "id": "96df0330",
   "metadata": {
    "ExecuteTime": {
     "end_time": "2021-05-16T18:03:57.045763Z",
     "start_time": "2021-05-16T18:03:56.501626Z"
    }
   },
   "outputs": [],
   "source": [
    "plt.subplots(figsize=(20, 12))\n",
    "sns.violinplot(x =\"bond_types\", y =\"surplus_inmill_21\", data = df_sm)# ,hue =\"region\", style =\"event\""
   ]
  },
  {
   "cell_type": "markdown",
   "id": "de7ec543",
   "metadata": {},
   "source": [
    "No signs that the bank is prioritizing green bonds so far"
   ]
  },
  {
   "cell_type": "code",
   "execution_count": null,
   "id": "6f9735a5",
   "metadata": {
    "ExecuteTime": {
     "end_time": "2021-05-18T09:14:36.863798Z",
     "start_time": "2021-05-18T09:14:36.783786Z"
    }
   },
   "outputs": [],
   "source": [
    "df_sm[\"Ind_Green\"]=\"No\"\n",
    "df_sm[\"Ind_Green\"][df_sm[\"bond_types\"]==\"Green bonds\"]=\"Yes\"\n",
    "df_sm[\"Ind_Green\"].value_counts()"
   ]
  },
  {
   "cell_type": "markdown",
   "id": "b1b55743",
   "metadata": {},
   "source": [
    "Distribution of surplus by industry and bond type"
   ]
  },
  {
   "cell_type": "code",
   "execution_count": null,
   "id": "98d86045",
   "metadata": {
    "ExecuteTime": {
     "end_time": "2021-05-18T09:15:24.718661Z",
     "start_time": "2021-05-18T09:15:23.376530Z"
    }
   },
   "outputs": [],
   "source": [
    "plt.subplots(figsize=(10, 30))\n",
    "sns.violinplot(y =\"industry\", x =\"surplus_inmill_21\", data = df_sm,width=1,dodge=True, style =\"event\",hue =\"Ind_Green\",\n",
    "               split=True)# \n",
    "plt.legend(fontsize=20,title=\"Green \\n Bond\",title_fontsize=23, loc=\"upper right\")\n",
    "plt.xticks(size = 15)\n",
    "plt.yticks(size = 20)\n",
    "plt.xlabel(\"Surplus in Millions\",size=25)\n",
    "plt.ylabel(\"\")\n",
    "plt.title(\"Distribution Surplus (Millions) \\n by Industry at 2021\", size=25);"
   ]
  },
  {
   "cell_type": "markdown",
   "id": "2b278414",
   "metadata": {},
   "source": [
    "Surplus in communication and engineering seems bigger for green bonds than the rest, but the sample of green bonds is too small in those industries for making strong conclussions."
   ]
  },
  {
   "cell_type": "code",
   "execution_count": null,
   "id": "f9f87d69",
   "metadata": {
    "ExecuteTime": {
     "end_time": "2021-05-18T09:17:33.977582Z",
     "start_time": "2021-05-18T09:17:33.913580Z"
    }
   },
   "outputs": [],
   "source": [
    "pd.crosstab(df_sm[\"Ind_Green\"],df_sm[\"industry\"]).T"
   ]
  },
  {
   "cell_type": "code",
   "execution_count": null,
   "id": "21674e1d",
   "metadata": {},
   "outputs": [],
   "source": []
  },
  {
   "cell_type": "markdown",
   "id": "198acfd5",
   "metadata": {},
   "source": [
    "# Lasso"
   ]
  },
  {
   "cell_type": "markdown",
   "id": "ab8f7b67",
   "metadata": {},
   "source": [
    "We already know that the number of green bonds is very small compared to the total number of bonds bought by the bank. B\n",
    "\n",
    "In order to detect if the bank is helping the companies that buy green bonds in a significant way, we will do a penalized regression technique, particularly Lasso regression, on the surplus at time 2021 in millions, with the variables already analyzed as explanatory variables (industry, country, and type of bond).\n",
    "\n",
    "We decided to use Lasso because of its nature to shrink the less important coefficients to zero. In this way, if after fitting the model, the coefficient associated to green bonds is positive, we can say that the bank is supporting the green economy.\n",
    "\n",
    "We did not standardize our covariates since all of them are dummy variables. Standardizing will not bring any value, but it will make interpretation of the coefficients more difficult.\n",
    "\n",
    "For hyperparameter tunning as well as model selection, we will make use of 10 fold cross validation"
   ]
  },
  {
   "cell_type": "code",
   "execution_count": null,
   "id": "16a59251",
   "metadata": {
    "ExecuteTime": {
     "end_time": "2021-05-18T09:38:16.222977Z",
     "start_time": "2021-05-18T09:38:16.182893Z"
    }
   },
   "outputs": [],
   "source": [
    "id_bond=df_sm[\"ISIN\"]\n",
    "X=pd.get_dummies(df_sm[[\"industry\",\"country\",\"bond_types\"]], prefix=None, prefix_sep='_')\n",
    "y=df_sm[\"surplus_inmill_21\"]"
   ]
  },
  {
   "cell_type": "markdown",
   "id": "040f34db",
   "metadata": {},
   "source": [
    "Just for descriptive purposes, the plain linear regression model. Thoughtful about including it in the official code/report or not."
   ]
  },
  {
   "cell_type": "code",
   "execution_count": null,
   "id": "89dc8cbb",
   "metadata": {
    "ExecuteTime": {
     "end_time": "2021-05-18T09:38:23.191661Z",
     "start_time": "2021-05-18T09:38:23.039735Z"
    }
   },
   "outputs": [],
   "source": [
    "Alpha = 0\n",
    "lasso_model = linear_model.Lasso(fit_intercept=True, alpha=Alpha,copy_X=True,normalize=False)\n",
    "lasso_model.fit(X,y)\n",
    "print('Coefficients for alpha:',str(Alpha))\n",
    "pd.DataFrame(data={\"Covariate\":X.columns,\"Coefficient\":np.round(lasso_model.coef_,2)})"
   ]
  },
  {
   "cell_type": "code",
   "execution_count": null,
   "id": "30829124",
   "metadata": {
    "ExecuteTime": {
     "end_time": "2021-05-18T09:38:29.176298Z",
     "start_time": "2021-05-18T09:38:29.144396Z"
    }
   },
   "outputs": [],
   "source": [
    "lasso_model.intercept_"
   ]
  },
  {
   "cell_type": "code",
   "execution_count": null,
   "id": "3e5e1ce3",
   "metadata": {
    "ExecuteTime": {
     "end_time": "2021-05-18T09:38:36.473086Z",
     "start_time": "2021-05-18T09:38:36.449084Z"
    }
   },
   "outputs": [],
   "source": [
    "lasso_model.coef_[X.columns==\"bond_types_Green bonds\"]"
   ]
  },
  {
   "cell_type": "code",
   "execution_count": null,
   "id": "fd92bbf5",
   "metadata": {
    "ExecuteTime": {
     "end_time": "2021-05-18T09:38:42.270195Z",
     "start_time": "2021-05-18T09:38:42.254194Z"
    }
   },
   "outputs": [],
   "source": [
    "lasso_model.coef_[X.columns==\"industry_Power\"]"
   ]
  },
  {
   "cell_type": "code",
   "execution_count": null,
   "id": "b009f8e8",
   "metadata": {
    "ExecuteTime": {
     "end_time": "2021-05-18T09:39:17.769117Z",
     "start_time": "2021-05-18T09:39:16.798284Z"
    }
   },
   "outputs": [],
   "source": [
    "fig, ax = plt.subplots(1,1,sharex=True,figsize=(10,15))\n",
    "y_pos = np.arange(len(X.columns))\n",
    "\n",
    "#Lasso Regression\n",
    "hedge_Lasso = lasso_model.coef_\n",
    "ax.barh(y=y_pos, width=hedge_Lasso, align='center', alpha=0.9,\n",
    "        color=[\"cadetblue\"]*16+['mediumseagreen']*16+[\"darkred\"]+[\"lightcoral\"]*3)\n",
    "ax.set_yticks(y_pos)\n",
    "plt.yticks(size=15)\n",
    "ax.set_yticklabels(X.columns)\n",
    "ax.set_xlabel('Coefficient', size=20)\n",
    "ax.set_title('Coefficients for the linear regression model', size=25);"
   ]
  },
  {
   "cell_type": "markdown",
   "id": "3034714a",
   "metadata": {},
   "source": [
    "The bank does not help at all to bonds bought to a company settled in Lithuania and Estonia."
   ]
  },
  {
   "cell_type": "markdown",
   "id": "d17d8fa8",
   "metadata": {},
   "source": [
    "## Impact of the alpha value to the Lasso coefficients"
   ]
  },
  {
   "cell_type": "markdown",
   "id": "b05071a7",
   "metadata": {},
   "source": [
    "We set our possible alpha values from 0 to 15, because after 15 all coefficients were zero"
   ]
  },
  {
   "cell_type": "code",
   "execution_count": null,
   "id": "36a5d46c",
   "metadata": {
    "ExecuteTime": {
     "end_time": "2021-05-18T09:44:15.944833Z",
     "start_time": "2021-05-18T09:44:15.928833Z"
    }
   },
   "outputs": [],
   "source": [
    "alpha = np.arange(0,15,0.01)\n",
    "#alpha"
   ]
  },
  {
   "cell_type": "markdown",
   "id": "85cad410",
   "metadata": {},
   "source": [
    "Matrix that will store for each alpha, the coefficients values"
   ]
  },
  {
   "cell_type": "code",
   "execution_count": null,
   "id": "64a010e8",
   "metadata": {
    "ExecuteTime": {
     "end_time": "2021-05-18T09:44:58.334230Z",
     "start_time": "2021-05-18T09:44:58.318215Z"
    }
   },
   "outputs": [],
   "source": [
    "weights = np.zeros((len(alpha),len(X.columns)),dtype=float) #matrix of dimensions #alphas x #dummievars\n",
    "weights.shape"
   ]
  },
  {
   "cell_type": "code",
   "execution_count": null,
   "id": "ee5a6ec2",
   "metadata": {
    "ExecuteTime": {
     "end_time": "2021-05-18T09:45:13.463225Z",
     "start_time": "2021-05-18T09:45:05.139160Z"
    }
   },
   "outputs": [],
   "source": [
    "for i in np.arange(0,len(alpha)):\n",
    "    lassomodelaux = linear_model.Lasso(fit_intercept=True, alpha=alpha[i],copy_X=True,normalize=False)\n",
    "    lassomodelaux.fit(X,y)\n",
    "    weights[i,:]= lassomodelaux.coef_  #matrix defined above starts to be filled up\n",
    "    "
   ]
  },
  {
   "cell_type": "markdown",
   "id": "6dd4043a",
   "metadata": {},
   "source": [
    "We plot the evolution of the coefficients as the alpha increases"
   ]
  },
  {
   "cell_type": "code",
   "execution_count": null,
   "id": "b22b4dd6",
   "metadata": {
    "ExecuteTime": {
     "end_time": "2021-05-18T09:46:26.546287Z",
     "start_time": "2021-05-18T09:46:26.522304Z"
    }
   },
   "outputs": [],
   "source": [
    "ab = itertools.chain([\"cadetblue\"]*16+['mediumseagreen']*16+[\"darkred\"]+[\"lightcoral\"]*3)\n",
    "colorlist=list(ab)"
   ]
  },
  {
   "cell_type": "code",
   "execution_count": null,
   "id": "9ffd2c23",
   "metadata": {
    "ExecuteTime": {
     "end_time": "2021-05-18T09:46:33.186923Z",
     "start_time": "2021-05-18T09:46:33.170922Z"
    }
   },
   "outputs": [],
   "source": [
    "ab=itertools.chain([3]*3+[7]+[3]*17+[7]+[3]*3+[7]+[3]*6+[7]+[3]*3)\n",
    "sizelist=list(ab)"
   ]
  },
  {
   "cell_type": "code",
   "execution_count": null,
   "id": "a3fc334a",
   "metadata": {
    "ExecuteTime": {
     "end_time": "2021-05-18T09:46:40.051666Z",
     "start_time": "2021-05-18T09:46:40.027765Z"
    }
   },
   "outputs": [],
   "source": [
    "labelsaux=['Chem/Petro','Commun.', 'Construction','Engineering', 'Financial','Food', 'Healthсare',\n",
    "       'Technology', 'Light','Entertainment', 'Oil/Gas',' Others', 'Power', 'Public utilities',\n",
    "       'Trade', 'Trans.','AT', 'BE-LU', 'CZ-SK-RO','FI', 'FR', 'DE','IE', 'IT', 'LT-EE', 'NL', 'Non-EU',\n",
    "       'PT', 'ES', 'SE-DK','CH', 'UK','Green bonds', 'Others','Sr. Unsec.', 'Zero-coup.']"
   ]
  },
  {
   "cell_type": "code",
   "execution_count": null,
   "id": "2b63bf1f",
   "metadata": {
    "ExecuteTime": {
     "end_time": "2021-05-18T09:46:47.292619Z",
     "start_time": "2021-05-18T09:46:45.420532Z"
    }
   },
   "outputs": [],
   "source": [
    "plt.figure(figsize=(20,15))    \n",
    "for i in np.arange(0,len(X.columns)):\n",
    "    plt.semilogx(alpha[:],weights[:,i],label=labelsaux[i], linewidth=sizelist[i],\n",
    "                 color=colorlist[i]) #semilog to make right values closer\n",
    "\n",
    "plt.xlabel('Alpha Value',size=30)\n",
    "plt.ylabel('Coefficient',size=30)\n",
    "plt.xticks(size=20)\n",
    "plt.yticks(size=20)\n",
    "plt.legend(loc=\"lower right\", ncol=5,fontsize=20);"
   ]
  },
  {
   "cell_type": "markdown",
   "id": "1a15849a",
   "metadata": {},
   "source": [
    "The green bonds coefficient is in the group of coefficients that shrink faster to zero.\n",
    "\n",
    "The coefficients that survive the most are the ones related to the engineering industry, to Germany, and to the Netherlands"
   ]
  },
  {
   "cell_type": "markdown",
   "id": "a6fe14f3",
   "metadata": {},
   "source": [
    "## Cross validation for hyperparameter tuning and model selection"
   ]
  },
  {
   "cell_type": "code",
   "execution_count": null,
   "id": "9fb47852",
   "metadata": {
    "ExecuteTime": {
     "end_time": "2021-05-18T09:56:03.941097Z",
     "start_time": "2021-05-18T09:56:03.925096Z"
    }
   },
   "outputs": [],
   "source": [
    "alpha"
   ]
  },
  {
   "cell_type": "code",
   "execution_count": null,
   "id": "e51499c7",
   "metadata": {
    "ExecuteTime": {
     "end_time": "2021-05-18T09:56:12.043676Z",
     "start_time": "2021-05-18T09:56:09.189775Z"
    },
    "scrolled": true
   },
   "outputs": [],
   "source": [
    "# use cross validation using 10 Fold cross validation\n",
    "Lasso=linear_model.LassoCV(alphas=alpha,fit_intercept=True,normalize=False,cv=10)\n",
    "Lasso.fit(X,y)"
   ]
  },
  {
   "cell_type": "code",
   "execution_count": null,
   "id": "31bf5c07",
   "metadata": {
    "ExecuteTime": {
     "end_time": "2021-05-18T09:58:16.633801Z",
     "start_time": "2021-05-18T09:58:16.607792Z"
    }
   },
   "outputs": [],
   "source": [
    "print('Optimal Value for Alpha:{v:0.4f}'.format(v=Lasso.alpha_))\n",
    "print('\\n')\n",
    "print('Lasso coefficients: ')\n",
    "print(Lasso.coef_)\n",
    "print('\\n')\n",
    "print('Lasso intercept:')\n",
    "print(Lasso.intercept_)"
   ]
  },
  {
   "cell_type": "markdown",
   "id": "71b98d0b",
   "metadata": {},
   "source": [
    "The alpha that decreases the loss function the most is 1.79"
   ]
  },
  {
   "cell_type": "code",
   "execution_count": null,
   "id": "79e24d5a",
   "metadata": {
    "ExecuteTime": {
     "end_time": "2021-05-18T09:59:05.299465Z",
     "start_time": "2021-05-18T09:59:04.410396Z"
    }
   },
   "outputs": [],
   "source": [
    "fig, ax = plt.subplots(1,1,sharex=True,figsize=(10,15))\n",
    "y_pos = np.arange(len(X.columns))\n",
    "\n",
    "#Lasso Regression\n",
    "hedge_Lasso = Lasso.coef_\n",
    "ax.barh(y=y_pos, width=hedge_Lasso, align='center', alpha=0.9,\n",
    "        color=[\"cadetblue\"]*16+['mediumseagreen']*16+[\"darkred\"]+[\"lightcoral\"]*3)\n",
    "ax.set_yticks(y_pos)\n",
    "plt.yticks(size=15)\n",
    "ax.set_yticklabels(X.columns)\n",
    "ax.set_xlabel('Hedge Ratio (%)')\n",
    "ax.set_title('Hedging Portfolio Alpha - Ridge/Gross Exposure: ');"
   ]
  },
  {
   "cell_type": "code",
   "execution_count": null,
   "id": "472dd351",
   "metadata": {
    "ExecuteTime": {
     "end_time": "2021-05-18T09:59:14.799344Z",
     "start_time": "2021-05-18T09:59:14.745378Z"
    }
   },
   "outputs": [],
   "source": [
    "ResultingDf=pd.DataFrame(data={\"Dummy_variable\":X.columns,\"Coefficient\":np.round(Lasso.coef_,2),\"N_bonds\":X.sum()})\n",
    "ResultingDf=ResultingDf.reset_index()[[\"Dummy_variable\",\"Coefficient\",\"N_bonds\"]]\n",
    "ResultingDf.sort_values(by=\"Coefficient\", ascending=False)"
   ]
  },
  {
   "cell_type": "markdown",
   "id": "021c2fc9",
   "metadata": {
    "ExecuteTime": {
     "end_time": "2021-05-14T20:15:52.405044Z",
     "start_time": "2021-05-14T20:15:52.385037Z"
    }
   },
   "source": [
    "<b>Conclussion: No, the European Central bank has not been supporting the green economy when purchasing corporate\n",
    "bonds</b>\n",
    "\n",
    "Normally they will support bonds for companies whose type of industry is \"Communication\", \"Engineering\", and \"Oil or Gas\", and in a lesser role, companies located in \"France\", \"Germany\" and \"The United Kingdom\". We could corroborate with the Correspondence Analysis done, that bonds related to these factors are normally not green bonds.\n",
    "\n",
    "Furthermore, we saw in the correspondence analysis that the industry \"Power\" was very related to green bonds. In this model, the coefficient \"Power\" is non-zero and is negative, so these corroborates again the conclussion that the European Central Bank is not supporting the green economy."
   ]
  },
  {
   "cell_type": "markdown",
   "id": "9eed1dc5",
   "metadata": {},
   "source": [
    "We also see that the fact of the green bond coefficient being zero could not be entirely due to the small number of green bonds, since we see that 8 of the 15 non-zero coefficients are related to variables whose number of bonds belonging to is lower than the ones for green bonds."
   ]
  },
  {
   "cell_type": "code",
   "execution_count": null,
   "id": "a811c9ca",
   "metadata": {},
   "outputs": [],
   "source": []
  }
 ],
 "metadata": {
  "kernelspec": {
   "display_name": "Python 3",
   "language": "python",
   "name": "python3"
  },
  "language_info": {
   "codemirror_mode": {
    "name": "ipython",
    "version": 3
   },
   "file_extension": ".py",
   "mimetype": "text/x-python",
   "name": "python",
   "nbconvert_exporter": "python",
   "pygments_lexer": "ipython3",
   "version": "3.8.5"
  },
  "latex_envs": {
   "LaTeX_envs_menu_present": true,
   "autoclose": false,
   "autocomplete": true,
   "bibliofile": "biblio.bib",
   "cite_by": "apalike",
   "current_citInitial": 1,
   "eqLabelWithNumbers": true,
   "eqNumInitial": 1,
   "hotkeys": {
    "equation": "Ctrl-E",
    "itemize": "Ctrl-I"
   },
   "labels_anchors": false,
   "latex_user_defs": false,
   "report_style_numbering": false,
   "user_envs_cfg": false
  },
  "toc": {
   "base_numbering": 1,
   "nav_menu": {},
   "number_sections": true,
   "sideBar": true,
   "skip_h1_title": false,
   "title_cell": "Table of Contents",
   "title_sidebar": "Contents",
   "toc_cell": false,
   "toc_position": {},
   "toc_section_display": true,
   "toc_window_display": true
  },
  "varInspector": {
   "cols": {
    "lenName": 16,
    "lenType": 16,
    "lenVar": 40
   },
   "kernels_config": {
    "python": {
     "delete_cmd_postfix": "",
     "delete_cmd_prefix": "del ",
     "library": "var_list.py",
     "varRefreshCmd": "print(var_dic_list())"
    },
    "r": {
     "delete_cmd_postfix": ") ",
     "delete_cmd_prefix": "rm(",
     "library": "var_list.r",
     "varRefreshCmd": "cat(var_dic_list()) "
    }
   },
   "position": {
    "height": "327.646px",
    "left": "1369.33px",
    "right": "20px",
    "top": "136px",
    "width": "350px"
   },
   "types_to_exclude": [
    "module",
    "function",
    "builtin_function_or_method",
    "instance",
    "_Feature"
   ],
   "window_display": false
  }
 },
 "nbformat": 4,
 "nbformat_minor": 5
}
