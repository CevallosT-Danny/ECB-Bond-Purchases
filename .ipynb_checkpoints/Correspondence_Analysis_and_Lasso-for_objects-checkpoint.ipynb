{
 "cells": [
  {
   "cell_type": "code",
   "execution_count": 58,
   "id": "ad4ee8b2",
   "metadata": {
    "ExecuteTime": {
     "end_time": "2021-05-22T12:04:03.825187Z",
     "start_time": "2021-05-22T12:04:03.799067Z"
    }
   },
   "outputs": [],
   "source": [
    "import pandas as pd\n",
    "import numpy as np\n",
    "#%pip install mca\n",
    "import mca\n",
    "import matplotlib.pyplot as plt\n",
    "from matplotlib  import dates\n",
    "from PIL import Image\n",
    "from io import BytesIO\n",
    "import requests\n",
    "from sklearn import linear_model\n",
    "\n",
    "%matplotlib inline\n",
    "import seaborn as sns\n",
    "sns.set()\n",
    "\n",
    "import itertools\n"
   ]
  },
  {
   "cell_type": "code",
   "execution_count": null,
   "id": "95a93d7b",
   "metadata": {
    "ExecuteTime": {
     "end_time": "2021-05-22T12:04:03.841073Z",
     "start_time": "2021-05-22T12:04:03.831071Z"
    }
   },
   "outputs": [],
   "source": [
    "pd.set_option('display.max_columns', 100000)\n",
    "pd.set_option('display.max_rows', 100000)"
   ]
  },
  {
   "cell_type": "markdown",
   "id": "1bbc7d40",
   "metadata": {},
   "source": [
    "# Loading of Data"
   ]
  },
  {
   "cell_type": "code",
   "execution_count": 8,
   "id": "e762ee9a",
   "metadata": {
    "ExecuteTime": {
     "end_time": "2021-05-22T12:04:07.423765Z",
     "start_time": "2021-05-22T12:04:04.431777Z"
    }
   },
   "outputs": [
    {
     "data": {
      "text/html": [
       "<div>\n",
       "<style scoped>\n",
       "    .dataframe tbody tr th:only-of-type {\n",
       "        vertical-align: middle;\n",
       "    }\n",
       "\n",
       "    .dataframe tbody tr th {\n",
       "        vertical-align: top;\n",
       "    }\n",
       "\n",
       "    .dataframe thead th {\n",
       "        text-align: right;\n",
       "    }\n",
       "</style>\n",
       "<table border=\"1\" class=\"dataframe\">\n",
       "  <thead>\n",
       "    <tr style=\"text-align: right;\">\n",
       "      <th></th>\n",
       "      <th>company_name</th>\n",
       "      <th>company_description</th>\n",
       "      <th>relationship_to_bond</th>\n",
       "      <th>sector</th>\n",
       "      <th>industry</th>\n",
       "      <th>ISIN</th>\n",
       "      <th>bond_destination</th>\n",
       "      <th>coupon_rate</th>\n",
       "      <th>total_bond_amount</th>\n",
       "      <th>nominal_amount</th>\n",
       "      <th>...</th>\n",
       "      <th>status</th>\n",
       "      <th>stocks_info</th>\n",
       "      <th>bond_types</th>\n",
       "      <th>Floating rate</th>\n",
       "      <th>Foreign bonds</th>\n",
       "      <th>Green bonds</th>\n",
       "      <th>Securitization</th>\n",
       "      <th>Senior Secured</th>\n",
       "      <th>Senior Unsecured</th>\n",
       "      <th>Zero-coupon bonds</th>\n",
       "    </tr>\n",
       "  </thead>\n",
       "  <tbody>\n",
       "    <tr>\n",
       "      <th>0</th>\n",
       "      <td>2i rete gas</td>\n",
       "      <td>2i rete gas</td>\n",
       "      <td>Borrower</td>\n",
       "      <td>corporate</td>\n",
       "      <td>Public utilities</td>\n",
       "      <td>XS1088274169</td>\n",
       "      <td>International bonds</td>\n",
       "      <td>1.75%</td>\n",
       "      <td>362,793,000 EUR</td>\n",
       "      <td>1,000 EUR</td>\n",
       "      <td>...</td>\n",
       "      <td>Matured</td>\n",
       "      <td>Par amount, integral multiple</td>\n",
       "      <td>NaN</td>\n",
       "      <td>no</td>\n",
       "      <td>no</td>\n",
       "      <td>no</td>\n",
       "      <td>no</td>\n",
       "      <td>no</td>\n",
       "      <td>no</td>\n",
       "      <td>no</td>\n",
       "    </tr>\n",
       "    <tr>\n",
       "      <th>1</th>\n",
       "      <td>2i rete gas</td>\n",
       "      <td>2i rete gas</td>\n",
       "      <td>Borrower</td>\n",
       "      <td>corporate</td>\n",
       "      <td>Public utilities</td>\n",
       "      <td>XS1088274672</td>\n",
       "      <td>International bonds</td>\n",
       "      <td>3%</td>\n",
       "      <td>600,000,000 EUR</td>\n",
       "      <td>1,000 EUR</td>\n",
       "      <td>...</td>\n",
       "      <td>Outstanding</td>\n",
       "      <td>Par amount, integral multiple</td>\n",
       "      <td>Senior Unsecured</td>\n",
       "      <td>no</td>\n",
       "      <td>no</td>\n",
       "      <td>no</td>\n",
       "      <td>no</td>\n",
       "      <td>no</td>\n",
       "      <td>yes</td>\n",
       "      <td>no</td>\n",
       "    </tr>\n",
       "    <tr>\n",
       "      <th>2</th>\n",
       "      <td>2i rete gas</td>\n",
       "      <td>2i rete gas</td>\n",
       "      <td>Borrower</td>\n",
       "      <td>corporate</td>\n",
       "      <td>Public utilities</td>\n",
       "      <td>XS1144492532</td>\n",
       "      <td>International bonds</td>\n",
       "      <td>1.125%</td>\n",
       "      <td>267,100,000 EUR</td>\n",
       "      <td>1,000 EUR</td>\n",
       "      <td>...</td>\n",
       "      <td>Matured</td>\n",
       "      <td>Par amount, integral multiple</td>\n",
       "      <td>NaN</td>\n",
       "      <td>no</td>\n",
       "      <td>no</td>\n",
       "      <td>no</td>\n",
       "      <td>no</td>\n",
       "      <td>no</td>\n",
       "      <td>no</td>\n",
       "      <td>no</td>\n",
       "    </tr>\n",
       "  </tbody>\n",
       "</table>\n",
       "<p>3 rows × 25 columns</p>\n",
       "</div>"
      ],
      "text/plain": [
       "  company_name company_description relationship_to_bond     sector  \\\n",
       "0  2i rete gas         2i rete gas             Borrower  corporate   \n",
       "1  2i rete gas         2i rete gas             Borrower  corporate   \n",
       "2  2i rete gas         2i rete gas             Borrower  corporate   \n",
       "\n",
       "           industry          ISIN     bond_destination coupon_rate  \\\n",
       "0  Public utilities  XS1088274169  International bonds       1.75%   \n",
       "1  Public utilities  XS1088274672  International bonds          3%   \n",
       "2  Public utilities  XS1144492532  International bonds      1.125%   \n",
       "\n",
       "  total_bond_amount nominal_amount  ...       status  \\\n",
       "0   362,793,000 EUR      1,000 EUR  ...      Matured   \n",
       "1   600,000,000 EUR      1,000 EUR  ...  Outstanding   \n",
       "2   267,100,000 EUR      1,000 EUR  ...      Matured   \n",
       "\n",
       "                     stocks_info        bond_types Floating rate  \\\n",
       "0  Par amount, integral multiple               NaN            no   \n",
       "1  Par amount, integral multiple  Senior Unsecured            no   \n",
       "2  Par amount, integral multiple               NaN            no   \n",
       "\n",
       "  Foreign bonds Green bonds Securitization Senior Secured Senior Unsecured  \\\n",
       "0            no          no             no             no               no   \n",
       "1            no          no             no             no              yes   \n",
       "2            no          no             no             no               no   \n",
       "\n",
       "  Zero-coupon bonds  \n",
       "0                no  \n",
       "1                no  \n",
       "2                no  \n",
       "\n",
       "[3 rows x 25 columns]"
      ]
     },
     "execution_count": 8,
     "metadata": {},
     "output_type": "execute_result"
    }
   ],
   "source": [
    "df=pd.read_csv(\"https://github.com/Dansieg91/ECB-Bond-Purchases/raw/main/Datasets/HISTORICAL_BONDS.csv\",header=0)\n",
    "df.head(n=3)\n"
   ]
  },
  {
   "cell_type": "code",
   "execution_count": 12,
   "id": "6912e384",
   "metadata": {
    "ExecuteTime": {
     "end_time": "2021-05-22T12:04:07.452773Z",
     "start_time": "2021-05-22T12:04:07.427767Z"
    }
   },
   "outputs": [
    {
     "data": {
      "text/plain": [
       "(2083, 9)"
      ]
     },
     "execution_count": 12,
     "metadata": {},
     "output_type": "execute_result"
    }
   ],
   "source": [
    "df_sm=df[[\"industry\",\"country\",\"bond_types\",\"ISIN\",\"total_bond_amount\",\"coupon_rate\",\"nominal_amount\",\"maturity_date\",\"year_created\"]]\n",
    "df_sm.shape"
   ]
  },
  {
   "cell_type": "markdown",
   "id": "f39ad446",
   "metadata": {},
   "source": [
    "There are 2,083 bonds"
   ]
  },
  {
   "cell_type": "code",
   "execution_count": 13,
   "id": "105e818f",
   "metadata": {
    "ExecuteTime": {
     "end_time": "2021-05-22T12:04:07.483780Z",
     "start_time": "2021-05-22T12:04:07.457774Z"
    }
   },
   "outputs": [
    {
     "data": {
      "text/plain": [
       "industry             object\n",
       "country              object\n",
       "bond_types           object\n",
       "ISIN                 object\n",
       "total_bond_amount    object\n",
       "coupon_rate          object\n",
       "nominal_amount       object\n",
       "maturity_date        object\n",
       "year_created          int64\n",
       "dtype: object"
      ]
     },
     "execution_count": 13,
     "metadata": {},
     "output_type": "execute_result"
    }
   ],
   "source": [
    "df_sm.dtypes"
   ]
  },
  {
   "cell_type": "code",
   "execution_count": 14,
   "id": "530eeff9",
   "metadata": {
    "ExecuteTime": {
     "end_time": "2021-05-22T12:04:07.578805Z",
     "start_time": "2021-05-22T12:04:07.487784Z"
    }
   },
   "outputs": [
    {
     "data": {
      "text/html": [
       "<div>\n",
       "<style scoped>\n",
       "    .dataframe tbody tr th:only-of-type {\n",
       "        vertical-align: middle;\n",
       "    }\n",
       "\n",
       "    .dataframe tbody tr th {\n",
       "        vertical-align: top;\n",
       "    }\n",
       "\n",
       "    .dataframe thead th {\n",
       "        text-align: right;\n",
       "    }\n",
       "</style>\n",
       "<table border=\"1\" class=\"dataframe\">\n",
       "  <thead>\n",
       "    <tr style=\"text-align: right;\">\n",
       "      <th></th>\n",
       "      <th>industry</th>\n",
       "      <th>country</th>\n",
       "      <th>bond_types</th>\n",
       "      <th>ISIN</th>\n",
       "      <th>total_bond_amount</th>\n",
       "      <th>coupon_rate</th>\n",
       "      <th>nominal_amount</th>\n",
       "      <th>maturity_date</th>\n",
       "    </tr>\n",
       "  </thead>\n",
       "  <tbody>\n",
       "    <tr>\n",
       "      <th>count</th>\n",
       "      <td>2083</td>\n",
       "      <td>2083</td>\n",
       "      <td>1206</td>\n",
       "      <td>2083</td>\n",
       "      <td>2083</td>\n",
       "      <td>2083</td>\n",
       "      <td>2083</td>\n",
       "      <td>2083</td>\n",
       "    </tr>\n",
       "    <tr>\n",
       "      <th>unique</th>\n",
       "      <td>20</td>\n",
       "      <td>26</td>\n",
       "      <td>15</td>\n",
       "      <td>2055</td>\n",
       "      <td>209</td>\n",
       "      <td>201</td>\n",
       "      <td>9</td>\n",
       "      <td>1611</td>\n",
       "    </tr>\n",
       "    <tr>\n",
       "      <th>top</th>\n",
       "      <td>Power</td>\n",
       "      <td>France</td>\n",
       "      <td>Senior Unsecured</td>\n",
       "      <td>FR0014000C08</td>\n",
       "      <td>500,000,000 EUR</td>\n",
       "      <td>1%</td>\n",
       "      <td>1,000 EUR</td>\n",
       "      <td>7apr2025</td>\n",
       "    </tr>\n",
       "    <tr>\n",
       "      <th>freq</th>\n",
       "      <td>346</td>\n",
       "      <td>562</td>\n",
       "      <td>922</td>\n",
       "      <td>10</td>\n",
       "      <td>587</td>\n",
       "      <td>118</td>\n",
       "      <td>1119</td>\n",
       "      <td>6</td>\n",
       "    </tr>\n",
       "  </tbody>\n",
       "</table>\n",
       "</div>"
      ],
      "text/plain": [
       "       industry country        bond_types          ISIN total_bond_amount  \\\n",
       "count      2083    2083              1206          2083              2083   \n",
       "unique       20      26                15          2055               209   \n",
       "top       Power  France  Senior Unsecured  FR0014000C08   500,000,000 EUR   \n",
       "freq        346     562               922            10               587   \n",
       "\n",
       "       coupon_rate nominal_amount maturity_date  \n",
       "count         2083           2083          2083  \n",
       "unique         201              9          1611  \n",
       "top             1%      1,000 EUR      7apr2025  \n",
       "freq           118           1119             6  "
      ]
     },
     "execution_count": 14,
     "metadata": {},
     "output_type": "execute_result"
    }
   ],
   "source": [
    "df_sm.describe(exclude=np.number)"
   ]
  },
  {
   "cell_type": "code",
   "execution_count": 15,
   "id": "1d30f95f",
   "metadata": {
    "ExecuteTime": {
     "end_time": "2021-05-22T12:04:07.593807Z",
     "start_time": "2021-05-22T12:04:07.581807Z"
    }
   },
   "outputs": [
    {
     "data": {
      "text/plain": [
       "0.5789726356216994"
      ]
     },
     "execution_count": 15,
     "metadata": {},
     "output_type": "execute_result"
    }
   ],
   "source": [
    "1206/2083"
   ]
  },
  {
   "cell_type": "markdown",
   "id": "e2e3bb23",
   "metadata": {},
   "source": [
    "Only 58% of the bonds have assigned a \"bond type\". Since this characteristic is of importance to detect if the bank has helped or not the green economy, we will only use in the analysis bonds with a non-missing bond type."
   ]
  },
  {
   "cell_type": "code",
   "execution_count": 16,
   "id": "608fb74c",
   "metadata": {
    "ExecuteTime": {
     "end_time": "2021-05-22T12:04:07.609814Z",
     "start_time": "2021-05-22T12:04:07.597811Z"
    }
   },
   "outputs": [
    {
     "data": {
      "text/plain": [
       "(1206, 9)"
      ]
     },
     "execution_count": 16,
     "metadata": {},
     "output_type": "execute_result"
    }
   ],
   "source": [
    "#Imputation of data for bonds\n",
    "df_sm=df_sm[~pd.isnull(df_sm[\"bond_types\"])]\n",
    "df_sm.shape"
   ]
  },
  {
   "cell_type": "markdown",
   "id": "775e819f",
   "metadata": {},
   "source": [
    "Number of bonds by industry"
   ]
  },
  {
   "cell_type": "code",
   "execution_count": 17,
   "id": "31ed5581",
   "metadata": {
    "ExecuteTime": {
     "end_time": "2021-05-22T12:04:07.640819Z",
     "start_time": "2021-05-22T12:04:07.613816Z"
    }
   },
   "outputs": [
    {
     "data": {
      "text/plain": [
       "Power                                  182\n",
       "Engineering industry                   145\n",
       "Construction and development           119\n",
       "Financial institutions                 115\n",
       "Oil and gas                            107\n",
       "Communication                          102\n",
       "Chemical and petrochemical industry     83\n",
       "Transportation                          79\n",
       "Food industry                           63\n",
       "Healthсare                              48\n",
       "Information and High Technologies       40\n",
       "Public utilities                        34\n",
       "Other sectors                           24\n",
       "Light industry                          20\n",
       "Media and Entertainment                 13\n",
       "Trade and retail                        11\n",
       "Mining industry                          8\n",
       "Pulp, paper and wood industries          6\n",
       "Ferrous metals                           4\n",
       "Non-ferrous metals                       3\n",
       "Name: industry, dtype: int64"
      ]
     },
     "execution_count": 17,
     "metadata": {},
     "output_type": "execute_result"
    }
   ],
   "source": [
    "df_sm[\"industry\"].value_counts()"
   ]
  },
  {
   "cell_type": "markdown",
   "id": "3899da43",
   "metadata": {},
   "source": [
    "We group industries with low observations and add them into the \"other sectors\" group. The purpose of this is to not draw assumptions from them in the correspondence analysis that are only based in a couple of observations"
   ]
  },
  {
   "cell_type": "code",
   "execution_count": 18,
   "id": "529f3d3e",
   "metadata": {
    "ExecuteTime": {
     "end_time": "2021-05-22T12:04:07.687920Z",
     "start_time": "2021-05-22T12:04:07.646826Z"
    }
   },
   "outputs": [],
   "source": [
    "df_sm[\"industry\"][df_sm[\"industry\"].isin([\"Pulp, paper and wood industries\", \"Ferrous metals\", \"Mining industry\",\"Non-ferrous metals\"])]=\"Other sectors\""
   ]
  },
  {
   "cell_type": "code",
   "execution_count": 19,
   "id": "5898631c",
   "metadata": {
    "ExecuteTime": {
     "end_time": "2021-05-22T12:04:07.718840Z",
     "start_time": "2021-05-22T12:04:07.692835Z"
    }
   },
   "outputs": [
    {
     "data": {
      "text/plain": [
       "Power                                  182\n",
       "Engineering industry                   145\n",
       "Construction and development           119\n",
       "Financial institutions                 115\n",
       "Oil and gas                            107\n",
       "Communication                          102\n",
       "Chemical and petrochemical industry     83\n",
       "Transportation                          79\n",
       "Food industry                           63\n",
       "Healthсare                              48\n",
       "Other sectors                           45\n",
       "Information and High Technologies       40\n",
       "Public utilities                        34\n",
       "Light industry                          20\n",
       "Media and Entertainment                 13\n",
       "Trade and retail                        11\n",
       "Name: industry, dtype: int64"
      ]
     },
     "execution_count": 19,
     "metadata": {},
     "output_type": "execute_result"
    }
   ],
   "source": [
    "df_sm[\"industry\"].value_counts()"
   ]
  },
  {
   "cell_type": "markdown",
   "id": "46ee27c8",
   "metadata": {},
   "source": [
    "We group bonds too"
   ]
  },
  {
   "cell_type": "code",
   "execution_count": 20,
   "id": "8241cf53",
   "metadata": {
    "ExecuteTime": {
     "end_time": "2021-05-22T12:04:07.750967Z",
     "start_time": "2021-05-22T12:04:07.721842Z"
    }
   },
   "outputs": [
    {
     "data": {
      "text/plain": [
       "Senior Unsecured                                    922\n",
       "Green bonds, Senior Unsecured                        79\n",
       "Zero-coupon bonds, Senior Unsecured                  45\n",
       "Floating rate                                        39\n",
       "Zero-coupon bonds                                    39\n",
       "Green bonds                                          32\n",
       "Senior Secured                                       21\n",
       "Senior Unsecured, Floating rate                      11\n",
       "Foreign bonds                                         6\n",
       "Green bonds, Zero-coupon bonds, Senior Unsecured      4\n",
       "Zero-coupon bonds, Senior Secured                     2\n",
       "Foreign bonds, Senior Unsecured                       2\n",
       "Green bonds, Senior Secured                           2\n",
       "Securitization                                        1\n",
       "Foreign bonds, Floating rate                          1\n",
       "Name: bond_types, dtype: int64"
      ]
     },
     "execution_count": 20,
     "metadata": {},
     "output_type": "execute_result"
    }
   ],
   "source": [
    "df_sm[\"bond_types\"].value_counts()"
   ]
  },
  {
   "cell_type": "code",
   "execution_count": 21,
   "id": "2a8aba2b",
   "metadata": {
    "ExecuteTime": {
     "end_time": "2021-05-22T12:04:07.814164Z",
     "start_time": "2021-05-22T12:04:07.754854Z"
    }
   },
   "outputs": [
    {
     "name": "stderr",
     "output_type": "stream",
     "text": [
      "<ipython-input-21-cb8fffd253ec>:14: SettingWithCopyWarning: \n",
      "A value is trying to be set on a copy of a slice from a DataFrame\n",
      "\n",
      "See the caveats in the documentation: https://pandas.pydata.org/pandas-docs/stable/user_guide/indexing.html#returning-a-view-versus-a-copy\n",
      "  df_sm[\"bond_types\"][df_sm[\"bond_types\"].isin([\"Senior Secured\", \"Floating rate\", \"Foreign bonds\",\"Securitization\"])]=\"Others\"\n"
     ]
    }
   ],
   "source": [
    "#Grouping of bond types\n",
    "auxgreen=[\"Green\" in  aux for aux in df_sm[\"bond_types\"]]\n",
    "df_sm.iloc[auxgreen,2]=\"Green bonds\"\n",
    "\n",
    "auxzero=[\"Zero\" in  aux for aux in df_sm[\"bond_types\"]]\n",
    "df_sm.iloc[auxzero,2]=\"Zero-coupon bonds\"\n",
    "\n",
    "auxforeign=[\"Foreign\" in  aux for aux in df_sm[\"bond_types\"]]\n",
    "df_sm.iloc[auxforeign,2]=\"Foreign bonds\"\n",
    "\n",
    "auxfloating=[\"Floating\" in  aux for aux in df_sm[\"bond_types\"]]\n",
    "df_sm.iloc[auxfloating,2]=\"Floating rate\"\n",
    "\n",
    "df_sm[\"bond_types\"][df_sm[\"bond_types\"].isin([\"Senior Secured\", \"Floating rate\", \"Foreign bonds\",\"Securitization\"])]=\"Others\""
   ]
  },
  {
   "cell_type": "code",
   "execution_count": 22,
   "id": "686c8ef5",
   "metadata": {
    "ExecuteTime": {
     "end_time": "2021-05-22T12:04:07.846155Z",
     "start_time": "2021-05-22T12:04:07.818146Z"
    }
   },
   "outputs": [
    {
     "data": {
      "text/plain": [
       "Senior Unsecured     922\n",
       "Green bonds          117\n",
       "Zero-coupon bonds     86\n",
       "Others                81\n",
       "Name: bond_types, dtype: int64"
      ]
     },
     "execution_count": 22,
     "metadata": {},
     "output_type": "execute_result"
    }
   ],
   "source": [
    "df_sm[\"bond_types\"].value_counts()"
   ]
  },
  {
   "cell_type": "markdown",
   "id": "181ef1b3",
   "metadata": {},
   "source": [
    "We visualize the frequency of each of the bond type by country, for descriptive purposes"
   ]
  },
  {
   "cell_type": "code",
   "execution_count": 23,
   "id": "9432ee77",
   "metadata": {
    "ExecuteTime": {
     "end_time": "2021-05-22T12:04:07.908299Z",
     "start_time": "2021-05-22T12:04:07.850156Z"
    }
   },
   "outputs": [
    {
     "data": {
      "text/html": [
       "<div>\n",
       "<style scoped>\n",
       "    .dataframe tbody tr th:only-of-type {\n",
       "        vertical-align: middle;\n",
       "    }\n",
       "\n",
       "    .dataframe tbody tr th {\n",
       "        vertical-align: top;\n",
       "    }\n",
       "\n",
       "    .dataframe thead th {\n",
       "        text-align: right;\n",
       "    }\n",
       "</style>\n",
       "<table border=\"1\" class=\"dataframe\">\n",
       "  <thead>\n",
       "    <tr style=\"text-align: right;\">\n",
       "      <th>bond_types</th>\n",
       "      <th>Green bonds</th>\n",
       "      <th>Others</th>\n",
       "      <th>Senior Unsecured</th>\n",
       "      <th>Zero-coupon bonds</th>\n",
       "    </tr>\n",
       "    <tr>\n",
       "      <th>country</th>\n",
       "      <th></th>\n",
       "      <th></th>\n",
       "      <th></th>\n",
       "      <th></th>\n",
       "    </tr>\n",
       "  </thead>\n",
       "  <tbody>\n",
       "    <tr>\n",
       "      <th>Austria</th>\n",
       "      <td>3</td>\n",
       "      <td>0</td>\n",
       "      <td>20</td>\n",
       "      <td>2</td>\n",
       "    </tr>\n",
       "    <tr>\n",
       "      <th>Belgium</th>\n",
       "      <td>1</td>\n",
       "      <td>4</td>\n",
       "      <td>1</td>\n",
       "      <td>0</td>\n",
       "    </tr>\n",
       "    <tr>\n",
       "      <th>Bermuda</th>\n",
       "      <td>0</td>\n",
       "      <td>0</td>\n",
       "      <td>1</td>\n",
       "      <td>0</td>\n",
       "    </tr>\n",
       "    <tr>\n",
       "      <th>Czech Republic</th>\n",
       "      <td>1</td>\n",
       "      <td>0</td>\n",
       "      <td>6</td>\n",
       "      <td>0</td>\n",
       "    </tr>\n",
       "    <tr>\n",
       "      <th>Denmark</th>\n",
       "      <td>0</td>\n",
       "      <td>0</td>\n",
       "      <td>6</td>\n",
       "      <td>0</td>\n",
       "    </tr>\n",
       "    <tr>\n",
       "      <th>Estonia</th>\n",
       "      <td>0</td>\n",
       "      <td>0</td>\n",
       "      <td>1</td>\n",
       "      <td>0</td>\n",
       "    </tr>\n",
       "    <tr>\n",
       "      <th>Finland</th>\n",
       "      <td>4</td>\n",
       "      <td>0</td>\n",
       "      <td>26</td>\n",
       "      <td>1</td>\n",
       "    </tr>\n",
       "    <tr>\n",
       "      <th>France</th>\n",
       "      <td>20</td>\n",
       "      <td>16</td>\n",
       "      <td>83</td>\n",
       "      <td>26</td>\n",
       "    </tr>\n",
       "    <tr>\n",
       "      <th>Germany</th>\n",
       "      <td>18</td>\n",
       "      <td>16</td>\n",
       "      <td>258</td>\n",
       "      <td>25</td>\n",
       "    </tr>\n",
       "    <tr>\n",
       "      <th>Hong Kong</th>\n",
       "      <td>0</td>\n",
       "      <td>0</td>\n",
       "      <td>4</td>\n",
       "      <td>0</td>\n",
       "    </tr>\n",
       "    <tr>\n",
       "      <th>Ireland</th>\n",
       "      <td>1</td>\n",
       "      <td>1</td>\n",
       "      <td>23</td>\n",
       "      <td>0</td>\n",
       "    </tr>\n",
       "    <tr>\n",
       "      <th>Italy</th>\n",
       "      <td>24</td>\n",
       "      <td>1</td>\n",
       "      <td>100</td>\n",
       "      <td>6</td>\n",
       "    </tr>\n",
       "    <tr>\n",
       "      <th>Lithuania</th>\n",
       "      <td>2</td>\n",
       "      <td>0</td>\n",
       "      <td>1</td>\n",
       "      <td>0</td>\n",
       "    </tr>\n",
       "    <tr>\n",
       "      <th>Luxembourg</th>\n",
       "      <td>0</td>\n",
       "      <td>1</td>\n",
       "      <td>9</td>\n",
       "      <td>1</td>\n",
       "    </tr>\n",
       "    <tr>\n",
       "      <th>Netherlands</th>\n",
       "      <td>24</td>\n",
       "      <td>17</td>\n",
       "      <td>119</td>\n",
       "      <td>8</td>\n",
       "    </tr>\n",
       "    <tr>\n",
       "      <th>Portugal</th>\n",
       "      <td>2</td>\n",
       "      <td>0</td>\n",
       "      <td>5</td>\n",
       "      <td>1</td>\n",
       "    </tr>\n",
       "    <tr>\n",
       "      <th>Romania</th>\n",
       "      <td>1</td>\n",
       "      <td>0</td>\n",
       "      <td>0</td>\n",
       "      <td>0</td>\n",
       "    </tr>\n",
       "    <tr>\n",
       "      <th>Slovakia</th>\n",
       "      <td>0</td>\n",
       "      <td>0</td>\n",
       "      <td>3</td>\n",
       "      <td>0</td>\n",
       "    </tr>\n",
       "    <tr>\n",
       "      <th>South Africa</th>\n",
       "      <td>0</td>\n",
       "      <td>0</td>\n",
       "      <td>4</td>\n",
       "      <td>0</td>\n",
       "    </tr>\n",
       "    <tr>\n",
       "      <th>Spain</th>\n",
       "      <td>14</td>\n",
       "      <td>11</td>\n",
       "      <td>95</td>\n",
       "      <td>1</td>\n",
       "    </tr>\n",
       "    <tr>\n",
       "      <th>Sweden</th>\n",
       "      <td>0</td>\n",
       "      <td>3</td>\n",
       "      <td>5</td>\n",
       "      <td>0</td>\n",
       "    </tr>\n",
       "    <tr>\n",
       "      <th>Switzerland</th>\n",
       "      <td>1</td>\n",
       "      <td>4</td>\n",
       "      <td>55</td>\n",
       "      <td>7</td>\n",
       "    </tr>\n",
       "    <tr>\n",
       "      <th>USA</th>\n",
       "      <td>1</td>\n",
       "      <td>3</td>\n",
       "      <td>37</td>\n",
       "      <td>3</td>\n",
       "    </tr>\n",
       "    <tr>\n",
       "      <th>United Kingdom</th>\n",
       "      <td>0</td>\n",
       "      <td>4</td>\n",
       "      <td>60</td>\n",
       "      <td>5</td>\n",
       "    </tr>\n",
       "  </tbody>\n",
       "</table>\n",
       "</div>"
      ],
      "text/plain": [
       "bond_types      Green bonds  Others  Senior Unsecured  Zero-coupon bonds\n",
       "country                                                                 \n",
       "Austria                   3       0                20                  2\n",
       "Belgium                   1       4                 1                  0\n",
       "Bermuda                   0       0                 1                  0\n",
       "Czech Republic            1       0                 6                  0\n",
       "Denmark                   0       0                 6                  0\n",
       "Estonia                   0       0                 1                  0\n",
       "Finland                   4       0                26                  1\n",
       "France                   20      16                83                 26\n",
       "Germany                  18      16               258                 25\n",
       "Hong Kong                 0       0                 4                  0\n",
       "Ireland                   1       1                23                  0\n",
       "Italy                    24       1               100                  6\n",
       "Lithuania                 2       0                 1                  0\n",
       "Luxembourg                0       1                 9                  1\n",
       "Netherlands              24      17               119                  8\n",
       "Portugal                  2       0                 5                  1\n",
       "Romania                   1       0                 0                  0\n",
       "Slovakia                  0       0                 3                  0\n",
       "South Africa              0       0                 4                  0\n",
       "Spain                    14      11                95                  1\n",
       "Sweden                    0       3                 5                  0\n",
       "Switzerland               1       4                55                  7\n",
       "USA                       1       3                37                  3\n",
       "United Kingdom            0       4                60                  5"
      ]
     },
     "execution_count": 23,
     "metadata": {},
     "output_type": "execute_result"
    }
   ],
   "source": [
    "crosst=pd.crosstab(df_sm[\"country\"],df_sm[\"bond_types\"])\n",
    "crosst"
   ]
  },
  {
   "cell_type": "markdown",
   "id": "050b0916",
   "metadata": {},
   "source": [
    "Number of bonds per country. We will group countries which are similar and which have a very small number of bonds."
   ]
  },
  {
   "cell_type": "code",
   "execution_count": 24,
   "id": "ba3ac52a",
   "metadata": {
    "ExecuteTime": {
     "end_time": "2021-05-22T12:04:07.940179Z",
     "start_time": "2021-05-22T12:04:07.912169Z"
    },
    "scrolled": false
   },
   "outputs": [
    {
     "data": {
      "text/plain": [
       "Germany           317\n",
       "Netherlands       168\n",
       "France            145\n",
       "Italy             131\n",
       "Spain             121\n",
       "United Kingdom     69\n",
       "Switzerland        67\n",
       "USA                44\n",
       "Finland            31\n",
       "Ireland            25\n",
       "Austria            25\n",
       "Luxembourg         11\n",
       "Portugal            8\n",
       "Sweden              8\n",
       "Czech Republic      7\n",
       "Belgium             6\n",
       "Denmark             6\n",
       "Hong Kong           4\n",
       "South Africa        4\n",
       "Lithuania           3\n",
       "Slovakia            3\n",
       "Romania             1\n",
       "Bermuda             1\n",
       "Estonia             1\n",
       "Name: country, dtype: int64"
      ]
     },
     "execution_count": 24,
     "metadata": {},
     "output_type": "execute_result"
    }
   ],
   "source": [
    "df_sm[\"country\"].value_counts() "
   ]
  },
  {
   "cell_type": "code",
   "execution_count": 25,
   "id": "11a873b4",
   "metadata": {
    "ExecuteTime": {
     "end_time": "2021-05-22T12:04:08.113623Z",
     "start_time": "2021-05-22T12:04:07.943181Z"
    },
    "scrolled": true
   },
   "outputs": [
    {
     "name": "stderr",
     "output_type": "stream",
     "text": [
      "<ipython-input-25-2ba581a33763>:1: SettingWithCopyWarning: \n",
      "A value is trying to be set on a copy of a slice from a DataFrame\n",
      "\n",
      "See the caveats in the documentation: https://pandas.pydata.org/pandas-docs/stable/user_guide/indexing.html#returning-a-view-versus-a-copy\n",
      "  df_sm[\"country\"][df_sm[\"country\"].isin([\"USA\",\"Hong Kong\", \"South Africa\", \"Bermuda\"])]=\"Non_EU\"\n",
      "<ipython-input-25-2ba581a33763>:2: SettingWithCopyWarning: \n",
      "A value is trying to be set on a copy of a slice from a DataFrame\n",
      "\n",
      "See the caveats in the documentation: https://pandas.pydata.org/pandas-docs/stable/user_guide/indexing.html#returning-a-view-versus-a-copy\n",
      "  df_sm[\"country\"][df_sm[\"country\"].isin([\"Sweden\", \"Denmark\"])]=\"Sweden_Denmark\"\n",
      "<ipython-input-25-2ba581a33763>:3: SettingWithCopyWarning: \n",
      "A value is trying to be set on a copy of a slice from a DataFrame\n",
      "\n",
      "See the caveats in the documentation: https://pandas.pydata.org/pandas-docs/stable/user_guide/indexing.html#returning-a-view-versus-a-copy\n",
      "  df_sm[\"country\"][df_sm[\"country\"].isin([\"Romania\", \"Slovakia\",\"Czech Republic\"])]=\"CZ_SK_RO\"\n",
      "<ipython-input-25-2ba581a33763>:4: SettingWithCopyWarning: \n",
      "A value is trying to be set on a copy of a slice from a DataFrame\n",
      "\n",
      "See the caveats in the documentation: https://pandas.pydata.org/pandas-docs/stable/user_guide/indexing.html#returning-a-view-versus-a-copy\n",
      "  df_sm[\"country\"][df_sm[\"country\"].isin([\"Lithuania\", \"Estonia\"])]=\"LT_EE\"\n",
      "<ipython-input-25-2ba581a33763>:5: SettingWithCopyWarning: \n",
      "A value is trying to be set on a copy of a slice from a DataFrame\n",
      "\n",
      "See the caveats in the documentation: https://pandas.pydata.org/pandas-docs/stable/user_guide/indexing.html#returning-a-view-versus-a-copy\n",
      "  df_sm[\"country\"][df_sm[\"country\"].isin([\"Belgium\",\"Luxembourg\"])]=\"BE_LU\"\n"
     ]
    }
   ],
   "source": [
    "df_sm[\"country\"][df_sm[\"country\"].isin([\"USA\",\"Hong Kong\", \"South Africa\", \"Bermuda\"])]=\"Non_EU\"\n",
    "df_sm[\"country\"][df_sm[\"country\"].isin([\"Sweden\", \"Denmark\"])]=\"Sweden_Denmark\"\n",
    "df_sm[\"country\"][df_sm[\"country\"].isin([\"Romania\", \"Slovakia\",\"Czech Republic\"])]=\"CZ_SK_RO\"\n",
    "df_sm[\"country\"][df_sm[\"country\"].isin([\"Lithuania\", \"Estonia\"])]=\"LT_EE\"\n",
    "df_sm[\"country\"][df_sm[\"country\"].isin([\"Belgium\",\"Luxembourg\"])]=\"BE_LU\""
   ]
  },
  {
   "cell_type": "code",
   "execution_count": 26,
   "id": "84c681b1",
   "metadata": {
    "ExecuteTime": {
     "end_time": "2021-05-22T12:04:08.129650Z",
     "start_time": "2021-05-22T12:04:08.117629Z"
    }
   },
   "outputs": [
    {
     "data": {
      "text/plain": [
       "Germany           317\n",
       "Netherlands       168\n",
       "France            145\n",
       "Italy             131\n",
       "Spain             121\n",
       "United Kingdom     69\n",
       "Switzerland        67\n",
       "Non_EU             53\n",
       "Finland            31\n",
       "Ireland            25\n",
       "Austria            25\n",
       "BE_LU              17\n",
       "Sweden_Denmark     14\n",
       "CZ_SK_RO           11\n",
       "Portugal            8\n",
       "LT_EE               4\n",
       "Name: country, dtype: int64"
      ]
     },
     "execution_count": 26,
     "metadata": {},
     "output_type": "execute_result"
    }
   ],
   "source": [
    "df_sm[\"country\"].value_counts()"
   ]
  },
  {
   "cell_type": "markdown",
   "id": "29c14cfd",
   "metadata": {},
   "source": [
    "# Descriptive Analysis: Correspondence Analysis\n",
    "\n",
    "We analyse the relationships between industry, country and type of a bond"
   ]
  },
  {
   "cell_type": "code",
   "execution_count": null,
   "id": "ce2ea4a3",
   "metadata": {
    "ExecuteTime": {
     "end_time": "2021-05-22T12:04:08.145666Z",
     "start_time": "2021-05-22T12:04:08.133625Z"
    }
   },
   "outputs": [],
   "source": []
  },
  {
   "cell_type": "code",
   "execution_count": 31,
   "id": "878e5d1a",
   "metadata": {
    "ExecuteTime": {
     "end_time": "2021-05-22T12:04:08.193641Z",
     "start_time": "2021-05-22T12:04:08.167635Z"
    }
   },
   "outputs": [],
   "source": [
    "df_dummies=pd.get_dummies(df_sm[[\"industry\",\"country\",\"bond_types\"]], prefix=None, prefix_sep='_')"
   ]
  },
  {
   "cell_type": "code",
   "execution_count": 137,
   "id": "ba74de42",
   "metadata": {
    "ExecuteTime": {
     "end_time": "2021-05-22T12:04:08.255656Z",
     "start_time": "2021-05-22T12:04:08.198644Z"
    }
   },
   "outputs": [
    {
     "data": {
      "text/html": [
       "<div>\n",
       "<style scoped>\n",
       "    .dataframe tbody tr th:only-of-type {\n",
       "        vertical-align: middle;\n",
       "    }\n",
       "\n",
       "    .dataframe tbody tr th {\n",
       "        vertical-align: top;\n",
       "    }\n",
       "\n",
       "    .dataframe thead th {\n",
       "        text-align: right;\n",
       "    }\n",
       "</style>\n",
       "<table border=\"1\" class=\"dataframe\">\n",
       "  <thead>\n",
       "    <tr style=\"text-align: right;\">\n",
       "      <th></th>\n",
       "      <th>industry_Chemical and petrochemical industry</th>\n",
       "      <th>industry_Communication</th>\n",
       "      <th>industry_Construction and development</th>\n",
       "      <th>industry_Engineering industry</th>\n",
       "      <th>industry_Financial institutions</th>\n",
       "      <th>industry_Food industry</th>\n",
       "      <th>industry_Healthсare</th>\n",
       "      <th>industry_Information and High Technologies</th>\n",
       "      <th>industry_Light industry</th>\n",
       "      <th>industry_Media and Entertainment</th>\n",
       "      <th>...</th>\n",
       "      <th>country_Non_EU</th>\n",
       "      <th>country_Portugal</th>\n",
       "      <th>country_Spain</th>\n",
       "      <th>country_Sweden_Denmark</th>\n",
       "      <th>country_Switzerland</th>\n",
       "      <th>country_United Kingdom</th>\n",
       "      <th>bond_types_Green bonds</th>\n",
       "      <th>bond_types_Others</th>\n",
       "      <th>bond_types_Senior Unsecured</th>\n",
       "      <th>bond_types_Zero-coupon bonds</th>\n",
       "    </tr>\n",
       "  </thead>\n",
       "  <tbody>\n",
       "    <tr>\n",
       "      <th>1</th>\n",
       "      <td>0</td>\n",
       "      <td>0</td>\n",
       "      <td>0</td>\n",
       "      <td>0</td>\n",
       "      <td>0</td>\n",
       "      <td>0</td>\n",
       "      <td>0</td>\n",
       "      <td>0</td>\n",
       "      <td>0</td>\n",
       "      <td>0</td>\n",
       "      <td>...</td>\n",
       "      <td>0</td>\n",
       "      <td>0</td>\n",
       "      <td>0</td>\n",
       "      <td>0</td>\n",
       "      <td>0</td>\n",
       "      <td>0</td>\n",
       "      <td>0</td>\n",
       "      <td>0</td>\n",
       "      <td>1</td>\n",
       "      <td>0</td>\n",
       "    </tr>\n",
       "    <tr>\n",
       "      <th>3</th>\n",
       "      <td>0</td>\n",
       "      <td>0</td>\n",
       "      <td>0</td>\n",
       "      <td>0</td>\n",
       "      <td>0</td>\n",
       "      <td>0</td>\n",
       "      <td>0</td>\n",
       "      <td>0</td>\n",
       "      <td>0</td>\n",
       "      <td>0</td>\n",
       "      <td>...</td>\n",
       "      <td>0</td>\n",
       "      <td>0</td>\n",
       "      <td>0</td>\n",
       "      <td>0</td>\n",
       "      <td>0</td>\n",
       "      <td>0</td>\n",
       "      <td>0</td>\n",
       "      <td>0</td>\n",
       "      <td>1</td>\n",
       "      <td>0</td>\n",
       "    </tr>\n",
       "    <tr>\n",
       "      <th>6</th>\n",
       "      <td>0</td>\n",
       "      <td>0</td>\n",
       "      <td>0</td>\n",
       "      <td>0</td>\n",
       "      <td>0</td>\n",
       "      <td>0</td>\n",
       "      <td>0</td>\n",
       "      <td>0</td>\n",
       "      <td>0</td>\n",
       "      <td>0</td>\n",
       "      <td>...</td>\n",
       "      <td>0</td>\n",
       "      <td>0</td>\n",
       "      <td>0</td>\n",
       "      <td>0</td>\n",
       "      <td>0</td>\n",
       "      <td>0</td>\n",
       "      <td>0</td>\n",
       "      <td>0</td>\n",
       "      <td>1</td>\n",
       "      <td>0</td>\n",
       "    </tr>\n",
       "  </tbody>\n",
       "</table>\n",
       "<p>3 rows × 36 columns</p>\n",
       "</div>"
      ],
      "text/plain": [
       "   industry_Chemical and petrochemical industry  industry_Communication  \\\n",
       "1                                             0                       0   \n",
       "3                                             0                       0   \n",
       "6                                             0                       0   \n",
       "\n",
       "   industry_Construction and development  industry_Engineering industry  \\\n",
       "1                                      0                              0   \n",
       "3                                      0                              0   \n",
       "6                                      0                              0   \n",
       "\n",
       "   industry_Financial institutions  industry_Food industry  \\\n",
       "1                                0                       0   \n",
       "3                                0                       0   \n",
       "6                                0                       0   \n",
       "\n",
       "   industry_Healthсare  industry_Information and High Technologies  \\\n",
       "1                    0                                           0   \n",
       "3                    0                                           0   \n",
       "6                    0                                           0   \n",
       "\n",
       "   industry_Light industry  industry_Media and Entertainment  ...  \\\n",
       "1                        0                                 0  ...   \n",
       "3                        0                                 0  ...   \n",
       "6                        0                                 0  ...   \n",
       "\n",
       "   country_Non_EU  country_Portugal  country_Spain  country_Sweden_Denmark  \\\n",
       "1               0                 0              0                       0   \n",
       "3               0                 0              0                       0   \n",
       "6               0                 0              0                       0   \n",
       "\n",
       "   country_Switzerland  country_United Kingdom  bond_types_Green bonds  \\\n",
       "1                    0                       0                       0   \n",
       "3                    0                       0                       0   \n",
       "6                    0                       0                       0   \n",
       "\n",
       "   bond_types_Others  bond_types_Senior Unsecured  \\\n",
       "1                  0                            1   \n",
       "3                  0                            1   \n",
       "6                  0                            1   \n",
       "\n",
       "   bond_types_Zero-coupon bonds  \n",
       "1                             0  \n",
       "3                             0  \n",
       "6                             0  \n",
       "\n",
       "[3 rows x 36 columns]"
      ]
     },
     "execution_count": 137,
     "metadata": {},
     "output_type": "execute_result"
    }
   ],
   "source": [
    "df_dummies.shape\n",
    "df_dummies.head(3)"
   ]
  },
  {
   "cell_type": "code",
   "execution_count": 33,
   "id": "ec607f13",
   "metadata": {},
   "outputs": [
    {
     "data": {
      "text/html": [
       "<div>\n",
       "<style scoped>\n",
       "    .dataframe tbody tr th:only-of-type {\n",
       "        vertical-align: middle;\n",
       "    }\n",
       "\n",
       "    .dataframe tbody tr th {\n",
       "        vertical-align: top;\n",
       "    }\n",
       "\n",
       "    .dataframe thead th {\n",
       "        text-align: right;\n",
       "    }\n",
       "</style>\n",
       "<table border=\"1\" class=\"dataframe\">\n",
       "  <thead>\n",
       "    <tr style=\"text-align: right;\">\n",
       "      <th></th>\n",
       "      <th>industry_Chemical and petrochemical industry</th>\n",
       "      <th>industry_Communication</th>\n",
       "      <th>industry_Construction and development</th>\n",
       "      <th>industry_Engineering industry</th>\n",
       "      <th>industry_Financial institutions</th>\n",
       "      <th>industry_Food industry</th>\n",
       "      <th>industry_Healthсare</th>\n",
       "      <th>industry_Information and High Technologies</th>\n",
       "      <th>industry_Light industry</th>\n",
       "      <th>industry_Media and Entertainment</th>\n",
       "      <th>...</th>\n",
       "      <th>country_Non_EU</th>\n",
       "      <th>country_Portugal</th>\n",
       "      <th>country_Spain</th>\n",
       "      <th>country_Sweden_Denmark</th>\n",
       "      <th>country_Switzerland</th>\n",
       "      <th>country_United Kingdom</th>\n",
       "      <th>bond_types_Green bonds</th>\n",
       "      <th>bond_types_Others</th>\n",
       "      <th>bond_types_Senior Unsecured</th>\n",
       "      <th>bond_types_Zero-coupon bonds</th>\n",
       "    </tr>\n",
       "  </thead>\n",
       "  <tbody>\n",
       "    <tr>\n",
       "      <th>1</th>\n",
       "      <td>0</td>\n",
       "      <td>0</td>\n",
       "      <td>0</td>\n",
       "      <td>0</td>\n",
       "      <td>0</td>\n",
       "      <td>0</td>\n",
       "      <td>0</td>\n",
       "      <td>0</td>\n",
       "      <td>0</td>\n",
       "      <td>0</td>\n",
       "      <td>...</td>\n",
       "      <td>0</td>\n",
       "      <td>0</td>\n",
       "      <td>0</td>\n",
       "      <td>0</td>\n",
       "      <td>0</td>\n",
       "      <td>0</td>\n",
       "      <td>0</td>\n",
       "      <td>0</td>\n",
       "      <td>1</td>\n",
       "      <td>0</td>\n",
       "    </tr>\n",
       "    <tr>\n",
       "      <th>3</th>\n",
       "      <td>0</td>\n",
       "      <td>0</td>\n",
       "      <td>0</td>\n",
       "      <td>0</td>\n",
       "      <td>0</td>\n",
       "      <td>0</td>\n",
       "      <td>0</td>\n",
       "      <td>0</td>\n",
       "      <td>0</td>\n",
       "      <td>0</td>\n",
       "      <td>...</td>\n",
       "      <td>0</td>\n",
       "      <td>0</td>\n",
       "      <td>0</td>\n",
       "      <td>0</td>\n",
       "      <td>0</td>\n",
       "      <td>0</td>\n",
       "      <td>0</td>\n",
       "      <td>0</td>\n",
       "      <td>1</td>\n",
       "      <td>0</td>\n",
       "    </tr>\n",
       "    <tr>\n",
       "      <th>6</th>\n",
       "      <td>0</td>\n",
       "      <td>0</td>\n",
       "      <td>0</td>\n",
       "      <td>0</td>\n",
       "      <td>0</td>\n",
       "      <td>0</td>\n",
       "      <td>0</td>\n",
       "      <td>0</td>\n",
       "      <td>0</td>\n",
       "      <td>0</td>\n",
       "      <td>...</td>\n",
       "      <td>0</td>\n",
       "      <td>0</td>\n",
       "      <td>0</td>\n",
       "      <td>0</td>\n",
       "      <td>0</td>\n",
       "      <td>0</td>\n",
       "      <td>0</td>\n",
       "      <td>0</td>\n",
       "      <td>1</td>\n",
       "      <td>0</td>\n",
       "    </tr>\n",
       "    <tr>\n",
       "      <th>10</th>\n",
       "      <td>0</td>\n",
       "      <td>0</td>\n",
       "      <td>0</td>\n",
       "      <td>1</td>\n",
       "      <td>0</td>\n",
       "      <td>0</td>\n",
       "      <td>0</td>\n",
       "      <td>0</td>\n",
       "      <td>0</td>\n",
       "      <td>0</td>\n",
       "      <td>...</td>\n",
       "      <td>0</td>\n",
       "      <td>0</td>\n",
       "      <td>0</td>\n",
       "      <td>0</td>\n",
       "      <td>0</td>\n",
       "      <td>0</td>\n",
       "      <td>0</td>\n",
       "      <td>0</td>\n",
       "      <td>1</td>\n",
       "      <td>0</td>\n",
       "    </tr>\n",
       "    <tr>\n",
       "      <th>11</th>\n",
       "      <td>0</td>\n",
       "      <td>0</td>\n",
       "      <td>0</td>\n",
       "      <td>1</td>\n",
       "      <td>0</td>\n",
       "      <td>0</td>\n",
       "      <td>0</td>\n",
       "      <td>0</td>\n",
       "      <td>0</td>\n",
       "      <td>0</td>\n",
       "      <td>...</td>\n",
       "      <td>0</td>\n",
       "      <td>0</td>\n",
       "      <td>0</td>\n",
       "      <td>0</td>\n",
       "      <td>1</td>\n",
       "      <td>0</td>\n",
       "      <td>0</td>\n",
       "      <td>0</td>\n",
       "      <td>1</td>\n",
       "      <td>0</td>\n",
       "    </tr>\n",
       "    <tr>\n",
       "      <th>...</th>\n",
       "      <td>...</td>\n",
       "      <td>...</td>\n",
       "      <td>...</td>\n",
       "      <td>...</td>\n",
       "      <td>...</td>\n",
       "      <td>...</td>\n",
       "      <td>...</td>\n",
       "      <td>...</td>\n",
       "      <td>...</td>\n",
       "      <td>...</td>\n",
       "      <td>...</td>\n",
       "      <td>...</td>\n",
       "      <td>...</td>\n",
       "      <td>...</td>\n",
       "      <td>...</td>\n",
       "      <td>...</td>\n",
       "      <td>...</td>\n",
       "      <td>...</td>\n",
       "      <td>...</td>\n",
       "      <td>...</td>\n",
       "      <td>...</td>\n",
       "    </tr>\n",
       "    <tr>\n",
       "      <th>2078</th>\n",
       "      <td>0</td>\n",
       "      <td>0</td>\n",
       "      <td>0</td>\n",
       "      <td>0</td>\n",
       "      <td>1</td>\n",
       "      <td>0</td>\n",
       "      <td>0</td>\n",
       "      <td>0</td>\n",
       "      <td>0</td>\n",
       "      <td>0</td>\n",
       "      <td>...</td>\n",
       "      <td>0</td>\n",
       "      <td>0</td>\n",
       "      <td>0</td>\n",
       "      <td>0</td>\n",
       "      <td>0</td>\n",
       "      <td>0</td>\n",
       "      <td>0</td>\n",
       "      <td>0</td>\n",
       "      <td>1</td>\n",
       "      <td>0</td>\n",
       "    </tr>\n",
       "    <tr>\n",
       "      <th>2079</th>\n",
       "      <td>0</td>\n",
       "      <td>0</td>\n",
       "      <td>0</td>\n",
       "      <td>0</td>\n",
       "      <td>0</td>\n",
       "      <td>1</td>\n",
       "      <td>0</td>\n",
       "      <td>0</td>\n",
       "      <td>0</td>\n",
       "      <td>0</td>\n",
       "      <td>...</td>\n",
       "      <td>0</td>\n",
       "      <td>0</td>\n",
       "      <td>0</td>\n",
       "      <td>0</td>\n",
       "      <td>0</td>\n",
       "      <td>1</td>\n",
       "      <td>0</td>\n",
       "      <td>0</td>\n",
       "      <td>0</td>\n",
       "      <td>1</td>\n",
       "    </tr>\n",
       "    <tr>\n",
       "      <th>2080</th>\n",
       "      <td>0</td>\n",
       "      <td>0</td>\n",
       "      <td>0</td>\n",
       "      <td>0</td>\n",
       "      <td>0</td>\n",
       "      <td>1</td>\n",
       "      <td>0</td>\n",
       "      <td>0</td>\n",
       "      <td>0</td>\n",
       "      <td>0</td>\n",
       "      <td>...</td>\n",
       "      <td>0</td>\n",
       "      <td>0</td>\n",
       "      <td>0</td>\n",
       "      <td>0</td>\n",
       "      <td>0</td>\n",
       "      <td>1</td>\n",
       "      <td>0</td>\n",
       "      <td>0</td>\n",
       "      <td>1</td>\n",
       "      <td>0</td>\n",
       "    </tr>\n",
       "    <tr>\n",
       "      <th>2081</th>\n",
       "      <td>0</td>\n",
       "      <td>0</td>\n",
       "      <td>0</td>\n",
       "      <td>0</td>\n",
       "      <td>0</td>\n",
       "      <td>1</td>\n",
       "      <td>0</td>\n",
       "      <td>0</td>\n",
       "      <td>0</td>\n",
       "      <td>0</td>\n",
       "      <td>...</td>\n",
       "      <td>0</td>\n",
       "      <td>0</td>\n",
       "      <td>0</td>\n",
       "      <td>0</td>\n",
       "      <td>0</td>\n",
       "      <td>1</td>\n",
       "      <td>0</td>\n",
       "      <td>0</td>\n",
       "      <td>1</td>\n",
       "      <td>0</td>\n",
       "    </tr>\n",
       "    <tr>\n",
       "      <th>2082</th>\n",
       "      <td>0</td>\n",
       "      <td>0</td>\n",
       "      <td>0</td>\n",
       "      <td>0</td>\n",
       "      <td>0</td>\n",
       "      <td>1</td>\n",
       "      <td>0</td>\n",
       "      <td>0</td>\n",
       "      <td>0</td>\n",
       "      <td>0</td>\n",
       "      <td>...</td>\n",
       "      <td>0</td>\n",
       "      <td>0</td>\n",
       "      <td>0</td>\n",
       "      <td>0</td>\n",
       "      <td>0</td>\n",
       "      <td>1</td>\n",
       "      <td>0</td>\n",
       "      <td>0</td>\n",
       "      <td>1</td>\n",
       "      <td>0</td>\n",
       "    </tr>\n",
       "  </tbody>\n",
       "</table>\n",
       "<p>1206 rows × 36 columns</p>\n",
       "</div>"
      ],
      "text/plain": [
       "      industry_Chemical and petrochemical industry  industry_Communication  \\\n",
       "1                                                0                       0   \n",
       "3                                                0                       0   \n",
       "6                                                0                       0   \n",
       "10                                               0                       0   \n",
       "11                                               0                       0   \n",
       "...                                            ...                     ...   \n",
       "2078                                             0                       0   \n",
       "2079                                             0                       0   \n",
       "2080                                             0                       0   \n",
       "2081                                             0                       0   \n",
       "2082                                             0                       0   \n",
       "\n",
       "      industry_Construction and development  industry_Engineering industry  \\\n",
       "1                                         0                              0   \n",
       "3                                         0                              0   \n",
       "6                                         0                              0   \n",
       "10                                        0                              1   \n",
       "11                                        0                              1   \n",
       "...                                     ...                            ...   \n",
       "2078                                      0                              0   \n",
       "2079                                      0                              0   \n",
       "2080                                      0                              0   \n",
       "2081                                      0                              0   \n",
       "2082                                      0                              0   \n",
       "\n",
       "      industry_Financial institutions  industry_Food industry  \\\n",
       "1                                   0                       0   \n",
       "3                                   0                       0   \n",
       "6                                   0                       0   \n",
       "10                                  0                       0   \n",
       "11                                  0                       0   \n",
       "...                               ...                     ...   \n",
       "2078                                1                       0   \n",
       "2079                                0                       1   \n",
       "2080                                0                       1   \n",
       "2081                                0                       1   \n",
       "2082                                0                       1   \n",
       "\n",
       "      industry_Healthсare  industry_Information and High Technologies  \\\n",
       "1                       0                                           0   \n",
       "3                       0                                           0   \n",
       "6                       0                                           0   \n",
       "10                      0                                           0   \n",
       "11                      0                                           0   \n",
       "...                   ...                                         ...   \n",
       "2078                    0                                           0   \n",
       "2079                    0                                           0   \n",
       "2080                    0                                           0   \n",
       "2081                    0                                           0   \n",
       "2082                    0                                           0   \n",
       "\n",
       "      industry_Light industry  industry_Media and Entertainment  ...  \\\n",
       "1                           0                                 0  ...   \n",
       "3                           0                                 0  ...   \n",
       "6                           0                                 0  ...   \n",
       "10                          0                                 0  ...   \n",
       "11                          0                                 0  ...   \n",
       "...                       ...                               ...  ...   \n",
       "2078                        0                                 0  ...   \n",
       "2079                        0                                 0  ...   \n",
       "2080                        0                                 0  ...   \n",
       "2081                        0                                 0  ...   \n",
       "2082                        0                                 0  ...   \n",
       "\n",
       "      country_Non_EU  country_Portugal  country_Spain  country_Sweden_Denmark  \\\n",
       "1                  0                 0              0                       0   \n",
       "3                  0                 0              0                       0   \n",
       "6                  0                 0              0                       0   \n",
       "10                 0                 0              0                       0   \n",
       "11                 0                 0              0                       0   \n",
       "...              ...               ...            ...                     ...   \n",
       "2078               0                 0              0                       0   \n",
       "2079               0                 0              0                       0   \n",
       "2080               0                 0              0                       0   \n",
       "2081               0                 0              0                       0   \n",
       "2082               0                 0              0                       0   \n",
       "\n",
       "      country_Switzerland  country_United Kingdom  bond_types_Green bonds  \\\n",
       "1                       0                       0                       0   \n",
       "3                       0                       0                       0   \n",
       "6                       0                       0                       0   \n",
       "10                      0                       0                       0   \n",
       "11                      1                       0                       0   \n",
       "...                   ...                     ...                     ...   \n",
       "2078                    0                       0                       0   \n",
       "2079                    0                       1                       0   \n",
       "2080                    0                       1                       0   \n",
       "2081                    0                       1                       0   \n",
       "2082                    0                       1                       0   \n",
       "\n",
       "      bond_types_Others  bond_types_Senior Unsecured  \\\n",
       "1                     0                            1   \n",
       "3                     0                            1   \n",
       "6                     0                            1   \n",
       "10                    0                            1   \n",
       "11                    0                            1   \n",
       "...                 ...                          ...   \n",
       "2078                  0                            1   \n",
       "2079                  0                            0   \n",
       "2080                  0                            1   \n",
       "2081                  0                            1   \n",
       "2082                  0                            1   \n",
       "\n",
       "      bond_types_Zero-coupon bonds  \n",
       "1                                0  \n",
       "3                                0  \n",
       "6                                0  \n",
       "10                               0  \n",
       "11                               0  \n",
       "...                            ...  \n",
       "2078                             0  \n",
       "2079                             1  \n",
       "2080                             0  \n",
       "2081                             0  \n",
       "2082                             0  \n",
       "\n",
       "[1206 rows x 36 columns]"
      ]
     },
     "execution_count": 33,
     "metadata": {},
     "output_type": "execute_result"
    }
   ],
   "source": [
    "df_dummies"
   ]
  },
  {
   "cell_type": "code",
   "execution_count": 38,
   "id": "b6db3d7c",
   "metadata": {
    "ExecuteTime": {
     "end_time": "2021-05-22T12:04:08.574332Z",
     "start_time": "2021-05-22T12:04:08.259656Z"
    }
   },
   "outputs": [
    {
     "data": {
      "text/plain": [
       "<mca.MCA at 0x1fc55d7ca60>"
      ]
     },
     "execution_count": 38,
     "metadata": {},
     "output_type": "execute_result"
    }
   ],
   "source": [
    "mca_ind = mca.MCA(df_dummies, benzecri=True)\n",
    "mca_ind"
   ]
  },
  {
   "cell_type": "code",
   "execution_count": 39,
   "id": "8ad828c4",
   "metadata": {
    "ExecuteTime": {
     "end_time": "2021-05-22T12:04:08.605340Z",
     "start_time": "2021-05-22T12:04:08.579341Z"
    }
   },
   "outputs": [
    {
     "name": "stdout",
     "output_type": "stream",
     "text": [
      "33\n"
     ]
    },
    {
     "data": {
      "text/plain": [
       "array([0.3207515 , 0.23278978, 0.22631755, 0.21719662, 0.19447777,\n",
       "       0.19188924, 0.16429584, 0.1502701 , 0.14970527, 0.12962739,\n",
       "       0.12716017, 0.11311926, 0.10796008, 0.10390522, 0.10143871,\n",
       "       0.09998701, 0.09745013, 0.09208797, 0.09178948, 0.08713953,\n",
       "       0.08576074, 0.07878654, 0.07071184, 0.06665637, 0.05928371,\n",
       "       0.05665613, 0.0478945 , 0.04145119, 0.03537978, 0.02829117,\n",
       "       0.02356498, 0.01994727, 0.01366035])"
      ]
     },
     "execution_count": 39,
     "metadata": {},
     "output_type": "execute_result"
    }
   ],
   "source": [
    "len(mca_ind.L) #One factor for level\n",
    "inertias=mca_ind.L  #Eigenvalues/principal inertias of each of the factors\n",
    "inertias"
   ]
  },
  {
   "cell_type": "markdown",
   "id": "bcfc3482",
   "metadata": {},
   "source": [
    "Factors of each observation"
   ]
  },
  {
   "cell_type": "code",
   "execution_count": 40,
   "id": "088e38f3",
   "metadata": {
    "ExecuteTime": {
     "end_time": "2021-05-22T12:04:14.949414Z",
     "start_time": "2021-05-22T12:04:08.618344Z"
    }
   },
   "outputs": [
    {
     "data": {
      "text/html": [
       "<div>\n",
       "<style scoped>\n",
       "    .dataframe tbody tr th:only-of-type {\n",
       "        vertical-align: middle;\n",
       "    }\n",
       "\n",
       "    .dataframe tbody tr th {\n",
       "        vertical-align: top;\n",
       "    }\n",
       "\n",
       "    .dataframe thead th {\n",
       "        text-align: right;\n",
       "    }\n",
       "</style>\n",
       "<table border=\"1\" class=\"dataframe\">\n",
       "  <thead>\n",
       "    <tr style=\"text-align: right;\">\n",
       "      <th></th>\n",
       "      <th></th>\n",
       "      <th>1</th>\n",
       "      <th>3</th>\n",
       "      <th>6</th>\n",
       "      <th>10</th>\n",
       "      <th>11</th>\n",
       "      <th>20</th>\n",
       "      <th>21</th>\n",
       "      <th>22</th>\n",
       "      <th>24</th>\n",
       "      <th>26</th>\n",
       "      <th>...</th>\n",
       "      <th>2071</th>\n",
       "      <th>2072</th>\n",
       "      <th>2073</th>\n",
       "      <th>2074</th>\n",
       "      <th>2075</th>\n",
       "      <th>2078</th>\n",
       "      <th>2079</th>\n",
       "      <th>2080</th>\n",
       "      <th>2081</th>\n",
       "      <th>2082</th>\n",
       "    </tr>\n",
       "  </thead>\n",
       "  <tbody>\n",
       "    <tr>\n",
       "      <th rowspan=\"2\" valign=\"top\">Factor score</th>\n",
       "      <th>1</th>\n",
       "      <td>0.58</td>\n",
       "      <td>0.58</td>\n",
       "      <td>0.95</td>\n",
       "      <td>-0.22</td>\n",
       "      <td>-0.66</td>\n",
       "      <td>0.95</td>\n",
       "      <td>0.95</td>\n",
       "      <td>-0.13</td>\n",
       "      <td>-0.78</td>\n",
       "      <td>-0.13</td>\n",
       "      <td>...</td>\n",
       "      <td>-0.44</td>\n",
       "      <td>-0.44</td>\n",
       "      <td>-0.44</td>\n",
       "      <td>0.12</td>\n",
       "      <td>0.19</td>\n",
       "      <td>-0.11</td>\n",
       "      <td>-0.82</td>\n",
       "      <td>-0.75</td>\n",
       "      <td>-0.75</td>\n",
       "      <td>-0.75</td>\n",
       "    </tr>\n",
       "    <tr>\n",
       "      <th>2</th>\n",
       "      <td>0.47</td>\n",
       "      <td>0.47</td>\n",
       "      <td>0.05</td>\n",
       "      <td>0.01</td>\n",
       "      <td>-0.50</td>\n",
       "      <td>0.05</td>\n",
       "      <td>0.05</td>\n",
       "      <td>-0.10</td>\n",
       "      <td>-1.25</td>\n",
       "      <td>-0.10</td>\n",
       "      <td>...</td>\n",
       "      <td>-0.05</td>\n",
       "      <td>-0.05</td>\n",
       "      <td>-0.05</td>\n",
       "      <td>-0.26</td>\n",
       "      <td>0.01</td>\n",
       "      <td>-0.24</td>\n",
       "      <td>-0.45</td>\n",
       "      <td>-0.18</td>\n",
       "      <td>-0.18</td>\n",
       "      <td>-0.18</td>\n",
       "    </tr>\n",
       "    <tr>\n",
       "      <th rowspan=\"2\" valign=\"top\">Squared cosines</th>\n",
       "      <th>1</th>\n",
       "      <td>0.08</td>\n",
       "      <td>0.08</td>\n",
       "      <td>0.55</td>\n",
       "      <td>0.03</td>\n",
       "      <td>0.18</td>\n",
       "      <td>0.55</td>\n",
       "      <td>0.55</td>\n",
       "      <td>0.01</td>\n",
       "      <td>0.11</td>\n",
       "      <td>0.01</td>\n",
       "      <td>...</td>\n",
       "      <td>0.02</td>\n",
       "      <td>0.02</td>\n",
       "      <td>0.02</td>\n",
       "      <td>0.00</td>\n",
       "      <td>0.02</td>\n",
       "      <td>0.01</td>\n",
       "      <td>0.13</td>\n",
       "      <td>0.15</td>\n",
       "      <td>0.15</td>\n",
       "      <td>0.15</td>\n",
       "    </tr>\n",
       "    <tr>\n",
       "      <th>2</th>\n",
       "      <td>0.05</td>\n",
       "      <td>0.05</td>\n",
       "      <td>0.00</td>\n",
       "      <td>0.00</td>\n",
       "      <td>0.11</td>\n",
       "      <td>0.00</td>\n",
       "      <td>0.00</td>\n",
       "      <td>0.00</td>\n",
       "      <td>0.27</td>\n",
       "      <td>0.00</td>\n",
       "      <td>...</td>\n",
       "      <td>0.00</td>\n",
       "      <td>0.00</td>\n",
       "      <td>0.00</td>\n",
       "      <td>0.02</td>\n",
       "      <td>0.00</td>\n",
       "      <td>0.04</td>\n",
       "      <td>0.04</td>\n",
       "      <td>0.01</td>\n",
       "      <td>0.01</td>\n",
       "      <td>0.01</td>\n",
       "    </tr>\n",
       "    <tr>\n",
       "      <th rowspan=\"2\" valign=\"top\">Contributions x 1000</th>\n",
       "      <th>1</th>\n",
       "      <td>0.87</td>\n",
       "      <td>0.87</td>\n",
       "      <td>2.33</td>\n",
       "      <td>0.13</td>\n",
       "      <td>1.13</td>\n",
       "      <td>2.33</td>\n",
       "      <td>2.33</td>\n",
       "      <td>0.04</td>\n",
       "      <td>1.58</td>\n",
       "      <td>0.04</td>\n",
       "      <td>...</td>\n",
       "      <td>0.51</td>\n",
       "      <td>0.51</td>\n",
       "      <td>0.51</td>\n",
       "      <td>0.03</td>\n",
       "      <td>0.09</td>\n",
       "      <td>0.03</td>\n",
       "      <td>1.75</td>\n",
       "      <td>1.45</td>\n",
       "      <td>1.45</td>\n",
       "      <td>1.45</td>\n",
       "    </tr>\n",
       "    <tr>\n",
       "      <th>2</th>\n",
       "      <td>0.78</td>\n",
       "      <td>0.78</td>\n",
       "      <td>0.01</td>\n",
       "      <td>0.00</td>\n",
       "      <td>0.90</td>\n",
       "      <td>0.01</td>\n",
       "      <td>0.01</td>\n",
       "      <td>0.04</td>\n",
       "      <td>5.55</td>\n",
       "      <td>0.04</td>\n",
       "      <td>...</td>\n",
       "      <td>0.01</td>\n",
       "      <td>0.01</td>\n",
       "      <td>0.01</td>\n",
       "      <td>0.24</td>\n",
       "      <td>0.00</td>\n",
       "      <td>0.21</td>\n",
       "      <td>0.71</td>\n",
       "      <td>0.12</td>\n",
       "      <td>0.12</td>\n",
       "      <td>0.12</td>\n",
       "    </tr>\n",
       "  </tbody>\n",
       "</table>\n",
       "<p>6 rows × 1206 columns</p>\n",
       "</div>"
      ],
      "text/plain": [
       "                        1     3     6     10    11    20    21    22    24    \\\n",
       "Factor score         1  0.58  0.58  0.95 -0.22 -0.66  0.95  0.95 -0.13 -0.78   \n",
       "                     2  0.47  0.47  0.05  0.01 -0.50  0.05  0.05 -0.10 -1.25   \n",
       "Squared cosines      1  0.08  0.08  0.55  0.03  0.18  0.55  0.55  0.01  0.11   \n",
       "                     2  0.05  0.05  0.00  0.00  0.11  0.00  0.00  0.00  0.27   \n",
       "Contributions x 1000 1  0.87  0.87  2.33  0.13  1.13  2.33  2.33  0.04  1.58   \n",
       "                     2  0.78  0.78  0.01  0.00  0.90  0.01  0.01  0.04  5.55   \n",
       "\n",
       "                        26    ...  2071  2072  2073  2074  2075  2078  2079  \\\n",
       "Factor score         1 -0.13  ... -0.44 -0.44 -0.44  0.12  0.19 -0.11 -0.82   \n",
       "                     2 -0.10  ... -0.05 -0.05 -0.05 -0.26  0.01 -0.24 -0.45   \n",
       "Squared cosines      1  0.01  ...  0.02  0.02  0.02  0.00  0.02  0.01  0.13   \n",
       "                     2  0.00  ...  0.00  0.00  0.00  0.02  0.00  0.04  0.04   \n",
       "Contributions x 1000 1  0.04  ...  0.51  0.51  0.51  0.03  0.09  0.03  1.75   \n",
       "                     2  0.04  ...  0.01  0.01  0.01  0.24  0.00  0.21  0.71   \n",
       "\n",
       "                        2080  2081  2082  \n",
       "Factor score         1 -0.75 -0.75 -0.75  \n",
       "                     2 -0.18 -0.18 -0.18  \n",
       "Squared cosines      1  0.15  0.15  0.15  \n",
       "                     2  0.01  0.01  0.01  \n",
       "Contributions x 1000 1  1.45  1.45  1.45  \n",
       "                     2  0.12  0.12  0.12  \n",
       "\n",
       "[6 rows x 1206 columns]"
      ]
     },
     "execution_count": 40,
     "metadata": {},
     "output_type": "execute_result"
    }
   ],
   "source": [
    "fs, cos, cont = 'Factor score','Squared cosines', 'Contributions x 1000'\n",
    "table3 = pd.DataFrame(columns=df_dummies.index, index=pd.MultiIndex\n",
    "                      .from_product([[fs, cos, cont], range(1, 3)]))\n",
    "\n",
    "table3.loc[fs,    :] = mca_ind.fs_r(N=2).T\n",
    "table3.loc[cos,   :] = mca_ind.cos_r(N=2).T\n",
    "table3.loc[cont,  :] = mca_ind.cont_r(N=2).T * 1000\n",
    "\n",
    "np.round(table3.astype(float), 2)"
   ]
  },
  {
   "cell_type": "markdown",
   "id": "be3f8c80",
   "metadata": {},
   "source": [
    "Factors of each dummy variable"
   ]
  },
  {
   "cell_type": "code",
   "execution_count": 41,
   "id": "26e30dc9",
   "metadata": {
    "ExecuteTime": {
     "end_time": "2021-05-22T12:04:15.137461Z",
     "start_time": "2021-05-22T12:04:14.954421Z"
    }
   },
   "outputs": [
    {
     "name": "stdout",
     "output_type": "stream",
     "text": [
      "(6, 36)\n"
     ]
    },
    {
     "data": {
      "text/html": [
       "<div>\n",
       "<style scoped>\n",
       "    .dataframe tbody tr th:only-of-type {\n",
       "        vertical-align: middle;\n",
       "    }\n",
       "\n",
       "    .dataframe tbody tr th {\n",
       "        vertical-align: top;\n",
       "    }\n",
       "\n",
       "    .dataframe thead th {\n",
       "        text-align: right;\n",
       "    }\n",
       "</style>\n",
       "<table border=\"1\" class=\"dataframe\">\n",
       "  <thead>\n",
       "    <tr style=\"text-align: right;\">\n",
       "      <th></th>\n",
       "      <th></th>\n",
       "      <th>industry_Chemical and petrochemical industry</th>\n",
       "      <th>industry_Communication</th>\n",
       "      <th>industry_Construction and development</th>\n",
       "      <th>industry_Engineering industry</th>\n",
       "      <th>industry_Financial institutions</th>\n",
       "      <th>industry_Food industry</th>\n",
       "      <th>industry_Healthсare</th>\n",
       "      <th>industry_Information and High Technologies</th>\n",
       "      <th>industry_Light industry</th>\n",
       "      <th>industry_Media and Entertainment</th>\n",
       "      <th>...</th>\n",
       "      <th>country_Non_EU</th>\n",
       "      <th>country_Portugal</th>\n",
       "      <th>country_Spain</th>\n",
       "      <th>country_Sweden_Denmark</th>\n",
       "      <th>country_Switzerland</th>\n",
       "      <th>country_United Kingdom</th>\n",
       "      <th>bond_types_Green bonds</th>\n",
       "      <th>bond_types_Others</th>\n",
       "      <th>bond_types_Senior Unsecured</th>\n",
       "      <th>bond_types_Zero-coupon bonds</th>\n",
       "    </tr>\n",
       "  </thead>\n",
       "  <tbody>\n",
       "    <tr>\n",
       "      <th rowspan=\"2\" valign=\"top\">Factor score</th>\n",
       "      <th>1</th>\n",
       "      <td>-0.61</td>\n",
       "      <td>0.12</td>\n",
       "      <td>-0.13</td>\n",
       "      <td>-0.40</td>\n",
       "      <td>-0.19</td>\n",
       "      <td>-0.84</td>\n",
       "      <td>-0.76</td>\n",
       "      <td>-0.33</td>\n",
       "      <td>-0.46</td>\n",
       "      <td>-0.74</td>\n",
       "      <td>...</td>\n",
       "      <td>-0.61</td>\n",
       "      <td>2.08</td>\n",
       "      <td>0.38</td>\n",
       "      <td>-0.50</td>\n",
       "      <td>-0.99</td>\n",
       "      <td>-0.76</td>\n",
       "      <td>1.46</td>\n",
       "      <td>-0.49</td>\n",
       "      <td>-0.12</td>\n",
       "      <td>-0.28</td>\n",
       "    </tr>\n",
       "    <tr>\n",
       "      <th>2</th>\n",
       "      <td>0.53</td>\n",
       "      <td>0.71</td>\n",
       "      <td>-0.34</td>\n",
       "      <td>0.14</td>\n",
       "      <td>-0.09</td>\n",
       "      <td>-1.10</td>\n",
       "      <td>-0.24</td>\n",
       "      <td>0.30</td>\n",
       "      <td>-0.56</td>\n",
       "      <td>1.08</td>\n",
       "      <td>...</td>\n",
       "      <td>0.44</td>\n",
       "      <td>-0.91</td>\n",
       "      <td>0.59</td>\n",
       "      <td>-0.39</td>\n",
       "      <td>-1.36</td>\n",
       "      <td>0.55</td>\n",
       "      <td>-0.57</td>\n",
       "      <td>-0.56</td>\n",
       "      <td>0.16</td>\n",
       "      <td>-0.40</td>\n",
       "    </tr>\n",
       "    <tr>\n",
       "      <th rowspan=\"2\" valign=\"top\">Squared cosines</th>\n",
       "      <th>1</th>\n",
       "      <td>0.09</td>\n",
       "      <td>0.00</td>\n",
       "      <td>0.01</td>\n",
       "      <td>0.07</td>\n",
       "      <td>0.01</td>\n",
       "      <td>0.12</td>\n",
       "      <td>0.08</td>\n",
       "      <td>0.01</td>\n",
       "      <td>0.01</td>\n",
       "      <td>0.02</td>\n",
       "      <td>...</td>\n",
       "      <td>0.05</td>\n",
       "      <td>0.09</td>\n",
       "      <td>0.05</td>\n",
       "      <td>0.01</td>\n",
       "      <td>0.16</td>\n",
       "      <td>0.10</td>\n",
       "      <td>0.60</td>\n",
       "      <td>0.05</td>\n",
       "      <td>0.13</td>\n",
       "      <td>0.02</td>\n",
       "    </tr>\n",
       "    <tr>\n",
       "      <th>2</th>\n",
       "      <td>0.06</td>\n",
       "      <td>0.14</td>\n",
       "      <td>0.04</td>\n",
       "      <td>0.01</td>\n",
       "      <td>0.00</td>\n",
       "      <td>0.20</td>\n",
       "      <td>0.01</td>\n",
       "      <td>0.01</td>\n",
       "      <td>0.02</td>\n",
       "      <td>0.04</td>\n",
       "      <td>...</td>\n",
       "      <td>0.03</td>\n",
       "      <td>0.02</td>\n",
       "      <td>0.11</td>\n",
       "      <td>0.01</td>\n",
       "      <td>0.30</td>\n",
       "      <td>0.06</td>\n",
       "      <td>0.09</td>\n",
       "      <td>0.07</td>\n",
       "      <td>0.24</td>\n",
       "      <td>0.04</td>\n",
       "    </tr>\n",
       "    <tr>\n",
       "      <th rowspan=\"2\" valign=\"top\">Contributions x 1000</th>\n",
       "      <th>1</th>\n",
       "      <td>26.68</td>\n",
       "      <td>1.34</td>\n",
       "      <td>1.81</td>\n",
       "      <td>20.05</td>\n",
       "      <td>3.70</td>\n",
       "      <td>38.20</td>\n",
       "      <td>23.81</td>\n",
       "      <td>3.86</td>\n",
       "      <td>3.62</td>\n",
       "      <td>6.21</td>\n",
       "      <td>...</td>\n",
       "      <td>17.16</td>\n",
       "      <td>29.86</td>\n",
       "      <td>15.42</td>\n",
       "      <td>2.98</td>\n",
       "      <td>56.65</td>\n",
       "      <td>33.90</td>\n",
       "      <td>214.20</td>\n",
       "      <td>16.75</td>\n",
       "      <td>10.57</td>\n",
       "      <td>6.01</td>\n",
       "    </tr>\n",
       "    <tr>\n",
       "      <th>2</th>\n",
       "      <td>27.69</td>\n",
       "      <td>60.97</td>\n",
       "      <td>15.88</td>\n",
       "      <td>3.34</td>\n",
       "      <td>1.13</td>\n",
       "      <td>90.39</td>\n",
       "      <td>3.19</td>\n",
       "      <td>4.14</td>\n",
       "      <td>7.37</td>\n",
       "      <td>17.98</td>\n",
       "      <td>...</td>\n",
       "      <td>12.28</td>\n",
       "      <td>7.95</td>\n",
       "      <td>49.53</td>\n",
       "      <td>2.58</td>\n",
       "      <td>146.81</td>\n",
       "      <td>25.20</td>\n",
       "      <td>45.28</td>\n",
       "      <td>30.18</td>\n",
       "      <td>27.75</td>\n",
       "      <td>16.54</td>\n",
       "    </tr>\n",
       "  </tbody>\n",
       "</table>\n",
       "<p>6 rows × 36 columns</p>\n",
       "</div>"
      ],
      "text/plain": [
       "                        industry_Chemical and petrochemical industry  \\\n",
       "Factor score         1                                         -0.61   \n",
       "                     2                                          0.53   \n",
       "Squared cosines      1                                          0.09   \n",
       "                     2                                          0.06   \n",
       "Contributions x 1000 1                                         26.68   \n",
       "                     2                                         27.69   \n",
       "\n",
       "                        industry_Communication  \\\n",
       "Factor score         1                    0.12   \n",
       "                     2                    0.71   \n",
       "Squared cosines      1                    0.00   \n",
       "                     2                    0.14   \n",
       "Contributions x 1000 1                    1.34   \n",
       "                     2                   60.97   \n",
       "\n",
       "                        industry_Construction and development  \\\n",
       "Factor score         1                                  -0.13   \n",
       "                     2                                  -0.34   \n",
       "Squared cosines      1                                   0.01   \n",
       "                     2                                   0.04   \n",
       "Contributions x 1000 1                                   1.81   \n",
       "                     2                                  15.88   \n",
       "\n",
       "                        industry_Engineering industry  \\\n",
       "Factor score         1                          -0.40   \n",
       "                     2                           0.14   \n",
       "Squared cosines      1                           0.07   \n",
       "                     2                           0.01   \n",
       "Contributions x 1000 1                          20.05   \n",
       "                     2                           3.34   \n",
       "\n",
       "                        industry_Financial institutions  \\\n",
       "Factor score         1                            -0.19   \n",
       "                     2                            -0.09   \n",
       "Squared cosines      1                             0.01   \n",
       "                     2                             0.00   \n",
       "Contributions x 1000 1                             3.70   \n",
       "                     2                             1.13   \n",
       "\n",
       "                        industry_Food industry  industry_Healthсare  \\\n",
       "Factor score         1                   -0.84                -0.76   \n",
       "                     2                   -1.10                -0.24   \n",
       "Squared cosines      1                    0.12                 0.08   \n",
       "                     2                    0.20                 0.01   \n",
       "Contributions x 1000 1                   38.20                23.81   \n",
       "                     2                   90.39                 3.19   \n",
       "\n",
       "                        industry_Information and High Technologies  \\\n",
       "Factor score         1                                       -0.33   \n",
       "                     2                                        0.30   \n",
       "Squared cosines      1                                        0.01   \n",
       "                     2                                        0.01   \n",
       "Contributions x 1000 1                                        3.86   \n",
       "                     2                                        4.14   \n",
       "\n",
       "                        industry_Light industry  \\\n",
       "Factor score         1                    -0.46   \n",
       "                     2                    -0.56   \n",
       "Squared cosines      1                     0.01   \n",
       "                     2                     0.02   \n",
       "Contributions x 1000 1                     3.62   \n",
       "                     2                     7.37   \n",
       "\n",
       "                        industry_Media and Entertainment  ...  country_Non_EU  \\\n",
       "Factor score         1                             -0.74  ...           -0.61   \n",
       "                     2                              1.08  ...            0.44   \n",
       "Squared cosines      1                              0.02  ...            0.05   \n",
       "                     2                              0.04  ...            0.03   \n",
       "Contributions x 1000 1                              6.21  ...           17.16   \n",
       "                     2                             17.98  ...           12.28   \n",
       "\n",
       "                        country_Portugal  country_Spain  \\\n",
       "Factor score         1              2.08           0.38   \n",
       "                     2             -0.91           0.59   \n",
       "Squared cosines      1              0.09           0.05   \n",
       "                     2              0.02           0.11   \n",
       "Contributions x 1000 1             29.86          15.42   \n",
       "                     2              7.95          49.53   \n",
       "\n",
       "                        country_Sweden_Denmark  country_Switzerland  \\\n",
       "Factor score         1                   -0.50                -0.99   \n",
       "                     2                   -0.39                -1.36   \n",
       "Squared cosines      1                    0.01                 0.16   \n",
       "                     2                    0.01                 0.30   \n",
       "Contributions x 1000 1                    2.98                56.65   \n",
       "                     2                    2.58               146.81   \n",
       "\n",
       "                        country_United Kingdom  bond_types_Green bonds  \\\n",
       "Factor score         1                   -0.76                    1.46   \n",
       "                     2                    0.55                   -0.57   \n",
       "Squared cosines      1                    0.10                    0.60   \n",
       "                     2                    0.06                    0.09   \n",
       "Contributions x 1000 1                   33.90                  214.20   \n",
       "                     2                   25.20                   45.28   \n",
       "\n",
       "                        bond_types_Others  bond_types_Senior Unsecured  \\\n",
       "Factor score         1              -0.49                        -0.12   \n",
       "                     2              -0.56                         0.16   \n",
       "Squared cosines      1               0.05                         0.13   \n",
       "                     2               0.07                         0.24   \n",
       "Contributions x 1000 1              16.75                        10.57   \n",
       "                     2              30.18                        27.75   \n",
       "\n",
       "                        bond_types_Zero-coupon bonds  \n",
       "Factor score         1                         -0.28  \n",
       "                     2                         -0.40  \n",
       "Squared cosines      1                          0.02  \n",
       "                     2                          0.04  \n",
       "Contributions x 1000 1                          6.01  \n",
       "                     2                         16.54  \n",
       "\n",
       "[6 rows x 36 columns]"
      ]
     },
     "execution_count": 41,
     "metadata": {},
     "output_type": "execute_result"
    }
   ],
   "source": [
    "table4 = pd.DataFrame(columns=df_dummies.columns, index=pd.MultiIndex\n",
    "                      .from_product([[fs, cos, cont], range(1, 3)]))\n",
    "table4.loc[fs,  :] = mca_ind.fs_c(N=2).T\n",
    "table4.loc[cos, :] = mca_ind.cos_c(N=2).T\n",
    "table4.loc[cont,:] = mca_ind.cont_c(N=2).T * 1000\n",
    "\n",
    "table4.shape\n",
    "np.round(table4.astype(float), 2)\n"
   ]
  },
  {
   "cell_type": "code",
   "execution_count": 43,
   "id": "fbc38c4f",
   "metadata": {
    "ExecuteTime": {
     "end_time": "2021-05-22T12:04:15.169469Z",
     "start_time": "2021-05-22T12:04:15.140467Z"
    }
   },
   "outputs": [
    {
     "data": {
      "text/html": [
       "<div>\n",
       "<style scoped>\n",
       "    .dataframe tbody tr th:only-of-type {\n",
       "        vertical-align: middle;\n",
       "    }\n",
       "\n",
       "    .dataframe tbody tr th {\n",
       "        vertical-align: top;\n",
       "    }\n",
       "\n",
       "    .dataframe thead th {\n",
       "        text-align: right;\n",
       "    }\n",
       "</style>\n",
       "<table border=\"1\" class=\"dataframe\">\n",
       "  <thead>\n",
       "    <tr style=\"text-align: right;\">\n",
       "      <th></th>\n",
       "      <th>industry_Chemical and petrochemical industry</th>\n",
       "      <th>industry_Communication</th>\n",
       "      <th>industry_Construction and development</th>\n",
       "      <th>industry_Engineering industry</th>\n",
       "      <th>industry_Financial institutions</th>\n",
       "      <th>industry_Food industry</th>\n",
       "      <th>industry_Healthсare</th>\n",
       "      <th>industry_Information and High Technologies</th>\n",
       "      <th>industry_Light industry</th>\n",
       "      <th>industry_Media and Entertainment</th>\n",
       "      <th>...</th>\n",
       "      <th>country_Non_EU</th>\n",
       "      <th>country_Portugal</th>\n",
       "      <th>country_Spain</th>\n",
       "      <th>country_Sweden_Denmark</th>\n",
       "      <th>country_Switzerland</th>\n",
       "      <th>country_United Kingdom</th>\n",
       "      <th>bond_types_Green bonds</th>\n",
       "      <th>bond_types_Others</th>\n",
       "      <th>bond_types_Senior Unsecured</th>\n",
       "      <th>bond_types_Zero-coupon bonds</th>\n",
       "    </tr>\n",
       "  </thead>\n",
       "  <tbody>\n",
       "    <tr>\n",
       "      <th>Factor_1</th>\n",
       "      <td>-0.610791</td>\n",
       "      <td>0.123355</td>\n",
       "      <td>-0.132924</td>\n",
       "      <td>-0.400567</td>\n",
       "      <td>-0.193295</td>\n",
       "      <td>-0.838889</td>\n",
       "      <td>-0.758654</td>\n",
       "      <td>-0.334755</td>\n",
       "      <td>-0.458381</td>\n",
       "      <td>-0.744313</td>\n",
       "      <td>...</td>\n",
       "      <td>-0.61291</td>\n",
       "      <td>2.08136</td>\n",
       "      <td>0.384502</td>\n",
       "      <td>-0.497273</td>\n",
       "      <td>-0.990545</td>\n",
       "      <td>-0.755115</td>\n",
       "      <td>1.45759</td>\n",
       "      <td>-0.489941</td>\n",
       "      <td>-0.115363</td>\n",
       "      <td>-0.284742</td>\n",
       "    </tr>\n",
       "    <tr>\n",
       "      <th>Factor_2</th>\n",
       "      <td>0.530074</td>\n",
       "      <td>0.709542</td>\n",
       "      <td>-0.335301</td>\n",
       "      <td>0.139184</td>\n",
       "      <td>-0.0911403</td>\n",
       "      <td>-1.0993</td>\n",
       "      <td>-0.236551</td>\n",
       "      <td>0.295283</td>\n",
       "      <td>-0.557219</td>\n",
       "      <td>1.07937</td>\n",
       "      <td>...</td>\n",
       "      <td>0.441755</td>\n",
       "      <td>-0.914705</td>\n",
       "      <td>0.587139</td>\n",
       "      <td>-0.394273</td>\n",
       "      <td>-1.35848</td>\n",
       "      <td>0.554605</td>\n",
       "      <td>-0.570949</td>\n",
       "      <td>-0.560217</td>\n",
       "      <td>0.15921</td>\n",
       "      <td>-0.402475</td>\n",
       "    </tr>\n",
       "  </tbody>\n",
       "</table>\n",
       "<p>2 rows × 36 columns</p>\n",
       "</div>"
      ],
      "text/plain": [
       "         industry_Chemical and petrochemical industry industry_Communication  \\\n",
       "Factor_1                                    -0.610791               0.123355   \n",
       "Factor_2                                     0.530074               0.709542   \n",
       "\n",
       "         industry_Construction and development industry_Engineering industry  \\\n",
       "Factor_1                             -0.132924                     -0.400567   \n",
       "Factor_2                             -0.335301                      0.139184   \n",
       "\n",
       "         industry_Financial institutions industry_Food industry  \\\n",
       "Factor_1                       -0.193295              -0.838889   \n",
       "Factor_2                      -0.0911403                -1.0993   \n",
       "\n",
       "         industry_Healthсare industry_Information and High Technologies  \\\n",
       "Factor_1           -0.758654                                  -0.334755   \n",
       "Factor_2           -0.236551                                   0.295283   \n",
       "\n",
       "         industry_Light industry industry_Media and Entertainment  ...  \\\n",
       "Factor_1               -0.458381                        -0.744313  ...   \n",
       "Factor_2               -0.557219                          1.07937  ...   \n",
       "\n",
       "         country_Non_EU country_Portugal country_Spain country_Sweden_Denmark  \\\n",
       "Factor_1       -0.61291          2.08136      0.384502              -0.497273   \n",
       "Factor_2       0.441755        -0.914705      0.587139              -0.394273   \n",
       "\n",
       "         country_Switzerland country_United Kingdom bond_types_Green bonds  \\\n",
       "Factor_1           -0.990545              -0.755115                1.45759   \n",
       "Factor_2            -1.35848               0.554605              -0.570949   \n",
       "\n",
       "         bond_types_Others bond_types_Senior Unsecured  \\\n",
       "Factor_1         -0.489941                   -0.115363   \n",
       "Factor_2         -0.560217                     0.15921   \n",
       "\n",
       "         bond_types_Zero-coupon bonds  \n",
       "Factor_1                    -0.284742  \n",
       "Factor_2                    -0.402475  \n",
       "\n",
       "[2 rows x 36 columns]"
      ]
     },
     "execution_count": 43,
     "metadata": {},
     "output_type": "execute_result"
    }
   ],
   "source": [
    "Factors=table4.iloc[:2,:].T\n",
    "Factors.columns=[\"Factor_1\",\"Factor_2\"]\n",
    "Factors.T"
   ]
  },
  {
   "cell_type": "code",
   "execution_count": 45,
   "id": "8b3c0c92",
   "metadata": {
    "ExecuteTime": {
     "end_time": "2021-05-22T12:04:15.185473Z",
     "start_time": "2021-05-22T12:04:15.173474Z"
    }
   },
   "outputs": [],
   "source": [
    "import matplotlib.pyplot as plt\n",
    "import matplotlib\n",
    "import matplotlib.patches as mpatches"
   ]
  },
  {
   "cell_type": "markdown",
   "id": "4f5e9830",
   "metadata": {},
   "source": [
    "Plot of the first 2 factors of the correspondence analysis, for each of the dummy variables"
   ]
  },
  {
   "cell_type": "code",
   "execution_count": 46,
   "id": "ef35a32f",
   "metadata": {
    "ExecuteTime": {
     "end_time": "2021-05-22T12:04:15.201478Z",
     "start_time": "2021-05-22T12:04:15.189481Z"
    }
   },
   "outputs": [],
   "source": [
    "labels=['Chem/Petro','Commun.', 'Construction','    Engineering', 'Financial','   Food', 'Healthсare',\n",
    "       'Technology', '    Light','Entertainment', '        Oil/Gas',' Others', 'Power', 'Public utilities',\n",
    "       'Trade', 'Trans.','AT', 'BE-LU', '    CZ-SK-RO','FI', 'FR', 'DE','IE', 'IT', 'LT-EE', 'NL', '  Non-EU',\n",
    "       'PT', 'ES', '    SE-DK','CH', '            UK','Green bonds', '      Others','Sr. Unsec.', 'Zero-coup.']"
   ]
  },
  {
   "cell_type": "code",
   "execution_count": 62,
   "id": "ab7e74e0",
   "metadata": {
    "ExecuteTime": {
     "end_time": "2021-05-22T12:04:16.183736Z",
     "start_time": "2021-05-22T12:04:15.205483Z"
    },
    "scrolled": true
   },
   "outputs": [],
   "source": [
    "CA_plot, ax=plt.subplots(figsize=(20, 12))\n",
    "ax.scatter(Factors[\"Factor_1\"], Factors[\"Factor_2\"], s=[200]*16+[200]*16+[600]*4, color=[\"darkred\"]*16+[\"green\"]*16+[\"navy\"]*4) # c=Df_PCA_Biplot[\"Compound\"], vmin=-0.6, vmax=0.6,cmap = matplotlib.cm.get_cmap('jet_r')\n",
    "\n",
    "ax.set_ylabel(\"Factor 2\",size=40)\n",
    "ax.set_xlabel(\"Factor 1\",size=40)\n",
    "ax.set_title(\"Relationship between Bond Type, \\n Country and Industry\",size=60)\n",
    "\n",
    "for i, txt in enumerate(Factors.index):\n",
    "    if i>=32:\n",
    "        ax.annotate(labels[i], (Factors[\"Factor_1\"][i]-0.2, Factors[\"Factor_2\"][i]+0.07),size=23)\n",
    "    else:\n",
    "        ax.annotate(labels[i], (Factors[\"Factor_1\"][i], Factors[\"Factor_2\"][i]),size=20)\n",
    "        \n",
    "Bond_patch = mpatches.Patch(color='navy', label='Bond Types')\n",
    "Country_patch = mpatches.Patch(color='green', label='Countries')\n",
    "Industry_patch = mpatches.Patch(color='darkred', label='Industries')\n",
    "ax.legend(handles=[Bond_patch,Country_patch,Industry_patch], fontsize=30,loc=\"lower left\")\n",
    "plt.savefig('Cor_An.png')\n",
    "plt.close()\n"
   ]
  },
  {
   "cell_type": "code",
   "execution_count": 64,
   "id": "675d4a53",
   "metadata": {},
   "outputs": [],
   "source": [
    "#plot saved image\n",
    "response = requests.get('https://github.com/Dansieg91/ECB-Bond-Purchases/raw/main/Plots/Cor_An.png')\n",
    "Cor_An = Image.open(BytesIO(response.content))"
   ]
  },
  {
   "cell_type": "markdown",
   "id": "a036dd4c",
   "metadata": {},
   "source": [
    "Portugal, Lithuania-Estonia, Italy and Ireland, are the countries most related to green bonds.\n",
    "\n",
    "The Power industry is extremely related to these bonds too."
   ]
  },
  {
   "cell_type": "code",
   "execution_count": null,
   "id": "9ef606f9",
   "metadata": {},
   "outputs": [],
   "source": []
  },
  {
   "cell_type": "markdown",
   "id": "eef9e0f8",
   "metadata": {
    "ExecuteTime": {
     "end_time": "2021-05-13T19:29:01.239739Z",
     "start_time": "2021-05-13T19:29:01.220735Z"
    }
   },
   "source": [
    "# Data Pre-processing"
   ]
  },
  {
   "cell_type": "markdown",
   "id": "09196ba9",
   "metadata": {},
   "source": [
    "## Data Cleaning"
   ]
  },
  {
   "cell_type": "markdown",
   "id": "6f1f95c0",
   "metadata": {},
   "source": [
    "Here we will:\n",
    "\n",
    "* Change the format of numeric data\n",
    "* Add a rate to floating rate bonds. We will add the mean of the rates\n",
    "* Change the format of date columns and add year columns\n"
   ]
  },
  {
   "cell_type": "markdown",
   "id": "17090d54",
   "metadata": {},
   "source": [
    "Change format of numeric data"
   ]
  },
  {
   "cell_type": "code",
   "execution_count": 65,
   "id": "393d5253",
   "metadata": {
    "ExecuteTime": {
     "end_time": "2021-05-22T12:04:17.245710Z",
     "start_time": "2021-05-22T12:04:17.234713Z"
    }
   },
   "outputs": [],
   "source": [
    "#df_sm[\"total_bond_amount\"]=df_sm[\"total_bond_amount\"].str.replace('EUR','').str.replace(',','').astype(float)"
   ]
  },
  {
   "cell_type": "code",
   "execution_count": 66,
   "id": "c12176f4",
   "metadata": {
    "ExecuteTime": {
     "end_time": "2021-05-22T12:04:17.277716Z",
     "start_time": "2021-05-22T12:04:17.250711Z"
    }
   },
   "outputs": [],
   "source": [
    "df_sm[\"nominal_amount\"]=df_sm[\"nominal_amount\"].str.replace('EUR','').str.replace(',','').astype(float)"
   ]
  },
  {
   "cell_type": "code",
   "execution_count": 67,
   "id": "1a2da761",
   "metadata": {
    "ExecuteTime": {
     "end_time": "2021-05-22T12:04:17.309844Z",
     "start_time": "2021-05-22T12:04:17.280724Z"
    }
   },
   "outputs": [],
   "source": [
    "df_sm[\"coupon_rate\"]=df_sm[\"coupon_rate\"].str.replace('%','').str.replace('FRN','nan').astype(float)"
   ]
  },
  {
   "cell_type": "markdown",
   "id": "dc9d499a",
   "metadata": {},
   "source": [
    "Add a rate to floating rate bonds (mean)"
   ]
  },
  {
   "cell_type": "code",
   "execution_count": 68,
   "id": "2b843402",
   "metadata": {
    "ExecuteTime": {
     "end_time": "2021-05-22T12:04:17.355993Z",
     "start_time": "2021-05-22T12:04:17.312731Z"
    }
   },
   "outputs": [
    {
     "name": "stderr",
     "output_type": "stream",
     "text": [
      "<ipython-input-68-37f3d0ec792e>:1: SettingWithCopyWarning: \n",
      "A value is trying to be set on a copy of a slice from a DataFrame\n",
      "\n",
      "See the caveats in the documentation: https://pandas.pydata.org/pandas-docs/stable/user_guide/indexing.html#returning-a-view-versus-a-copy\n",
      "  df_sm[\"coupon_rate\"][pd.isnull(df_sm[\"coupon_rate\"])]=df_sm[\"coupon_rate\"].mean()\n"
     ]
    }
   ],
   "source": [
    "df_sm[\"coupon_rate\"][pd.isnull(df_sm[\"coupon_rate\"])]=df_sm[\"coupon_rate\"].mean()"
   ]
  },
  {
   "cell_type": "markdown",
   "id": "6ef50481",
   "metadata": {},
   "source": [
    "Change format of date columns and add year columns"
   ]
  },
  {
   "cell_type": "code",
   "execution_count": 69,
   "id": "b1dd293d",
   "metadata": {
    "ExecuteTime": {
     "end_time": "2021-05-22T12:04:17.609237Z",
     "start_time": "2021-05-22T12:04:17.358996Z"
    }
   },
   "outputs": [],
   "source": [
    "df_sm['maturity_date']=pd.to_datetime(df_sm['maturity_date'])"
   ]
  },
  {
   "cell_type": "code",
   "execution_count": 70,
   "id": "4c3d92a8",
   "metadata": {
    "ExecuteTime": {
     "end_time": "2021-05-22T12:04:17.625243Z",
     "start_time": "2021-05-22T12:04:17.613241Z"
    }
   },
   "outputs": [],
   "source": [
    "df_sm['maturity_year']=df_sm['maturity_date'].dt.year"
   ]
  },
  {
   "cell_type": "code",
   "execution_count": 71,
   "id": "7b1fdffd",
   "metadata": {
    "ExecuteTime": {
     "end_time": "2021-05-22T12:04:17.641247Z",
     "start_time": "2021-05-22T12:04:17.629245Z"
    }
   },
   "outputs": [],
   "source": [
    "df_sm['year_created']=df_sm['year_created'].astype(int)"
   ]
  },
  {
   "cell_type": "code",
   "execution_count": 72,
   "id": "dc8589c2",
   "metadata": {
    "ExecuteTime": {
     "end_time": "2021-05-22T12:04:17.689274Z",
     "start_time": "2021-05-22T12:04:17.646251Z"
    }
   },
   "outputs": [
    {
     "data": {
      "text/html": [
       "<div>\n",
       "<style scoped>\n",
       "    .dataframe tbody tr th:only-of-type {\n",
       "        vertical-align: middle;\n",
       "    }\n",
       "\n",
       "    .dataframe tbody tr th {\n",
       "        vertical-align: top;\n",
       "    }\n",
       "\n",
       "    .dataframe thead th {\n",
       "        text-align: right;\n",
       "    }\n",
       "</style>\n",
       "<table border=\"1\" class=\"dataframe\">\n",
       "  <thead>\n",
       "    <tr style=\"text-align: right;\">\n",
       "      <th></th>\n",
       "      <th>maturity_year</th>\n",
       "      <th>year_created</th>\n",
       "    </tr>\n",
       "  </thead>\n",
       "  <tbody>\n",
       "    <tr>\n",
       "      <th>count</th>\n",
       "      <td>1206.000000</td>\n",
       "      <td>1206.000000</td>\n",
       "    </tr>\n",
       "    <tr>\n",
       "      <th>mean</th>\n",
       "      <td>2026.176617</td>\n",
       "      <td>2018.504146</td>\n",
       "    </tr>\n",
       "    <tr>\n",
       "      <th>std</th>\n",
       "      <td>4.143222</td>\n",
       "      <td>1.475521</td>\n",
       "    </tr>\n",
       "    <tr>\n",
       "      <th>min</th>\n",
       "      <td>2018.000000</td>\n",
       "      <td>2017.000000</td>\n",
       "    </tr>\n",
       "    <tr>\n",
       "      <th>25%</th>\n",
       "      <td>2023.000000</td>\n",
       "      <td>2017.000000</td>\n",
       "    </tr>\n",
       "    <tr>\n",
       "      <th>50%</th>\n",
       "      <td>2026.000000</td>\n",
       "      <td>2018.000000</td>\n",
       "    </tr>\n",
       "    <tr>\n",
       "      <th>75%</th>\n",
       "      <td>2028.000000</td>\n",
       "      <td>2020.000000</td>\n",
       "    </tr>\n",
       "    <tr>\n",
       "      <th>max</th>\n",
       "      <td>2049.000000</td>\n",
       "      <td>2021.000000</td>\n",
       "    </tr>\n",
       "  </tbody>\n",
       "</table>\n",
       "</div>"
      ],
      "text/plain": [
       "       maturity_year  year_created\n",
       "count    1206.000000   1206.000000\n",
       "mean     2026.176617   2018.504146\n",
       "std         4.143222      1.475521\n",
       "min      2018.000000   2017.000000\n",
       "25%      2023.000000   2017.000000\n",
       "50%      2026.000000   2018.000000\n",
       "75%      2028.000000   2020.000000\n",
       "max      2049.000000   2021.000000"
      ]
     },
     "execution_count": 72,
     "metadata": {},
     "output_type": "execute_result"
    }
   ],
   "source": [
    "df_sm[['maturity_year','year_created']].describe()"
   ]
  },
  {
   "cell_type": "code",
   "execution_count": null,
   "id": "7dd26b20",
   "metadata": {
    "ExecuteTime": {
     "end_time": "2021-05-18T12:37:43.030513Z",
     "start_time": "2021-05-18T12:37:43.007504Z"
    }
   },
   "outputs": [],
   "source": []
  },
  {
   "cell_type": "markdown",
   "id": "dcec5802",
   "metadata": {},
   "source": [
    "We will now obtain a \"surplus\" for the company for each of the bond. For that, we obtain the value of all the interest and nominal value that the company has to pay to the bank, at the year that the bond was purchased. We then rest this amount to the total bond amount. In this way we will obtain the \"surplus\" of the deal for the company's side. \n",
    "\n",
    "After that, since different bond could have different issuing dates, we will take all the surplus values to the 2021 year. In this way we can make the surplus of the bonds comparable.\n",
    "\n",
    "For making this process, we assign to floating rate bonds the average rate, and we considered a fix inlation rate of the one present in the euro area at the time this notebook was done, which is 1.6%."
   ]
  },
  {
   "cell_type": "markdown",
   "id": "f1a2a60b",
   "metadata": {},
   "source": [
    "## Annuities and present value functions"
   ]
  },
  {
   "cell_type": "code",
   "execution_count": 73,
   "id": "9af2f0eb",
   "metadata": {
    "ExecuteTime": {
     "end_time": "2021-05-22T12:04:17.720409Z",
     "start_time": "2021-05-22T12:04:17.693261Z"
    }
   },
   "outputs": [],
   "source": [
    "def startvalue_zerobond(yr_start,yr_end,inflation,facevalue):\n",
    "    diffyears=yr_end-yr_start\n",
    "    totalvalue_atstart=facevalue/((1+inflation)**diffyears)\n",
    "    return totalvalue_atstart\n",
    "\n",
    "def startvalue_interest(yr_start,yr_end,inflation,interest,bondcost):\n",
    "    diffyears=yr_end-yr_start\n",
    "    totalvalue_atstart=((bondcost*interest)/(1+inflation))*((1-(1+inflation)**(-diffyears))/(1-(1+inflation)**(-1)))\n",
    "    return totalvalue_atstart\n",
    "\n",
    "def startvalue_completebond(yr_start,yr_end,inflation,facevalue,interest,bondcost):\n",
    "    zerobond_atstart=startvalue_zerobond(yr_start,yr_end,inflation,facevalue)\n",
    "    interest_atstart=startvalue_interest(yr_start,yr_end,inflation,interest,bondcost)\n",
    "    all_value_atstart=interest_atstart+zerobond_atstart\n",
    "    return all_value_atstart\n",
    "\n",
    "def fromstart_topresent(yr_start,yr_present,value,inflation):\n",
    "    diffyears=yr_present-yr_start\n",
    "    presentvalue=value*(1+inflation)**diffyears\n",
    "    return presentvalue"
   ]
  },
  {
   "cell_type": "code",
   "execution_count": 74,
   "id": "5affeab8",
   "metadata": {
    "ExecuteTime": {
     "end_time": "2021-05-22T12:04:17.751276Z",
     "start_time": "2021-05-22T12:04:17.724271Z"
    }
   },
   "outputs": [
    {
     "data": {
      "text/html": [
       "<div>\n",
       "<style scoped>\n",
       "    .dataframe tbody tr th:only-of-type {\n",
       "        vertical-align: middle;\n",
       "    }\n",
       "\n",
       "    .dataframe tbody tr th {\n",
       "        vertical-align: top;\n",
       "    }\n",
       "\n",
       "    .dataframe thead th {\n",
       "        text-align: right;\n",
       "    }\n",
       "</style>\n",
       "<table border=\"1\" class=\"dataframe\">\n",
       "  <thead>\n",
       "    <tr style=\"text-align: right;\">\n",
       "      <th></th>\n",
       "      <th>industry</th>\n",
       "      <th>country</th>\n",
       "      <th>bond_types</th>\n",
       "      <th>ISIN</th>\n",
       "      <th>total_bond_amount</th>\n",
       "      <th>coupon_rate</th>\n",
       "      <th>nominal_amount</th>\n",
       "      <th>maturity_date</th>\n",
       "      <th>year_created</th>\n",
       "      <th>maturity_year</th>\n",
       "    </tr>\n",
       "  </thead>\n",
       "  <tbody>\n",
       "    <tr>\n",
       "      <th>1</th>\n",
       "      <td>Public utilities</td>\n",
       "      <td>Italy</td>\n",
       "      <td>Senior Unsecured</td>\n",
       "      <td>XS1088274672</td>\n",
       "      <td>600,000,000 EUR</td>\n",
       "      <td>3.000</td>\n",
       "      <td>1000.0</td>\n",
       "      <td>2024-07-16</td>\n",
       "      <td>2017</td>\n",
       "      <td>2024</td>\n",
       "    </tr>\n",
       "    <tr>\n",
       "      <th>3</th>\n",
       "      <td>Public utilities</td>\n",
       "      <td>Italy</td>\n",
       "      <td>Senior Unsecured</td>\n",
       "      <td>XS1571982468</td>\n",
       "      <td>435,000,000 EUR</td>\n",
       "      <td>1.750</td>\n",
       "      <td>1000.0</td>\n",
       "      <td>2026-08-28</td>\n",
       "      <td>2017</td>\n",
       "      <td>2026</td>\n",
       "    </tr>\n",
       "    <tr>\n",
       "      <th>6</th>\n",
       "      <td>Power</td>\n",
       "      <td>Italy</td>\n",
       "      <td>Senior Unsecured</td>\n",
       "      <td>XS1004874621</td>\n",
       "      <td>500,000,000 EUR</td>\n",
       "      <td>3.625</td>\n",
       "      <td>1000.0</td>\n",
       "      <td>2022-01-13</td>\n",
       "      <td>2017</td>\n",
       "      <td>2022</td>\n",
       "    </tr>\n",
       "  </tbody>\n",
       "</table>\n",
       "</div>"
      ],
      "text/plain": [
       "           industry country        bond_types          ISIN total_bond_amount  \\\n",
       "1  Public utilities   Italy  Senior Unsecured  XS1088274672   600,000,000 EUR   \n",
       "3  Public utilities   Italy  Senior Unsecured  XS1571982468   435,000,000 EUR   \n",
       "6             Power   Italy  Senior Unsecured  XS1004874621   500,000,000 EUR   \n",
       "\n",
       "   coupon_rate  nominal_amount maturity_date  year_created  maturity_year  \n",
       "1        3.000          1000.0    2024-07-16          2017           2024  \n",
       "3        1.750          1000.0    2026-08-28          2017           2026  \n",
       "6        3.625          1000.0    2022-01-13          2017           2022  "
      ]
     },
     "execution_count": 74,
     "metadata": {},
     "output_type": "execute_result"
    }
   ],
   "source": [
    "df_sm.head(3)"
   ]
  },
  {
   "cell_type": "markdown",
   "id": "39d69e83",
   "metadata": {},
   "source": [
    "## Creation of surplus at time 2021"
   ]
  },
  {
   "cell_type": "markdown",
   "id": "19901439",
   "metadata": {},
   "source": [
    "Getting the start value of contributions to the company for the bank. We suppose an inflation of 1.6%, and that the bank bought the bond at the nominal value."
   ]
  },
  {
   "cell_type": "code",
   "execution_count": 75,
   "id": "098b74f1",
   "metadata": {
    "ExecuteTime": {
     "end_time": "2021-05-22T12:04:17.782431Z",
     "start_time": "2021-05-22T12:04:17.755276Z"
    }
   },
   "outputs": [],
   "source": [
    "df_sm['Payment_atstartvalue']=startvalue_completebond(df_sm['year_created'],df_sm['maturity_year'],0.016,df_sm['nominal_amount'],\n",
    "                        df_sm['coupon_rate']/100,df_sm['nominal_amount'])"
   ]
  },
  {
   "cell_type": "markdown",
   "id": "63aee939",
   "metadata": {},
   "source": [
    "Getting the surplus at time that the bond was purchased"
   ]
  },
  {
   "cell_type": "code",
   "execution_count": 76,
   "id": "bb254db3",
   "metadata": {
    "ExecuteTime": {
     "end_time": "2021-05-22T12:04:17.798431Z",
     "start_time": "2021-05-22T12:04:17.786285Z"
    }
   },
   "outputs": [],
   "source": [
    "df_sm['surplus_company']=df_sm['nominal_amount']-df_sm['Payment_atstartvalue']"
   ]
  },
  {
   "cell_type": "markdown",
   "id": "ea6cf6a7",
   "metadata": {},
   "source": [
    "Getting the surplus value at time 2021"
   ]
  },
  {
   "cell_type": "code",
   "execution_count": 77,
   "id": "252be94d",
   "metadata": {
    "ExecuteTime": {
     "end_time": "2021-05-22T12:04:17.813290Z",
     "start_time": "2021-05-22T12:04:17.802289Z"
    }
   },
   "outputs": [],
   "source": [
    "df_sm['surplus_company_21']= fromstart_topresent(df_sm['year_created'],2021, df_sm['surplus_company']   ,0.016 )           "
   ]
  },
  {
   "cell_type": "code",
   "execution_count": 78,
   "id": "10722037",
   "metadata": {
    "ExecuteTime": {
     "end_time": "2021-05-22T12:04:17.845297Z",
     "start_time": "2021-05-22T12:04:17.825446Z"
    }
   },
   "outputs": [
    {
     "data": {
      "text/plain": [
       "count     1206.000000\n",
       "mean       414.839976\n",
       "std       3919.459912\n",
       "min     -45020.078751\n",
       "25%        -30.290693\n",
       "50%         37.237203\n",
       "75%        108.668277\n",
       "max      18999.848463\n",
       "Name: surplus_company_21, dtype: float64"
      ]
     },
     "execution_count": 78,
     "metadata": {},
     "output_type": "execute_result"
    }
   ],
   "source": [
    "df_sm['surplus_company_21'].describe()"
   ]
  },
  {
   "cell_type": "code",
   "execution_count": 79,
   "id": "126ea406",
   "metadata": {
    "ExecuteTime": {
     "end_time": "2021-05-22T12:04:18.700657Z",
     "start_time": "2021-05-22T12:04:17.853300Z"
    }
   },
   "outputs": [
    {
     "data": {
      "text/html": [
       "<div>\n",
       "<style scoped>\n",
       "    .dataframe tbody tr th:only-of-type {\n",
       "        vertical-align: middle;\n",
       "    }\n",
       "\n",
       "    .dataframe tbody tr th {\n",
       "        vertical-align: top;\n",
       "    }\n",
       "\n",
       "    .dataframe thead th {\n",
       "        text-align: right;\n",
       "    }\n",
       "</style>\n",
       "<table border=\"1\" class=\"dataframe\">\n",
       "  <thead>\n",
       "    <tr style=\"text-align: right;\">\n",
       "      <th></th>\n",
       "      <th>industry</th>\n",
       "      <th>country</th>\n",
       "      <th>bond_types</th>\n",
       "      <th>ISIN</th>\n",
       "      <th>total_bond_amount</th>\n",
       "      <th>coupon_rate</th>\n",
       "      <th>nominal_amount</th>\n",
       "      <th>maturity_date</th>\n",
       "      <th>year_created</th>\n",
       "      <th>maturity_year</th>\n",
       "      <th>Payment_atstartvalue</th>\n",
       "      <th>surplus_company</th>\n",
       "      <th>surplus_company_21</th>\n",
       "    </tr>\n",
       "  </thead>\n",
       "  <tbody>\n",
       "    <tr>\n",
       "      <th>1308</th>\n",
       "      <td>Engineering industry</td>\n",
       "      <td>Germany</td>\n",
       "      <td>Senior Unsecured</td>\n",
       "      <td>XS1910948675</td>\n",
       "      <td>1,250,000,000 EUR</td>\n",
       "      <td>4.125</td>\n",
       "      <td>100000.0</td>\n",
       "      <td>2038-11-16</td>\n",
       "      <td>2018</td>\n",
       "      <td>2038</td>\n",
       "      <td>142926.465075</td>\n",
       "      <td>-42926.465075</td>\n",
       "      <td>-45020.078751</td>\n",
       "    </tr>\n",
       "    <tr>\n",
       "      <th>112</th>\n",
       "      <td>Transportation</td>\n",
       "      <td>Italy</td>\n",
       "      <td>Senior Unsecured</td>\n",
       "      <td>XS0193945655</td>\n",
       "      <td>1,000,000,000 EUR</td>\n",
       "      <td>5.875</td>\n",
       "      <td>100000.0</td>\n",
       "      <td>2024-06-09</td>\n",
       "      <td>2017</td>\n",
       "      <td>2024</td>\n",
       "      <td>128098.177831</td>\n",
       "      <td>-28098.177831</td>\n",
       "      <td>-29940.082215</td>\n",
       "    </tr>\n",
       "    <tr>\n",
       "      <th>1590</th>\n",
       "      <td>Financial institutions</td>\n",
       "      <td>Netherlands</td>\n",
       "      <td>Others</td>\n",
       "      <td>DE000A28V319</td>\n",
       "      <td>500,000,000 EUR</td>\n",
       "      <td>3.375</td>\n",
       "      <td>100000.0</td>\n",
       "      <td>2035-04-17</td>\n",
       "      <td>2020</td>\n",
       "      <td>2035</td>\n",
       "      <td>123505.028395</td>\n",
       "      <td>-23505.028395</td>\n",
       "      <td>-23881.108849</td>\n",
       "    </tr>\n",
       "    <tr>\n",
       "      <th>1307</th>\n",
       "      <td>Engineering industry</td>\n",
       "      <td>Germany</td>\n",
       "      <td>Senior Unsecured</td>\n",
       "      <td>XS1910948329</td>\n",
       "      <td>1,000,000,000 EUR</td>\n",
       "      <td>3.250</td>\n",
       "      <td>100000.0</td>\n",
       "      <td>2030-11-18</td>\n",
       "      <td>2018</td>\n",
       "      <td>2030</td>\n",
       "      <td>117885.780151</td>\n",
       "      <td>-17885.780151</td>\n",
       "      <td>-18758.107138</td>\n",
       "    </tr>\n",
       "    <tr>\n",
       "      <th>644</th>\n",
       "      <td>Oil and gas</td>\n",
       "      <td>Austria</td>\n",
       "      <td>Senior Unsecured</td>\n",
       "      <td>XS0834371469</td>\n",
       "      <td>750,000,000 EUR</td>\n",
       "      <td>3.500</td>\n",
       "      <td>100000.0</td>\n",
       "      <td>2027-09-27</td>\n",
       "      <td>2017</td>\n",
       "      <td>2027</td>\n",
       "      <td>117429.683251</td>\n",
       "      <td>-17429.683251</td>\n",
       "      <td>-18572.241683</td>\n",
       "    </tr>\n",
       "    <tr>\n",
       "      <th>...</th>\n",
       "      <td>...</td>\n",
       "      <td>...</td>\n",
       "      <td>...</td>\n",
       "      <td>...</td>\n",
       "      <td>...</td>\n",
       "      <td>...</td>\n",
       "      <td>...</td>\n",
       "      <td>...</td>\n",
       "      <td>...</td>\n",
       "      <td>...</td>\n",
       "      <td>...</td>\n",
       "      <td>...</td>\n",
       "      <td>...</td>\n",
       "    </tr>\n",
       "    <tr>\n",
       "      <th>1929</th>\n",
       "      <td>Public utilities</td>\n",
       "      <td>Spain</td>\n",
       "      <td>Others</td>\n",
       "      <td>XS2251626896</td>\n",
       "      <td>500,000,000 EUR</td>\n",
       "      <td>0.375</td>\n",
       "      <td>100000.0</td>\n",
       "      <td>2032-11-05</td>\n",
       "      <td>2020</td>\n",
       "      <td>2032</td>\n",
       "      <td>86721.163221</td>\n",
       "      <td>13278.836779</td>\n",
       "      <td>13491.298168</td>\n",
       "    </tr>\n",
       "    <tr>\n",
       "      <th>1510</th>\n",
       "      <td>Oil and gas</td>\n",
       "      <td>Germany</td>\n",
       "      <td>Senior Unsecured</td>\n",
       "      <td>XS2049146215</td>\n",
       "      <td>500,000,000 EUR</td>\n",
       "      <td>0.500</td>\n",
       "      <td>100000.0</td>\n",
       "      <td>2034-09-10</td>\n",
       "      <td>2020</td>\n",
       "      <td>2034</td>\n",
       "      <td>86300.439586</td>\n",
       "      <td>13699.560414</td>\n",
       "      <td>13918.753380</td>\n",
       "    </tr>\n",
       "    <tr>\n",
       "      <th>1480</th>\n",
       "      <td>Oil and gas</td>\n",
       "      <td>Germany</td>\n",
       "      <td>Senior Unsecured</td>\n",
       "      <td>XS2049090595</td>\n",
       "      <td>500,000,000 EUR</td>\n",
       "      <td>0.125</td>\n",
       "      <td>100000.0</td>\n",
       "      <td>2029-09-10</td>\n",
       "      <td>2019</td>\n",
       "      <td>2029</td>\n",
       "      <td>86469.061687</td>\n",
       "      <td>13530.938313</td>\n",
       "      <td>13967.392260</td>\n",
       "    </tr>\n",
       "    <tr>\n",
       "      <th>1917</th>\n",
       "      <td>Power</td>\n",
       "      <td>Netherlands</td>\n",
       "      <td>Senior Unsecured</td>\n",
       "      <td>XS2262065159</td>\n",
       "      <td>600,000,000 EUR</td>\n",
       "      <td>0.125</td>\n",
       "      <td>100000.0</td>\n",
       "      <td>2032-11-30</td>\n",
       "      <td>2020</td>\n",
       "      <td>2032</td>\n",
       "      <td>84011.196531</td>\n",
       "      <td>15988.803469</td>\n",
       "      <td>16244.624324</td>\n",
       "    </tr>\n",
       "    <tr>\n",
       "      <th>1918</th>\n",
       "      <td>Power</td>\n",
       "      <td>Netherlands</td>\n",
       "      <td>Senior Unsecured</td>\n",
       "      <td>XS2262065233</td>\n",
       "      <td>750,000,000 EUR</td>\n",
       "      <td>0.500</td>\n",
       "      <td>100000.0</td>\n",
       "      <td>2040-11-30</td>\n",
       "      <td>2020</td>\n",
       "      <td>2040</td>\n",
       "      <td>81299.361749</td>\n",
       "      <td>18700.638251</td>\n",
       "      <td>18999.848463</td>\n",
       "    </tr>\n",
       "  </tbody>\n",
       "</table>\n",
       "<p>1206 rows × 13 columns</p>\n",
       "</div>"
      ],
      "text/plain": [
       "                    industry      country        bond_types          ISIN  \\\n",
       "1308    Engineering industry      Germany  Senior Unsecured  XS1910948675   \n",
       "112           Transportation        Italy  Senior Unsecured  XS0193945655   \n",
       "1590  Financial institutions  Netherlands            Others  DE000A28V319   \n",
       "1307    Engineering industry      Germany  Senior Unsecured  XS1910948329   \n",
       "644              Oil and gas      Austria  Senior Unsecured  XS0834371469   \n",
       "...                      ...          ...               ...           ...   \n",
       "1929        Public utilities        Spain            Others  XS2251626896   \n",
       "1510             Oil and gas      Germany  Senior Unsecured  XS2049146215   \n",
       "1480             Oil and gas      Germany  Senior Unsecured  XS2049090595   \n",
       "1917                   Power  Netherlands  Senior Unsecured  XS2262065159   \n",
       "1918                   Power  Netherlands  Senior Unsecured  XS2262065233   \n",
       "\n",
       "      total_bond_amount  coupon_rate  nominal_amount maturity_date  \\\n",
       "1308  1,250,000,000 EUR        4.125        100000.0    2038-11-16   \n",
       "112   1,000,000,000 EUR        5.875        100000.0    2024-06-09   \n",
       "1590    500,000,000 EUR        3.375        100000.0    2035-04-17   \n",
       "1307  1,000,000,000 EUR        3.250        100000.0    2030-11-18   \n",
       "644     750,000,000 EUR        3.500        100000.0    2027-09-27   \n",
       "...                 ...          ...             ...           ...   \n",
       "1929    500,000,000 EUR        0.375        100000.0    2032-11-05   \n",
       "1510    500,000,000 EUR        0.500        100000.0    2034-09-10   \n",
       "1480    500,000,000 EUR        0.125        100000.0    2029-09-10   \n",
       "1917    600,000,000 EUR        0.125        100000.0    2032-11-30   \n",
       "1918    750,000,000 EUR        0.500        100000.0    2040-11-30   \n",
       "\n",
       "      year_created  maturity_year  Payment_atstartvalue  surplus_company  \\\n",
       "1308          2018           2038         142926.465075    -42926.465075   \n",
       "112           2017           2024         128098.177831    -28098.177831   \n",
       "1590          2020           2035         123505.028395    -23505.028395   \n",
       "1307          2018           2030         117885.780151    -17885.780151   \n",
       "644           2017           2027         117429.683251    -17429.683251   \n",
       "...            ...            ...                   ...              ...   \n",
       "1929          2020           2032          86721.163221     13278.836779   \n",
       "1510          2020           2034          86300.439586     13699.560414   \n",
       "1480          2019           2029          86469.061687     13530.938313   \n",
       "1917          2020           2032          84011.196531     15988.803469   \n",
       "1918          2020           2040          81299.361749     18700.638251   \n",
       "\n",
       "      surplus_company_21  \n",
       "1308       -45020.078751  \n",
       "112        -29940.082215  \n",
       "1590       -23881.108849  \n",
       "1307       -18758.107138  \n",
       "644        -18572.241683  \n",
       "...                  ...  \n",
       "1929        13491.298168  \n",
       "1510        13918.753380  \n",
       "1480        13967.392260  \n",
       "1917        16244.624324  \n",
       "1918        18999.848463  \n",
       "\n",
       "[1206 rows x 13 columns]"
      ]
     },
     "execution_count": 79,
     "metadata": {},
     "output_type": "execute_result"
    }
   ],
   "source": [
    "df_sm.sort_values(by='surplus_company_21')"
   ]
  },
  {
   "cell_type": "markdown",
   "id": "e8d85acf",
   "metadata": {},
   "source": [
    "# Distribution of green bonds compared to the rest of them"
   ]
  },
  {
   "cell_type": "markdown",
   "id": "3a76f527",
   "metadata": {
    "ExecuteTime": {
     "end_time": "2021-05-18T09:10:33.557811Z",
     "start_time": "2021-05-18T09:10:32.773748Z"
    }
   },
   "source": [
    "Distribution of the surplus at 2021 "
   ]
  },
  {
   "cell_type": "code",
   "execution_count": 82,
   "id": "a338fd4c",
   "metadata": {
    "ExecuteTime": {
     "end_time": "2021-05-22T12:04:18.732667Z",
     "start_time": "2021-05-22T12:04:18.704662Z"
    }
   },
   "outputs": [
    {
     "data": {
      "text/plain": [
       "count     1206.000000\n",
       "mean       414.839976\n",
       "std       3919.459912\n",
       "min     -45020.078751\n",
       "25%        -30.290693\n",
       "50%         37.237203\n",
       "75%        108.668277\n",
       "max      18999.848463\n",
       "Name: surplus_company_21, dtype: float64"
      ]
     },
     "execution_count": 82,
     "metadata": {},
     "output_type": "execute_result"
    }
   ],
   "source": [
    "df_sm['surplus_company_21'].describe()"
   ]
  },
  {
   "cell_type": "code",
   "execution_count": 138,
   "id": "b83dd118",
   "metadata": {
    "ExecuteTime": {
     "end_time": "2021-05-22T12:04:19.411006Z",
     "start_time": "2021-05-22T12:04:18.738670Z"
    }
   },
   "outputs": [
    {
     "name": "stderr",
     "output_type": "stream",
     "text": [
      "C:\\Users\\Danny\\anaconda3\\lib\\site-packages\\seaborn\\distributions.py:2551: FutureWarning: `distplot` is a deprecated function and will be removed in a future version. Please adapt your code to use either `displot` (a figure-level function with similar flexibility) or `histplot` (an axes-level function for histograms).\n",
      "  warnings.warn(msg, FutureWarning)\n"
     ]
    }
   ],
   "source": [
    "plt.subplots(figsize=(20, 12))\n",
    "sns.distplot(df_sm['surplus_company_21'], hist = True, kde = True,bins=30,\n",
    "                 kde_kws = {'shade': True, 'linewidth': 3})#, label = bond_types)\n",
    "plt.close()"
   ]
  },
  {
   "cell_type": "markdown",
   "id": "5cd58c95",
   "metadata": {},
   "source": [
    "Distribution by bond type"
   ]
  },
  {
   "cell_type": "code",
   "execution_count": 139,
   "id": "89473e73",
   "metadata": {
    "ExecuteTime": {
     "end_time": "2021-05-22T12:04:20.076566Z",
     "start_time": "2021-05-22T12:04:19.414917Z"
    }
   },
   "outputs": [],
   "source": [
    "plt.subplots(figsize=(20, 12))\n",
    "sns.violinplot(x =\"bond_types\", y =\"surplus_company_21\", data = df_sm)# ,hue =\"region\", style =\"event\"\n",
    "plt.close()"
   ]
  },
  {
   "cell_type": "markdown",
   "id": "ed1c3fde",
   "metadata": {},
   "source": [
    "Small signs that the bank could be supporting the green bonds so far. The bond that seems to be supported the most is the Zero-coupon bond."
   ]
  },
  {
   "cell_type": "code",
   "execution_count": 85,
   "id": "294d5d71",
   "metadata": {
    "ExecuteTime": {
     "end_time": "2021-05-22T12:04:20.139581Z",
     "start_time": "2021-05-22T12:04:20.080572Z"
    }
   },
   "outputs": [
    {
     "name": "stderr",
     "output_type": "stream",
     "text": [
      "<ipython-input-85-2c27b24159e3>:2: SettingWithCopyWarning: \n",
      "A value is trying to be set on a copy of a slice from a DataFrame\n",
      "\n",
      "See the caveats in the documentation: https://pandas.pydata.org/pandas-docs/stable/user_guide/indexing.html#returning-a-view-versus-a-copy\n",
      "  df_sm[\"Ind_Green\"][df_sm[\"bond_types\"]==\"Green bonds\"]=\"Yes\"\n"
     ]
    },
    {
     "data": {
      "text/plain": [
       "No     1089\n",
       "Yes     117\n",
       "Name: Ind_Green, dtype: int64"
      ]
     },
     "execution_count": 85,
     "metadata": {},
     "output_type": "execute_result"
    }
   ],
   "source": [
    "df_sm[\"Ind_Green\"]=\"No\"\n",
    "df_sm[\"Ind_Green\"][df_sm[\"bond_types\"]==\"Green bonds\"]=\"Yes\"\n",
    "df_sm[\"Ind_Green\"].value_counts()"
   ]
  },
  {
   "cell_type": "markdown",
   "id": "d4a7a211",
   "metadata": {},
   "source": [
    "Distribution of surplus by industry and bond type"
   ]
  },
  {
   "cell_type": "code",
   "execution_count": 108,
   "id": "5bccdde5",
   "metadata": {
    "ExecuteTime": {
     "end_time": "2021-05-22T12:04:21.521925Z",
     "start_time": "2021-05-22T12:04:20.144583Z"
    }
   },
   "outputs": [],
   "source": [
    "plt.subplots(figsize=(10, 30))\n",
    "sns.violinplot(y =\"industry\", x =\"surplus_company_21\", data = df_sm,width=1,dodge=True, style =\"event\",hue =\"Ind_Green\",\n",
    "               split=True)# \n",
    "plt.legend(fontsize=20,title=\"Green \\n Bond\",title_fontsize=23, loc=\"upper left\")\n",
    "plt.xticks(size = 15)\n",
    "plt.yticks(size = 20)\n",
    "plt.xlabel(\"Surplus at 2021\",size=25)\n",
    "plt.ylabel(\"\")\n",
    "plt.title(\"Distribution Surplus \\n by Industry at 2021\", size=25);\n",
    "plt.savefig('Sur_2021.png')\n",
    "plt.close()\n"
   ]
  },
  {
   "cell_type": "code",
   "execution_count": 109,
   "id": "d25ecf44",
   "metadata": {},
   "outputs": [],
   "source": [
    "#plot saved image\n",
    "response = requests.get('https://github.com/Dansieg91/ECB-Bond-Purchases/raw/main/Plots/Sur_2021.png')\n",
    "Sur_2021 = Image.open(BytesIO(response.content))"
   ]
  },
  {
   "cell_type": "markdown",
   "id": "5e975e2b",
   "metadata": {},
   "source": [
    "Surplus in engineering seems bigger for green bonds than the rest, but the sample of green bonds (5) is too small in those industries for making strong conclussions."
   ]
  },
  {
   "cell_type": "code",
   "execution_count": 112,
   "id": "3cd22efc",
   "metadata": {
    "ExecuteTime": {
     "end_time": "2021-05-22T12:04:21.583082Z",
     "start_time": "2021-05-22T12:04:21.526930Z"
    }
   },
   "outputs": [
    {
     "data": {
      "text/html": [
       "<div>\n",
       "<style scoped>\n",
       "    .dataframe tbody tr th:only-of-type {\n",
       "        vertical-align: middle;\n",
       "    }\n",
       "\n",
       "    .dataframe tbody tr th {\n",
       "        vertical-align: top;\n",
       "    }\n",
       "\n",
       "    .dataframe thead th {\n",
       "        text-align: right;\n",
       "    }\n",
       "</style>\n",
       "<table border=\"1\" class=\"dataframe\">\n",
       "  <thead>\n",
       "    <tr style=\"text-align: right;\">\n",
       "      <th>industry</th>\n",
       "      <th>Chemical and petrochemical industry</th>\n",
       "      <th>Communication</th>\n",
       "      <th>Construction and development</th>\n",
       "      <th>Engineering industry</th>\n",
       "      <th>Financial institutions</th>\n",
       "      <th>Food industry</th>\n",
       "      <th>Healthсare</th>\n",
       "      <th>Information and High Technologies</th>\n",
       "      <th>Light industry</th>\n",
       "      <th>Media and Entertainment</th>\n",
       "      <th>Oil and gas</th>\n",
       "      <th>Other sectors</th>\n",
       "      <th>Power</th>\n",
       "      <th>Public utilities</th>\n",
       "      <th>Trade and retail</th>\n",
       "      <th>Transportation</th>\n",
       "    </tr>\n",
       "    <tr>\n",
       "      <th>Ind_Green</th>\n",
       "      <th></th>\n",
       "      <th></th>\n",
       "      <th></th>\n",
       "      <th></th>\n",
       "      <th></th>\n",
       "      <th></th>\n",
       "      <th></th>\n",
       "      <th></th>\n",
       "      <th></th>\n",
       "      <th></th>\n",
       "      <th></th>\n",
       "      <th></th>\n",
       "      <th></th>\n",
       "      <th></th>\n",
       "      <th></th>\n",
       "      <th></th>\n",
       "    </tr>\n",
       "  </thead>\n",
       "  <tbody>\n",
       "    <tr>\n",
       "      <th>No</th>\n",
       "      <td>82</td>\n",
       "      <td>99</td>\n",
       "      <td>108</td>\n",
       "      <td>140</td>\n",
       "      <td>108</td>\n",
       "      <td>63</td>\n",
       "      <td>48</td>\n",
       "      <td>40</td>\n",
       "      <td>19</td>\n",
       "      <td>13</td>\n",
       "      <td>106</td>\n",
       "      <td>41</td>\n",
       "      <td>111</td>\n",
       "      <td>32</td>\n",
       "      <td>11</td>\n",
       "      <td>68</td>\n",
       "    </tr>\n",
       "    <tr>\n",
       "      <th>Yes</th>\n",
       "      <td>1</td>\n",
       "      <td>3</td>\n",
       "      <td>11</td>\n",
       "      <td>5</td>\n",
       "      <td>7</td>\n",
       "      <td>0</td>\n",
       "      <td>0</td>\n",
       "      <td>0</td>\n",
       "      <td>1</td>\n",
       "      <td>0</td>\n",
       "      <td>1</td>\n",
       "      <td>4</td>\n",
       "      <td>71</td>\n",
       "      <td>2</td>\n",
       "      <td>0</td>\n",
       "      <td>11</td>\n",
       "    </tr>\n",
       "  </tbody>\n",
       "</table>\n",
       "</div>"
      ],
      "text/plain": [
       "industry   Chemical and petrochemical industry  Communication  \\\n",
       "Ind_Green                                                       \n",
       "No                                          82             99   \n",
       "Yes                                          1              3   \n",
       "\n",
       "industry   Construction and development  Engineering industry  \\\n",
       "Ind_Green                                                       \n",
       "No                                  108                   140   \n",
       "Yes                                  11                     5   \n",
       "\n",
       "industry   Financial institutions  Food industry  Healthсare  \\\n",
       "Ind_Green                                                      \n",
       "No                            108             63          48   \n",
       "Yes                             7              0           0   \n",
       "\n",
       "industry   Information and High Technologies  Light industry  \\\n",
       "Ind_Green                                                      \n",
       "No                                        40              19   \n",
       "Yes                                        0               1   \n",
       "\n",
       "industry   Media and Entertainment  Oil and gas  Other sectors  Power  \\\n",
       "Ind_Green                                                               \n",
       "No                              13          106             41    111   \n",
       "Yes                              0            1              4     71   \n",
       "\n",
       "industry   Public utilities  Trade and retail  Transportation  \n",
       "Ind_Green                                                      \n",
       "No                       32                11              68  \n",
       "Yes                       2                 0              11  "
      ]
     },
     "execution_count": 112,
     "metadata": {},
     "output_type": "execute_result"
    }
   ],
   "source": [
    "ind_green=pd.crosstab(df_sm[\"Ind_Green\"],df_sm[\"industry\"]).T\n",
    "ind_green.T"
   ]
  },
  {
   "cell_type": "code",
   "execution_count": null,
   "id": "22ec7cb0",
   "metadata": {},
   "outputs": [],
   "source": []
  },
  {
   "cell_type": "markdown",
   "id": "901c1e78",
   "metadata": {},
   "source": [
    "# Lasso"
   ]
  },
  {
   "cell_type": "markdown",
   "id": "ca70cdb1",
   "metadata": {},
   "source": [
    "We already know that the number of green bonds is very small compared to the total number of bonds bought by the bank. \n",
    "\n",
    "In order to detect if the bank is helping the companies that buy green bonds in a significant way, we will do a penalized regression technique, particularly Lasso regression, on the surplus at time 2021 in millions, with the variables already analyzed as explanatory variables (industry, country, and type of bond).\n",
    "\n",
    "If we were to make a model using the dummy variables we have analyzed so far as covariates, we may go into over fitting issues due to the high amount of covariates, so the best for us will be to implement some kind of feature selection before fitting a model.\n",
    "\n",
    "Hence, we decided to implement a Lasso model because of its nature to shrink the less important coefficients to zero. In this way, if after fitting the model, the coefficient associated to green bonds is positive, we can say that the bank is supporting the green economy.\n",
    "\n",
    "We did not standardize our covariates since all of them are dummy variables. Standardizing will not bring any value, but it will make interpretation of the coefficients more difficult.\n",
    "\n",
    "For hyperparameter tunning as well as model selection, we will make use of 10 fold cross validation"
   ]
  },
  {
   "cell_type": "code",
   "execution_count": 113,
   "id": "632ad7ee",
   "metadata": {
    "ExecuteTime": {
     "end_time": "2021-05-22T12:04:21.613949Z",
     "start_time": "2021-05-22T12:04:21.586944Z"
    }
   },
   "outputs": [],
   "source": [
    "id_bond=df_sm[\"ISIN\"]\n",
    "X=pd.get_dummies(df_sm[[\"industry\",\"country\",\"bond_types\"]], prefix=None, prefix_sep='_')\n",
    "y=df_sm[\"surplus_company_21\"]"
   ]
  },
  {
   "cell_type": "markdown",
   "id": "e85899fd",
   "metadata": {},
   "source": [
    "Just for descriptive purposes, the plain linear regression model. Thoughtful about including it in the official code/report or not."
   ]
  },
  {
   "cell_type": "code",
   "execution_count": 140,
   "id": "ba02d218",
   "metadata": {
    "ExecuteTime": {
     "end_time": "2021-05-22T12:04:21.724519Z",
     "start_time": "2021-05-22T12:04:21.616955Z"
    }
   },
   "outputs": [
    {
     "name": "stderr",
     "output_type": "stream",
     "text": [
      "<ipython-input-140-4fe29bd4c3f4>:3: UserWarning: With alpha=0, this algorithm does not converge well. You are advised to use the LinearRegression estimator\n",
      "  lasso_model.fit(X,y)\n",
      "C:\\Users\\Danny\\anaconda3\\lib\\site-packages\\sklearn\\linear_model\\_coordinate_descent.py:529: UserWarning: Coordinate descent with no regularization may lead to unexpected results and is discouraged.\n",
      "  model = cd_fast.enet_coordinate_descent(\n",
      "C:\\Users\\Danny\\anaconda3\\lib\\site-packages\\sklearn\\linear_model\\_coordinate_descent.py:529: ConvergenceWarning: Objective did not converge. You might want to increase the number of iterations. Duality gap: 8473618716.142371, tolerance: 1851141.0028598045\n",
      "  model = cd_fast.enet_coordinate_descent(\n"
     ]
    }
   ],
   "source": [
    "Alpha = 0\n",
    "lasso_model = linear_model.Lasso(fit_intercept=True, alpha=Alpha,copy_X=True,normalize=False)\n",
    "lasso_model.fit(X,y)\n",
    "Coefficients_for_alpha=str(Alpha)\n"
   ]
  },
  {
   "cell_type": "code",
   "execution_count": 141,
   "id": "ee8aac7c",
   "metadata": {},
   "outputs": [
    {
     "data": {
      "text/html": [
       "<div>\n",
       "<style scoped>\n",
       "    .dataframe tbody tr th:only-of-type {\n",
       "        vertical-align: middle;\n",
       "    }\n",
       "\n",
       "    .dataframe tbody tr th {\n",
       "        vertical-align: top;\n",
       "    }\n",
       "\n",
       "    .dataframe thead th {\n",
       "        text-align: right;\n",
       "    }\n",
       "</style>\n",
       "<table border=\"1\" class=\"dataframe\">\n",
       "  <thead>\n",
       "    <tr style=\"text-align: right;\">\n",
       "      <th></th>\n",
       "      <th>0</th>\n",
       "      <th>1</th>\n",
       "      <th>2</th>\n",
       "      <th>3</th>\n",
       "      <th>4</th>\n",
       "      <th>5</th>\n",
       "      <th>6</th>\n",
       "      <th>7</th>\n",
       "      <th>8</th>\n",
       "      <th>9</th>\n",
       "      <th>...</th>\n",
       "      <th>26</th>\n",
       "      <th>27</th>\n",
       "      <th>28</th>\n",
       "      <th>29</th>\n",
       "      <th>30</th>\n",
       "      <th>31</th>\n",
       "      <th>32</th>\n",
       "      <th>33</th>\n",
       "      <th>34</th>\n",
       "      <th>35</th>\n",
       "    </tr>\n",
       "  </thead>\n",
       "  <tbody>\n",
       "    <tr>\n",
       "      <th>Covariate</th>\n",
       "      <td>industry_Chemical and petrochemical industry</td>\n",
       "      <td>industry_Communication</td>\n",
       "      <td>industry_Construction and development</td>\n",
       "      <td>industry_Engineering industry</td>\n",
       "      <td>industry_Financial institutions</td>\n",
       "      <td>industry_Food industry</td>\n",
       "      <td>industry_Healthсare</td>\n",
       "      <td>industry_Information and High Technologies</td>\n",
       "      <td>industry_Light industry</td>\n",
       "      <td>industry_Media and Entertainment</td>\n",
       "      <td>...</td>\n",
       "      <td>country_Non_EU</td>\n",
       "      <td>country_Portugal</td>\n",
       "      <td>country_Spain</td>\n",
       "      <td>country_Sweden_Denmark</td>\n",
       "      <td>country_Switzerland</td>\n",
       "      <td>country_United Kingdom</td>\n",
       "      <td>bond_types_Green bonds</td>\n",
       "      <td>bond_types_Others</td>\n",
       "      <td>bond_types_Senior Unsecured</td>\n",
       "      <td>bond_types_Zero-coupon bonds</td>\n",
       "    </tr>\n",
       "    <tr>\n",
       "      <th>Coefficient</th>\n",
       "      <td>698.74</td>\n",
       "      <td>-585.55</td>\n",
       "      <td>70.67</td>\n",
       "      <td>-648.9</td>\n",
       "      <td>-115.3</td>\n",
       "      <td>-148.91</td>\n",
       "      <td>425.37</td>\n",
       "      <td>912.8</td>\n",
       "      <td>1511.94</td>\n",
       "      <td>164.25</td>\n",
       "      <td>...</td>\n",
       "      <td>-395.07</td>\n",
       "      <td>-844.36</td>\n",
       "      <td>-234.97</td>\n",
       "      <td>596.28</td>\n",
       "      <td>146.32</td>\n",
       "      <td>-326.33</td>\n",
       "      <td>429.38</td>\n",
       "      <td>-1203.6</td>\n",
       "      <td>-827.92</td>\n",
       "      <td>1687.59</td>\n",
       "    </tr>\n",
       "  </tbody>\n",
       "</table>\n",
       "<p>2 rows × 36 columns</p>\n",
       "</div>"
      ],
      "text/plain": [
       "                                                       0   \\\n",
       "Covariate    industry_Chemical and petrochemical industry   \n",
       "Coefficient                                        698.74   \n",
       "\n",
       "                                 1                                      2   \\\n",
       "Covariate    industry_Communication  industry_Construction and development   \n",
       "Coefficient                 -585.55                                  70.67   \n",
       "\n",
       "                                        3                                4   \\\n",
       "Covariate    industry_Engineering industry  industry_Financial institutions   \n",
       "Coefficient                         -648.9                           -115.3   \n",
       "\n",
       "                                 5                    6   \\\n",
       "Covariate    industry_Food industry  industry_Healthсare   \n",
       "Coefficient                 -148.91               425.37   \n",
       "\n",
       "                                                     7   \\\n",
       "Covariate    industry_Information and High Technologies   \n",
       "Coefficient                                       912.8   \n",
       "\n",
       "                                  8                                 9   ...  \\\n",
       "Covariate    industry_Light industry  industry_Media and Entertainment  ...   \n",
       "Coefficient                  1511.94                            164.25  ...   \n",
       "\n",
       "                         26                27             28  \\\n",
       "Covariate    country_Non_EU  country_Portugal  country_Spain   \n",
       "Coefficient         -395.07           -844.36        -234.97   \n",
       "\n",
       "                                 29                   30  \\\n",
       "Covariate    country_Sweden_Denmark  country_Switzerland   \n",
       "Coefficient                  596.28               146.32   \n",
       "\n",
       "                                 31                      32  \\\n",
       "Covariate    country_United Kingdom  bond_types_Green bonds   \n",
       "Coefficient                 -326.33                  429.38   \n",
       "\n",
       "                            33                           34  \\\n",
       "Covariate    bond_types_Others  bond_types_Senior Unsecured   \n",
       "Coefficient            -1203.6                      -827.92   \n",
       "\n",
       "                                       35  \n",
       "Covariate    bond_types_Zero-coupon bonds  \n",
       "Coefficient                       1687.59  \n",
       "\n",
       "[2 rows x 36 columns]"
      ]
     },
     "execution_count": 141,
     "metadata": {},
     "output_type": "execute_result"
    }
   ],
   "source": [
    "Las_coef=pd.DataFrame(data={\"Covariate\":X.columns,\"Coefficient\":np.round(lasso_model.coef_,2)})\n",
    "Las_coef.T"
   ]
  },
  {
   "cell_type": "code",
   "execution_count": 118,
   "id": "e32010a2",
   "metadata": {
    "ExecuteTime": {
     "end_time": "2021-05-22T12:04:21.740371Z",
     "start_time": "2021-05-22T12:04:21.727371Z"
    }
   },
   "outputs": [
    {
     "data": {
      "text/plain": [
       "715.256592280921"
      ]
     },
     "execution_count": 118,
     "metadata": {},
     "output_type": "execute_result"
    }
   ],
   "source": [
    "lasso_model.intercept_"
   ]
  },
  {
   "cell_type": "code",
   "execution_count": 119,
   "id": "57dd6b78",
   "metadata": {
    "ExecuteTime": {
     "end_time": "2021-05-22T12:04:21.755517Z",
     "start_time": "2021-05-22T12:04:21.744375Z"
    }
   },
   "outputs": [
    {
     "data": {
      "text/plain": [
       "array([429.38163105])"
      ]
     },
     "execution_count": 119,
     "metadata": {},
     "output_type": "execute_result"
    }
   ],
   "source": [
    "lasso_model.coef_[X.columns==\"bond_types_Green bonds\"]"
   ]
  },
  {
   "cell_type": "code",
   "execution_count": 120,
   "id": "09b2ad7f",
   "metadata": {
    "ExecuteTime": {
     "end_time": "2021-05-22T12:04:21.771383Z",
     "start_time": "2021-05-22T12:04:21.759380Z"
    }
   },
   "outputs": [
    {
     "data": {
      "text/plain": [
       "array([295.57176901])"
      ]
     },
     "execution_count": 120,
     "metadata": {},
     "output_type": "execute_result"
    }
   ],
   "source": [
    "lasso_model.coef_[X.columns==\"industry_Power\"]"
   ]
  },
  {
   "cell_type": "code",
   "execution_count": 122,
   "id": "9a80471b",
   "metadata": {
    "ExecuteTime": {
     "end_time": "2021-05-22T12:04:22.707264Z",
     "start_time": "2021-05-22T12:04:21.774383Z"
    }
   },
   "outputs": [],
   "source": [
    "fig, ax = plt.subplots(1,1,sharex=True,figsize=(10,15))\n",
    "y_pos = np.arange(len(X.columns))\n",
    "\n",
    "#Lasso Regression\n",
    "hedge_Lasso = lasso_model.coef_\n",
    "ax.barh(y=y_pos, width=hedge_Lasso, align='center', alpha=0.9,\n",
    "        color=[\"cadetblue\"]*16+['mediumseagreen']*16+[\"darkred\"]+[\"lightcoral\"]*3)\n",
    "ax.set_yticks(y_pos)\n",
    "plt.yticks(size=15)\n",
    "ax.set_yticklabels(X.columns)\n",
    "ax.set_xlabel('Coefficient Value', size=20)\n",
    "ax.set_title('Coefficients for the linear regression model', size=25);\n",
    "plt.savefig('Las_coefp.png')\n",
    "plt.close()\n"
   ]
  },
  {
   "cell_type": "code",
   "execution_count": null,
   "id": "1ff5f079",
   "metadata": {},
   "outputs": [],
   "source": [
    "#plot saved image\n",
    "response = requests.get('https://github.com/Dansieg91/ECB-Bond-Purchases/raw/main/Plots/Las_coefp.png')\n",
    "Las_coefp = Image.open(BytesIO(response.content))"
   ]
  },
  {
   "cell_type": "markdown",
   "id": "3b47138c",
   "metadata": {},
   "source": [
    "The bank does not help at all to bonds bought to a company settled in Lithuania and Estonia. Due to the nature of Zero-coupon bonds plus the assumption we used that banks bought the bond with the same value as the face value, the model says that the bank supports Zero-coupon bonds."
   ]
  },
  {
   "cell_type": "markdown",
   "id": "d2833a11",
   "metadata": {},
   "source": [
    "## Impact of the alpha value to the Lasso coefficients"
   ]
  },
  {
   "cell_type": "markdown",
   "id": "3ad34c8f",
   "metadata": {},
   "source": [
    "We set our possible alpha values from 0 to 15, because after 15 all coefficients were zero"
   ]
  },
  {
   "cell_type": "code",
   "execution_count": 125,
   "id": "23c013d9",
   "metadata": {
    "ExecuteTime": {
     "end_time": "2021-05-22T12:04:22.722119Z",
     "start_time": "2021-05-22T12:04:22.711121Z"
    }
   },
   "outputs": [
    {
     "data": {
      "text/plain": [
       "array([  0. ,   0.5,   1. ,   1.5,   2. ,   2.5,   3. ,   3.5,   4. ,\n",
       "         4.5,   5. ,   5.5,   6. ,   6.5,   7. ,   7.5,   8. ,   8.5,\n",
       "         9. ,   9.5,  10. ,  10.5,  11. ,  11.5,  12. ,  12.5,  13. ,\n",
       "        13.5,  14. ,  14.5,  15. ,  15.5,  16. ,  16.5,  17. ,  17.5,\n",
       "        18. ,  18.5,  19. ,  19.5,  20. ,  20.5,  21. ,  21.5,  22. ,\n",
       "        22.5,  23. ,  23.5,  24. ,  24.5,  25. ,  25.5,  26. ,  26.5,\n",
       "        27. ,  27.5,  28. ,  28.5,  29. ,  29.5,  30. ,  30.5,  31. ,\n",
       "        31.5,  32. ,  32.5,  33. ,  33.5,  34. ,  34.5,  35. ,  35.5,\n",
       "        36. ,  36.5,  37. ,  37.5,  38. ,  38.5,  39. ,  39.5,  40. ,\n",
       "        40.5,  41. ,  41.5,  42. ,  42.5,  43. ,  43.5,  44. ,  44.5,\n",
       "        45. ,  45.5,  46. ,  46.5,  47. ,  47.5,  48. ,  48.5,  49. ,\n",
       "        49.5,  50. ,  50.5,  51. ,  51.5,  52. ,  52.5,  53. ,  53.5,\n",
       "        54. ,  54.5,  55. ,  55.5,  56. ,  56.5,  57. ,  57.5,  58. ,\n",
       "        58.5,  59. ,  59.5,  60. ,  60.5,  61. ,  61.5,  62. ,  62.5,\n",
       "        63. ,  63.5,  64. ,  64.5,  65. ,  65.5,  66. ,  66.5,  67. ,\n",
       "        67.5,  68. ,  68.5,  69. ,  69.5,  70. ,  70.5,  71. ,  71.5,\n",
       "        72. ,  72.5,  73. ,  73.5,  74. ,  74.5,  75. ,  75.5,  76. ,\n",
       "        76.5,  77. ,  77.5,  78. ,  78.5,  79. ,  79.5,  80. ,  80.5,\n",
       "        81. ,  81.5,  82. ,  82.5,  83. ,  83.5,  84. ,  84.5,  85. ,\n",
       "        85.5,  86. ,  86.5,  87. ,  87.5,  88. ,  88.5,  89. ,  89.5,\n",
       "        90. ,  90.5,  91. ,  91.5,  92. ,  92.5,  93. ,  93.5,  94. ,\n",
       "        94.5,  95. ,  95.5,  96. ,  96.5,  97. ,  97.5,  98. ,  98.5,\n",
       "        99. ,  99.5, 100. , 100.5, 101. , 101.5, 102. , 102.5, 103. ,\n",
       "       103.5, 104. , 104.5, 105. , 105.5, 106. , 106.5, 107. , 107.5,\n",
       "       108. , 108.5, 109. , 109.5, 110. , 110.5, 111. , 111.5, 112. ,\n",
       "       112.5, 113. , 113.5, 114. , 114.5, 115. , 115.5, 116. , 116.5,\n",
       "       117. , 117.5, 118. , 118.5, 119. , 119.5, 120. , 120.5, 121. ,\n",
       "       121.5, 122. , 122.5, 123. , 123.5, 124. , 124.5, 125. , 125.5,\n",
       "       126. , 126.5, 127. , 127.5, 128. , 128.5, 129. , 129.5, 130. ,\n",
       "       130.5, 131. , 131.5, 132. , 132.5, 133. , 133.5, 134. , 134.5,\n",
       "       135. , 135.5, 136. , 136.5, 137. , 137.5, 138. , 138.5, 139. ,\n",
       "       139.5, 140. , 140.5, 141. , 141.5, 142. , 142.5, 143. , 143.5,\n",
       "       144. , 144.5, 145. , 145.5, 146. , 146.5, 147. , 147.5, 148. ,\n",
       "       148.5, 149. , 149.5, 150. , 150.5, 151. , 151.5, 152. , 152.5,\n",
       "       153. , 153.5, 154. , 154.5, 155. , 155.5, 156. , 156.5, 157. ,\n",
       "       157.5, 158. , 158.5, 159. , 159.5, 160. , 160.5, 161. , 161.5,\n",
       "       162. , 162.5, 163. , 163.5, 164. , 164.5, 165. , 165.5, 166. ,\n",
       "       166.5, 167. , 167.5, 168. , 168.5, 169. , 169.5, 170. , 170.5,\n",
       "       171. , 171.5, 172. , 172.5, 173. , 173.5, 174. , 174.5, 175. ,\n",
       "       175.5, 176. , 176.5, 177. , 177.5, 178. , 178.5, 179. , 179.5,\n",
       "       180. , 180.5, 181. , 181.5, 182. , 182.5, 183. , 183.5, 184. ,\n",
       "       184.5, 185. , 185.5, 186. , 186.5, 187. , 187.5, 188. , 188.5,\n",
       "       189. , 189.5, 190. , 190.5, 191. , 191.5, 192. , 192.5, 193. ,\n",
       "       193.5, 194. , 194.5, 195. , 195.5, 196. , 196.5, 197. , 197.5,\n",
       "       198. , 198.5, 199. , 199.5, 200. , 200.5, 201. , 201.5, 202. ,\n",
       "       202.5, 203. , 203.5, 204. , 204.5, 205. , 205.5, 206. , 206.5,\n",
       "       207. , 207.5, 208. , 208.5, 209. , 209.5, 210. , 210.5, 211. ,\n",
       "       211.5, 212. , 212.5, 213. , 213.5, 214. , 214.5, 215. , 215.5,\n",
       "       216. , 216.5, 217. , 217.5, 218. , 218.5, 219. , 219.5, 220. ,\n",
       "       220.5, 221. , 221.5, 222. , 222.5, 223. , 223.5, 224. , 224.5,\n",
       "       225. , 225.5, 226. , 226.5, 227. , 227.5, 228. , 228.5, 229. ,\n",
       "       229.5, 230. , 230.5, 231. , 231.5, 232. , 232.5, 233. , 233.5,\n",
       "       234. , 234.5, 235. , 235.5, 236. , 236.5, 237. , 237.5, 238. ,\n",
       "       238.5, 239. , 239.5, 240. , 240.5, 241. , 241.5, 242. , 242.5,\n",
       "       243. , 243.5, 244. , 244.5, 245. , 245.5, 246. , 246.5, 247. ,\n",
       "       247.5, 248. , 248.5, 249. , 249.5])"
      ]
     },
     "execution_count": 125,
     "metadata": {},
     "output_type": "execute_result"
    }
   ],
   "source": [
    "alpha = np.arange(0,250,0.5)\n",
    "alpha"
   ]
  },
  {
   "cell_type": "markdown",
   "id": "8532c7a6",
   "metadata": {},
   "source": [
    "Matrix that will store for each alpha, the coefficients values"
   ]
  },
  {
   "cell_type": "code",
   "execution_count": 126,
   "id": "307c38ce",
   "metadata": {
    "ExecuteTime": {
     "end_time": "2021-05-22T12:04:22.737244Z",
     "start_time": "2021-05-22T12:04:22.726120Z"
    }
   },
   "outputs": [
    {
     "data": {
      "text/plain": [
       "(500, 36)"
      ]
     },
     "execution_count": 126,
     "metadata": {},
     "output_type": "execute_result"
    }
   ],
   "source": [
    "weights = np.zeros((len(alpha),len(X.columns)),dtype=float) #matrix of dimensions #alphas x #dummievars\n",
    "weights.shape"
   ]
  },
  {
   "cell_type": "code",
   "execution_count": 127,
   "id": "9efda2d8",
   "metadata": {
    "ExecuteTime": {
     "end_time": "2021-05-22T12:04:25.698292Z",
     "start_time": "2021-05-22T12:04:22.741125Z"
    }
   },
   "outputs": [
    {
     "name": "stderr",
     "output_type": "stream",
     "text": [
      "<ipython-input-127-0981f1940ac4>:3: UserWarning: With alpha=0, this algorithm does not converge well. You are advised to use the LinearRegression estimator\n",
      "  lassomodelaux.fit(X,y)\n",
      "C:\\Users\\Danny\\anaconda3\\lib\\site-packages\\sklearn\\linear_model\\_coordinate_descent.py:529: UserWarning: Coordinate descent with no regularization may lead to unexpected results and is discouraged.\n",
      "  model = cd_fast.enet_coordinate_descent(\n",
      "C:\\Users\\Danny\\anaconda3\\lib\\site-packages\\sklearn\\linear_model\\_coordinate_descent.py:529: ConvergenceWarning: Objective did not converge. You might want to increase the number of iterations. Duality gap: 8473618716.142371, tolerance: 1851141.0028598045\n",
      "  model = cd_fast.enet_coordinate_descent(\n"
     ]
    }
   ],
   "source": [
    "for i in np.arange(0,len(alpha)):\n",
    "    lassomodelaux = linear_model.Lasso(fit_intercept=True, alpha=alpha[i],copy_X=True,normalize=False)\n",
    "    lassomodelaux.fit(X,y)\n",
    "    weights[i,:]= lassomodelaux.coef_  #matrix defined above starts to be filled up\n",
    "    "
   ]
  },
  {
   "cell_type": "markdown",
   "id": "6c87af6b",
   "metadata": {},
   "source": [
    "We plot the evolution of the coefficients as the alpha increases"
   ]
  },
  {
   "cell_type": "code",
   "execution_count": 97,
   "id": "e4edd76f",
   "metadata": {
    "ExecuteTime": {
     "end_time": "2021-05-22T12:04:25.714150Z",
     "start_time": "2021-05-22T12:04:25.701150Z"
    }
   },
   "outputs": [],
   "source": [
    "ab = itertools.chain([\"cadetblue\"]*16+['mediumseagreen']*16+[\"darkred\"]+[\"lightcoral\"]*3)\n",
    "colorlist=list(ab)"
   ]
  },
  {
   "cell_type": "code",
   "execution_count": 98,
   "id": "22ab7009",
   "metadata": {
    "ExecuteTime": {
     "end_time": "2021-05-22T12:04:25.729299Z",
     "start_time": "2021-05-22T12:04:25.718151Z"
    }
   },
   "outputs": [],
   "source": [
    "ab=itertools.chain([3]*20+[7]*2+[3]*4+[3]*6+[7]+[3]*1+[7]*2)\n",
    "sizelist=list(ab)"
   ]
  },
  {
   "cell_type": "code",
   "execution_count": 99,
   "id": "4fb64cb0",
   "metadata": {
    "ExecuteTime": {
     "end_time": "2021-05-22T12:04:25.744305Z",
     "start_time": "2021-05-22T12:04:25.733156Z"
    }
   },
   "outputs": [],
   "source": [
    "labelsaux=['Chem/Petro','Commun.', 'Construction','Engineering', 'Financial','Food', 'Healthсare',\n",
    "       'Technology', 'Light','Entertainment', 'Oil/Gas',' Others', 'Power', 'Public utilities',\n",
    "       'Trade', 'Trans.','AT', 'BE-LU', 'CZ-SK-RO','FI', 'FR', 'DE','IE', 'IT', 'LT-EE', 'NL', 'Non-EU',\n",
    "       'PT', 'ES', 'SE-DK','CH', 'UK','Green bonds', 'Others','Sr. Unsec.', 'Zero-coup.']"
   ]
  },
  {
   "cell_type": "code",
   "execution_count": 128,
   "id": "65ed1e7d",
   "metadata": {
    "ExecuteTime": {
     "end_time": "2021-05-22T12:04:27.891463Z",
     "start_time": "2021-05-22T12:04:25.748158Z"
    }
   },
   "outputs": [],
   "source": [
    "plt.figure(figsize=(20,15))    \n",
    "for i in np.arange(0,len(X.columns)):\n",
    "    plt.semilogx(alpha[:],weights[:,i],label=labelsaux[i], linewidth=sizelist[i],\n",
    "                 color=colorlist[i]) #semilog to make right values closer\n",
    "\n",
    "plt.xlabel('Alpha Value',size=30)\n",
    "plt.ylabel('Coefficient',size=30)\n",
    "plt.xticks(size=20)\n",
    "plt.yticks(size=20)\n",
    "plt.legend(loc=\"lower right\", ncol=5,fontsize=20);\n",
    "plt.savefig('Las_alfa.png')\n",
    "plt.close()"
   ]
  },
  {
   "cell_type": "code",
   "execution_count": 129,
   "id": "20f53799",
   "metadata": {},
   "outputs": [],
   "source": [
    "#plot saved image\n",
    "response = requests.get('https://github.com/Dansieg91/ECB-Bond-Purchases/raw/main/Plots/Las_alfa.png')\n",
    "Las_alfa = Image.open(BytesIO(response.content))"
   ]
  },
  {
   "cell_type": "markdown",
   "id": "521d4758",
   "metadata": {},
   "source": [
    "The green bonds seem to shrink to zero slower than most of the variables, but still is not part of the group variables that lasted the most.\n",
    "\n",
    "The coefficients that survive the most are the ones related to Zero-coupon and Senior Unsecured bonds, as well as Germany and France"
   ]
  },
  {
   "cell_type": "markdown",
   "id": "a5c22be7",
   "metadata": {},
   "source": [
    "## Cross validation for hyperparameter tuning and model selection"
   ]
  },
  {
   "cell_type": "code",
   "execution_count": 101,
   "id": "5bb1507b",
   "metadata": {
    "ExecuteTime": {
     "end_time": "2021-05-22T12:07:20.689519Z",
     "start_time": "2021-05-22T12:07:20.667520Z"
    },
    "scrolled": true
   },
   "outputs": [
    {
     "data": {
      "text/plain": [
       "array([0. , 0.5, 1. , 1.5, 2. , 2.5, 3. , 3.5, 4. , 4.5])"
      ]
     },
     "execution_count": 101,
     "metadata": {},
     "output_type": "execute_result"
    }
   ],
   "source": [
    "alpha[:10]"
   ]
  },
  {
   "cell_type": "code",
   "execution_count": 102,
   "id": "053fe14d",
   "metadata": {
    "ExecuteTime": {
     "end_time": "2021-05-22T12:04:29.782650Z",
     "start_time": "2021-05-22T12:04:27.909468Z"
    },
    "scrolled": true
   },
   "outputs": [
    {
     "name": "stderr",
     "output_type": "stream",
     "text": [
      "C:\\Users\\Danny\\anaconda3\\lib\\site-packages\\sklearn\\linear_model\\_coordinate_descent.py:525: UserWarning: Coordinate descent with alpha=0 may lead to unexpected results and is discouraged.\n",
      "  model = cd_fast.enet_coordinate_descent_gram(\n",
      "C:\\Users\\Danny\\anaconda3\\lib\\site-packages\\sklearn\\linear_model\\_coordinate_descent.py:525: ConvergenceWarning: Objective did not converge. You might want to increase the number of iterations. Duality gap: 7901759503.714626, tolerance: 1721422.776125239\n",
      "  model = cd_fast.enet_coordinate_descent_gram(\n",
      "C:\\Users\\Danny\\anaconda3\\lib\\site-packages\\sklearn\\linear_model\\_coordinate_descent.py:525: UserWarning: Coordinate descent with alpha=0 may lead to unexpected results and is discouraged.\n",
      "  model = cd_fast.enet_coordinate_descent_gram(\n",
      "C:\\Users\\Danny\\anaconda3\\lib\\site-packages\\sklearn\\linear_model\\_coordinate_descent.py:525: ConvergenceWarning: Objective did not converge. You might want to increase the number of iterations. Duality gap: 7667806396.466982, tolerance: 1702975.122477584\n",
      "  model = cd_fast.enet_coordinate_descent_gram(\n",
      "C:\\Users\\Danny\\anaconda3\\lib\\site-packages\\sklearn\\linear_model\\_coordinate_descent.py:525: UserWarning: Coordinate descent with alpha=0 may lead to unexpected results and is discouraged.\n",
      "  model = cd_fast.enet_coordinate_descent_gram(\n",
      "C:\\Users\\Danny\\anaconda3\\lib\\site-packages\\sklearn\\linear_model\\_coordinate_descent.py:525: ConvergenceWarning: Objective did not converge. You might want to increase the number of iterations. Duality gap: 7448695266.7335, tolerance: 1631648.1878153528\n",
      "  model = cd_fast.enet_coordinate_descent_gram(\n",
      "C:\\Users\\Danny\\anaconda3\\lib\\site-packages\\sklearn\\linear_model\\_coordinate_descent.py:525: UserWarning: Coordinate descent with alpha=0 may lead to unexpected results and is discouraged.\n",
      "  model = cd_fast.enet_coordinate_descent_gram(\n",
      "C:\\Users\\Danny\\anaconda3\\lib\\site-packages\\sklearn\\linear_model\\_coordinate_descent.py:525: ConvergenceWarning: Objective did not converge. You might want to increase the number of iterations. Duality gap: 7853066727.907236, tolerance: 1739769.4549727403\n",
      "  model = cd_fast.enet_coordinate_descent_gram(\n",
      "C:\\Users\\Danny\\anaconda3\\lib\\site-packages\\sklearn\\linear_model\\_coordinate_descent.py:525: UserWarning: Coordinate descent with alpha=0 may lead to unexpected results and is discouraged.\n",
      "  model = cd_fast.enet_coordinate_descent_gram(\n",
      "C:\\Users\\Danny\\anaconda3\\lib\\site-packages\\sklearn\\linear_model\\_coordinate_descent.py:525: ConvergenceWarning: Objective did not converge. You might want to increase the number of iterations. Duality gap: 8236664097.644651, tolerance: 1805588.2110684656\n",
      "  model = cd_fast.enet_coordinate_descent_gram(\n",
      "C:\\Users\\Danny\\anaconda3\\lib\\site-packages\\sklearn\\linear_model\\_coordinate_descent.py:525: UserWarning: Coordinate descent with alpha=0 may lead to unexpected results and is discouraged.\n",
      "  model = cd_fast.enet_coordinate_descent_gram(\n",
      "C:\\Users\\Danny\\anaconda3\\lib\\site-packages\\sklearn\\linear_model\\_coordinate_descent.py:525: ConvergenceWarning: Objective did not converge. You might want to increase the number of iterations. Duality gap: 6835457636.230602, tolerance: 1524725.6027589529\n",
      "  model = cd_fast.enet_coordinate_descent_gram(\n",
      "C:\\Users\\Danny\\anaconda3\\lib\\site-packages\\sklearn\\linear_model\\_coordinate_descent.py:525: UserWarning: Coordinate descent with alpha=0 may lead to unexpected results and is discouraged.\n",
      "  model = cd_fast.enet_coordinate_descent_gram(\n",
      "C:\\Users\\Danny\\anaconda3\\lib\\site-packages\\sklearn\\linear_model\\_coordinate_descent.py:525: ConvergenceWarning: Objective did not converge. You might want to increase the number of iterations. Duality gap: 6998858027.297775, tolerance: 1520076.712063324\n",
      "  model = cd_fast.enet_coordinate_descent_gram(\n",
      "C:\\Users\\Danny\\anaconda3\\lib\\site-packages\\sklearn\\linear_model\\_coordinate_descent.py:525: UserWarning: Coordinate descent with alpha=0 may lead to unexpected results and is discouraged.\n",
      "  model = cd_fast.enet_coordinate_descent_gram(\n",
      "C:\\Users\\Danny\\anaconda3\\lib\\site-packages\\sklearn\\linear_model\\_coordinate_descent.py:525: ConvergenceWarning: Objective did not converge. You might want to increase the number of iterations. Duality gap: 7893037685.606425, tolerance: 1728185.7283326013\n",
      "  model = cd_fast.enet_coordinate_descent_gram(\n",
      "C:\\Users\\Danny\\anaconda3\\lib\\site-packages\\sklearn\\linear_model\\_coordinate_descent.py:525: UserWarning: Coordinate descent with alpha=0 may lead to unexpected results and is discouraged.\n",
      "  model = cd_fast.enet_coordinate_descent_gram(\n",
      "C:\\Users\\Danny\\anaconda3\\lib\\site-packages\\sklearn\\linear_model\\_coordinate_descent.py:525: ConvergenceWarning: Objective did not converge. You might want to increase the number of iterations. Duality gap: 7382047038.7361965, tolerance: 1611165.9850262033\n",
      "  model = cd_fast.enet_coordinate_descent_gram(\n",
      "C:\\Users\\Danny\\anaconda3\\lib\\site-packages\\sklearn\\linear_model\\_coordinate_descent.py:525: UserWarning: Coordinate descent with alpha=0 may lead to unexpected results and is discouraged.\n",
      "  model = cd_fast.enet_coordinate_descent_gram(\n",
      "C:\\Users\\Danny\\anaconda3\\lib\\site-packages\\sklearn\\linear_model\\_coordinate_descent.py:525: ConvergenceWarning: Objective did not converge. You might want to increase the number of iterations. Duality gap: 7689188787.3005905, tolerance: 1661057.877127259\n",
      "  model = cd_fast.enet_coordinate_descent_gram(\n"
     ]
    },
    {
     "data": {
      "text/plain": [
       "LassoCV(alphas=array([  0. ,   0.5,   1. ,   1.5,   2. ,   2.5,   3. ,   3.5,   4. ,\n",
       "         4.5,   5. ,   5.5,   6. ,   6.5,   7. ,   7.5,   8. ,   8.5,\n",
       "         9. ,   9.5,  10. ,  10.5,  11. ,  11.5,  12. ,  12.5,  13. ,\n",
       "        13.5,  14. ,  14.5,  15. ,  15.5,  16. ,  16.5,  17. ,  17.5,\n",
       "        18. ,  18.5,  19. ,  19.5,  20. ,  20.5,  21. ,  21.5,  22. ,\n",
       "        22.5,  23. ,  23.5,  24. ,  24.5,  25. ,  25.5,  26. ,  26.5,\n",
       "        27. ,  27.5,  28. ,  28.5,  29. ,  29.5,  30. ,  30.5,  31. ,\n",
       "        31.5,  32. ,  32.5,  33. ,  33.5,  34. ,  34.5,  35. ,  35.5,\n",
       "        36. ,  36.5,  37. ,  37.5,  38. ,  38...\n",
       "       216. , 216.5, 217. , 217.5, 218. , 218.5, 219. , 219.5, 220. ,\n",
       "       220.5, 221. , 221.5, 222. , 222.5, 223. , 223.5, 224. , 224.5,\n",
       "       225. , 225.5, 226. , 226.5, 227. , 227.5, 228. , 228.5, 229. ,\n",
       "       229.5, 230. , 230.5, 231. , 231.5, 232. , 232.5, 233. , 233.5,\n",
       "       234. , 234.5, 235. , 235.5, 236. , 236.5, 237. , 237.5, 238. ,\n",
       "       238.5, 239. , 239.5, 240. , 240.5, 241. , 241.5, 242. , 242.5,\n",
       "       243. , 243.5, 244. , 244.5, 245. , 245.5, 246. , 246.5, 247. ,\n",
       "       247.5, 248. , 248.5, 249. , 249.5]),\n",
       "        cv=10)"
      ]
     },
     "execution_count": 102,
     "metadata": {},
     "output_type": "execute_result"
    }
   ],
   "source": [
    "# use cross validation using 10 Fold cross validation\n",
    "Lasso=linear_model.LassoCV(alphas=alpha,fit_intercept=True,normalize=False,cv=10)\n",
    "Lasso.fit(X,y)"
   ]
  },
  {
   "cell_type": "code",
   "execution_count": 142,
   "id": "1b6a001d",
   "metadata": {
    "ExecuteTime": {
     "end_time": "2021-05-22T12:04:29.813655Z",
     "start_time": "2021-05-22T12:04:29.786650Z"
    }
   },
   "outputs": [],
   "source": [
    "#print('Optimal Value for Alpha:{v:0.4f}'.format(v=Lasso.alpha_))\n",
    "#print('\\n')\n",
    "#print('Lasso coefficients: ')\n",
    "#print(Lasso.coef_)\n",
    "#print('\\n')\n",
    "#print('Lasso intercept:')\n",
    "#print(Lasso.intercept_)"
   ]
  },
  {
   "cell_type": "markdown",
   "id": "dce68a07",
   "metadata": {},
   "source": [
    "The alpha that decreases the loss function the most is 30"
   ]
  },
  {
   "cell_type": "code",
   "execution_count": 143,
   "id": "c82ba2a0",
   "metadata": {
    "ExecuteTime": {
     "end_time": "2021-05-22T12:04:30.857838Z",
     "start_time": "2021-05-22T12:04:29.816663Z"
    },
    "scrolled": false
   },
   "outputs": [],
   "source": [
    "Lasso_Coeffs, ax = plt.subplots(1,1,sharex=True,figsize=(10,15))\n",
    "y_pos = np.arange(len(X.columns))\n",
    "\n",
    "#Lasso Regression\n",
    "hedge_Lasso = Lasso.coef_\n",
    "ax.barh(y=y_pos, width=hedge_Lasso, align='center', alpha=0.9,\n",
    "        color=[\"cadetblue\"]*16+['mediumseagreen']*16+[\"darkred\"]+[\"lightcoral\"]*3)\n",
    "ax.set_yticks(y_pos)\n",
    "plt.yticks(size=15)\n",
    "ax.set_yticklabels(X.columns)\n",
    "ax.set_xlabel('Coefficient Value', size=20)\n",
    "ax.set_title('Coefficients for the linear regression model', size=25);\n",
    "plt.close()"
   ]
  },
  {
   "cell_type": "code",
   "execution_count": 136,
   "id": "66aad95d",
   "metadata": {
    "ExecuteTime": {
     "end_time": "2021-05-22T12:04:30.903998Z",
     "start_time": "2021-05-22T12:04:30.860838Z"
    }
   },
   "outputs": [
    {
     "data": {
      "text/html": [
       "<div>\n",
       "<style scoped>\n",
       "    .dataframe tbody tr th:only-of-type {\n",
       "        vertical-align: middle;\n",
       "    }\n",
       "\n",
       "    .dataframe tbody tr th {\n",
       "        vertical-align: top;\n",
       "    }\n",
       "\n",
       "    .dataframe thead th {\n",
       "        text-align: right;\n",
       "    }\n",
       "</style>\n",
       "<table border=\"1\" class=\"dataframe\">\n",
       "  <thead>\n",
       "    <tr style=\"text-align: right;\">\n",
       "      <th></th>\n",
       "      <th>Dummy_variable</th>\n",
       "      <th>Coefficient</th>\n",
       "      <th>N_bonds</th>\n",
       "    </tr>\n",
       "  </thead>\n",
       "  <tbody>\n",
       "    <tr>\n",
       "      <th>35</th>\n",
       "      <td>bond_types_Zero-coupon bonds</td>\n",
       "      <td>1468.17</td>\n",
       "      <td>86</td>\n",
       "    </tr>\n",
       "    <tr>\n",
       "      <th>20</th>\n",
       "      <td>country_France</td>\n",
       "      <td>1163.09</td>\n",
       "      <td>145</td>\n",
       "    </tr>\n",
       "    <tr>\n",
       "      <th>21</th>\n",
       "      <td>country_Germany</td>\n",
       "      <td>648.73</td>\n",
       "      <td>317</td>\n",
       "    </tr>\n",
       "    <tr>\n",
       "      <th>0</th>\n",
       "      <td>industry_Chemical and petrochemical industry</td>\n",
       "      <td>177.91</td>\n",
       "      <td>83</td>\n",
       "    </tr>\n",
       "    <tr>\n",
       "      <th>32</th>\n",
       "      <td>bond_types_Green bonds</td>\n",
       "      <td>124.35</td>\n",
       "      <td>117</td>\n",
       "    </tr>\n",
       "    <tr>\n",
       "      <th>12</th>\n",
       "      <td>industry_Power</td>\n",
       "      <td>82.99</td>\n",
       "      <td>182</td>\n",
       "    </tr>\n",
       "    <tr>\n",
       "      <th>4</th>\n",
       "      <td>industry_Financial institutions</td>\n",
       "      <td>-0.00</td>\n",
       "      <td>115</td>\n",
       "    </tr>\n",
       "    <tr>\n",
       "      <th>19</th>\n",
       "      <td>country_Finland</td>\n",
       "      <td>-0.00</td>\n",
       "      <td>31</td>\n",
       "    </tr>\n",
       "    <tr>\n",
       "      <th>31</th>\n",
       "      <td>country_United Kingdom</td>\n",
       "      <td>-0.00</td>\n",
       "      <td>69</td>\n",
       "    </tr>\n",
       "    <tr>\n",
       "      <th>30</th>\n",
       "      <td>country_Switzerland</td>\n",
       "      <td>0.00</td>\n",
       "      <td>67</td>\n",
       "    </tr>\n",
       "    <tr>\n",
       "      <th>29</th>\n",
       "      <td>country_Sweden_Denmark</td>\n",
       "      <td>0.00</td>\n",
       "      <td>14</td>\n",
       "    </tr>\n",
       "    <tr>\n",
       "      <th>28</th>\n",
       "      <td>country_Spain</td>\n",
       "      <td>-0.00</td>\n",
       "      <td>121</td>\n",
       "    </tr>\n",
       "    <tr>\n",
       "      <th>27</th>\n",
       "      <td>country_Portugal</td>\n",
       "      <td>-0.00</td>\n",
       "      <td>8</td>\n",
       "    </tr>\n",
       "    <tr>\n",
       "      <th>26</th>\n",
       "      <td>country_Non_EU</td>\n",
       "      <td>-0.00</td>\n",
       "      <td>53</td>\n",
       "    </tr>\n",
       "    <tr>\n",
       "      <th>25</th>\n",
       "      <td>country_Netherlands</td>\n",
       "      <td>0.00</td>\n",
       "      <td>168</td>\n",
       "    </tr>\n",
       "    <tr>\n",
       "      <th>24</th>\n",
       "      <td>country_LT_EE</td>\n",
       "      <td>-0.00</td>\n",
       "      <td>4</td>\n",
       "    </tr>\n",
       "    <tr>\n",
       "      <th>22</th>\n",
       "      <td>country_Ireland</td>\n",
       "      <td>0.00</td>\n",
       "      <td>25</td>\n",
       "    </tr>\n",
       "    <tr>\n",
       "      <th>2</th>\n",
       "      <td>industry_Construction and development</td>\n",
       "      <td>0.00</td>\n",
       "      <td>119</td>\n",
       "    </tr>\n",
       "    <tr>\n",
       "      <th>5</th>\n",
       "      <td>industry_Food industry</td>\n",
       "      <td>-0.00</td>\n",
       "      <td>63</td>\n",
       "    </tr>\n",
       "    <tr>\n",
       "      <th>18</th>\n",
       "      <td>country_CZ_SK_RO</td>\n",
       "      <td>-0.00</td>\n",
       "      <td>11</td>\n",
       "    </tr>\n",
       "    <tr>\n",
       "      <th>17</th>\n",
       "      <td>country_BE_LU</td>\n",
       "      <td>0.00</td>\n",
       "      <td>17</td>\n",
       "    </tr>\n",
       "    <tr>\n",
       "      <th>16</th>\n",
       "      <td>country_Austria</td>\n",
       "      <td>-0.00</td>\n",
       "      <td>25</td>\n",
       "    </tr>\n",
       "    <tr>\n",
       "      <th>14</th>\n",
       "      <td>industry_Trade and retail</td>\n",
       "      <td>-0.00</td>\n",
       "      <td>11</td>\n",
       "    </tr>\n",
       "    <tr>\n",
       "      <th>13</th>\n",
       "      <td>industry_Public utilities</td>\n",
       "      <td>0.00</td>\n",
       "      <td>34</td>\n",
       "    </tr>\n",
       "    <tr>\n",
       "      <th>11</th>\n",
       "      <td>industry_Other sectors</td>\n",
       "      <td>-0.00</td>\n",
       "      <td>45</td>\n",
       "    </tr>\n",
       "    <tr>\n",
       "      <th>10</th>\n",
       "      <td>industry_Oil and gas</td>\n",
       "      <td>-0.00</td>\n",
       "      <td>107</td>\n",
       "    </tr>\n",
       "    <tr>\n",
       "      <th>9</th>\n",
       "      <td>industry_Media and Entertainment</td>\n",
       "      <td>-0.00</td>\n",
       "      <td>13</td>\n",
       "    </tr>\n",
       "    <tr>\n",
       "      <th>8</th>\n",
       "      <td>industry_Light industry</td>\n",
       "      <td>0.00</td>\n",
       "      <td>20</td>\n",
       "    </tr>\n",
       "    <tr>\n",
       "      <th>7</th>\n",
       "      <td>industry_Information and High Technologies</td>\n",
       "      <td>0.00</td>\n",
       "      <td>40</td>\n",
       "    </tr>\n",
       "    <tr>\n",
       "      <th>6</th>\n",
       "      <td>industry_Healthсare</td>\n",
       "      <td>0.00</td>\n",
       "      <td>48</td>\n",
       "    </tr>\n",
       "    <tr>\n",
       "      <th>23</th>\n",
       "      <td>country_Italy</td>\n",
       "      <td>-2.83</td>\n",
       "      <td>131</td>\n",
       "    </tr>\n",
       "    <tr>\n",
       "      <th>1</th>\n",
       "      <td>industry_Communication</td>\n",
       "      <td>-356.71</td>\n",
       "      <td>102</td>\n",
       "    </tr>\n",
       "    <tr>\n",
       "      <th>3</th>\n",
       "      <td>industry_Engineering industry</td>\n",
       "      <td>-410.04</td>\n",
       "      <td>145</td>\n",
       "    </tr>\n",
       "    <tr>\n",
       "      <th>33</th>\n",
       "      <td>bond_types_Others</td>\n",
       "      <td>-524.02</td>\n",
       "      <td>81</td>\n",
       "    </tr>\n",
       "    <tr>\n",
       "      <th>15</th>\n",
       "      <td>industry_Transportation</td>\n",
       "      <td>-614.84</td>\n",
       "      <td>79</td>\n",
       "    </tr>\n",
       "    <tr>\n",
       "      <th>34</th>\n",
       "      <td>bond_types_Senior Unsecured</td>\n",
       "      <td>-749.75</td>\n",
       "      <td>922</td>\n",
       "    </tr>\n",
       "  </tbody>\n",
       "</table>\n",
       "</div>"
      ],
      "text/plain": [
       "                                  Dummy_variable  Coefficient  N_bonds\n",
       "35                  bond_types_Zero-coupon bonds      1468.17       86\n",
       "20                                country_France      1163.09      145\n",
       "21                               country_Germany       648.73      317\n",
       "0   industry_Chemical and petrochemical industry       177.91       83\n",
       "32                        bond_types_Green bonds       124.35      117\n",
       "12                                industry_Power        82.99      182\n",
       "4                industry_Financial institutions        -0.00      115\n",
       "19                               country_Finland        -0.00       31\n",
       "31                        country_United Kingdom        -0.00       69\n",
       "30                           country_Switzerland         0.00       67\n",
       "29                        country_Sweden_Denmark         0.00       14\n",
       "28                                 country_Spain        -0.00      121\n",
       "27                              country_Portugal        -0.00        8\n",
       "26                                country_Non_EU        -0.00       53\n",
       "25                           country_Netherlands         0.00      168\n",
       "24                                 country_LT_EE        -0.00        4\n",
       "22                               country_Ireland         0.00       25\n",
       "2          industry_Construction and development         0.00      119\n",
       "5                         industry_Food industry        -0.00       63\n",
       "18                              country_CZ_SK_RO        -0.00       11\n",
       "17                                 country_BE_LU         0.00       17\n",
       "16                               country_Austria        -0.00       25\n",
       "14                     industry_Trade and retail        -0.00       11\n",
       "13                     industry_Public utilities         0.00       34\n",
       "11                        industry_Other sectors        -0.00       45\n",
       "10                          industry_Oil and gas        -0.00      107\n",
       "9               industry_Media and Entertainment        -0.00       13\n",
       "8                        industry_Light industry         0.00       20\n",
       "7     industry_Information and High Technologies         0.00       40\n",
       "6                            industry_Healthсare         0.00       48\n",
       "23                                 country_Italy        -2.83      131\n",
       "1                         industry_Communication      -356.71      102\n",
       "3                  industry_Engineering industry      -410.04      145\n",
       "33                             bond_types_Others      -524.02       81\n",
       "15                       industry_Transportation      -614.84       79\n",
       "34                   bond_types_Senior Unsecured      -749.75      922"
      ]
     },
     "execution_count": 136,
     "metadata": {},
     "output_type": "execute_result"
    }
   ],
   "source": [
    "ResultingDf=pd.DataFrame(data={\"Dummy_variable\":X.columns,\"Coefficient\":np.round(Lasso.coef_,2),\"N_bonds\":X.sum()})\n",
    "ResultingDf=ResultingDf.reset_index()[[\"Dummy_variable\",\"Coefficient\",\"N_bonds\"]]\n",
    "Las_cv=ResultingDf.sort_values(by=\"Coefficient\", ascending=False)\n",
    "Las_cv"
   ]
  },
  {
   "cell_type": "markdown",
   "id": "bd10b6c4",
   "metadata": {
    "ExecuteTime": {
     "end_time": "2021-05-14T20:15:52.405044Z",
     "start_time": "2021-05-14T20:15:52.385037Z"
    }
   },
   "source": [
    "# Conclussions\n",
    "\n",
    "<b>Conclussion: Yes, the European Central bank has been supporting the green economy when purchasing corporate\n",
    "bonds, although it is not the main priority for the bank to support.</b>\n",
    "\n",
    "Normally the bonds that are supported the most are the ones whose company is located in \"France\" and \"Germany\", as well as the \"Zero-coupon\" bonds.\n",
    "\n",
    "The big coefficient for the Zero coupon bonds can be explain more than the decision of the bank to support those types of bonds, because of the way we created our outcome variable. Since we were not able to find the exact price at which the bank bought the bond, we used the face value as the price. Due to the nature of Zero-coupon bonds of not giving any interest, this bonds are usually bought at a smaller price than the face value. Thats why simply by construction of our model, the surplus for Zero-coupon bonds will be high.\n",
    "\n",
    "But the Zero-coupon bonds only account for the 7% percent of the analyzed bonds. Regarding the other types of bonds (93% of the total), all three coefficients were non-zero, but the one associated to green-bonds is positive (beta=127) whereas the other two are negative and big (beta= -750 and -524). Since the difference between the coefficients of green-bonds and the other two is very big, we can conclude that the ECB is supporting more the green-bonds than the other two types of bonds.\n",
    "\n",
    "\n",
    "Furthermore, we saw in the correspondence analysis that the industry \"Power\" was very related to green bonds. In this model, the coefficient \"Power\" although small, is positive (beta=83), so these corroborates again the conclussion that the European Central Bank is supporting the green economy.\n",
    "\n",
    "We also see that the fact of the green bond coefficient being zero could not be entirely due to the small number of green bonds, since we see that 5 of the other 11 non-zero coefficients are related to variables whose number of bonds belonging to is lower than the ones for green bonds."
   ]
  },
  {
   "cell_type": "markdown",
   "id": "5d08d6ff",
   "metadata": {},
   "source": [
    "# Study limitations\n",
    "\n",
    "Although helpful, this analysis is not perfect since we made some assumptions beforehand. Some of the assumptions we made were:\n",
    "\n",
    "* <b>Fixed inflation rate</b>\n",
    "\n",
    "For calculating the present value of the contributions of the company to the ECB, we considered a fixed inflation rate.\n",
    "\n",
    "* <b>Cost bond equal to the face value</b>\n",
    "\n",
    "Given the fact that we were not able to find the exact cost at which the ECB bought the bonds, we were forced to use the face value of a bond as its price. This will not be realistic to happen for Zero-coupon bonds.\n",
    "\n",
    "\n",
    "\n",
    "Additionally, for calculating the present value of the interest and face value, we did not considered the exact date at which the bonds were issued or matured, we only the year of those dates.\n"
   ]
  },
  {
   "cell_type": "code",
   "execution_count": null,
   "id": "e967d4dc",
   "metadata": {},
   "outputs": [],
   "source": []
  }
 ],
 "metadata": {
  "kernelspec": {
   "display_name": "Python 3",
   "language": "python",
   "name": "python3"
  },
  "language_info": {
   "codemirror_mode": {
    "name": "ipython",
    "version": 3
   },
   "file_extension": ".py",
   "mimetype": "text/x-python",
   "name": "python",
   "nbconvert_exporter": "python",
   "pygments_lexer": "ipython3",
   "version": "3.8.5"
  },
  "latex_envs": {
   "LaTeX_envs_menu_present": true,
   "autoclose": false,
   "autocomplete": true,
   "bibliofile": "biblio.bib",
   "cite_by": "apalike",
   "current_citInitial": 1,
   "eqLabelWithNumbers": true,
   "eqNumInitial": 1,
   "hotkeys": {
    "equation": "Ctrl-E",
    "itemize": "Ctrl-I"
   },
   "labels_anchors": false,
   "latex_user_defs": false,
   "report_style_numbering": false,
   "user_envs_cfg": false
  },
  "toc": {
   "base_numbering": 1,
   "nav_menu": {},
   "number_sections": true,
   "sideBar": true,
   "skip_h1_title": false,
   "title_cell": "Table of Contents",
   "title_sidebar": "Contents",
   "toc_cell": false,
   "toc_position": {},
   "toc_section_display": true,
   "toc_window_display": true
  },
  "varInspector": {
   "cols": {
    "lenName": 16,
    "lenType": 16,
    "lenVar": 40
   },
   "kernels_config": {
    "python": {
     "delete_cmd_postfix": "",
     "delete_cmd_prefix": "del ",
     "library": "var_list.py",
     "varRefreshCmd": "print(var_dic_list())"
    },
    "r": {
     "delete_cmd_postfix": ") ",
     "delete_cmd_prefix": "rm(",
     "library": "var_list.r",
     "varRefreshCmd": "cat(var_dic_list()) "
    }
   },
   "position": {
    "height": "327.646px",
    "left": "1369.33px",
    "right": "20px",
    "top": "136px",
    "width": "350px"
   },
   "types_to_exclude": [
    "module",
    "function",
    "builtin_function_or_method",
    "instance",
    "_Feature"
   ],
   "window_display": false
  }
 },
 "nbformat": 4,
 "nbformat_minor": 5
}
